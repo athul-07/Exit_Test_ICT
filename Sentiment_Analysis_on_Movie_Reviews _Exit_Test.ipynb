{
  "nbformat": 4,
  "nbformat_minor": 0,
  "metadata": {
    "colab": {
      "provenance": []
    },
    "kernelspec": {
      "name": "python3",
      "display_name": "Python 3"
    },
    "language_info": {
      "name": "python"
    }
  },
  "cells": [
    {
      "cell_type": "code",
      "execution_count": 2,
      "metadata": {
        "id": "Utrn332aou2H"
      },
      "outputs": [],
      "source": [
        "import numpy as np\n",
        "import pandas as pd\n",
        "import matplotlib.pyplot as plt\n",
        "import re\n",
        "import nltk\n",
        "import spacy\n",
        "import string\n",
        "\n",
        "from nltk.corpus import stopwords\n",
        "from nltk.tokenize import word_tokenize\n",
        "from nltk.stem import WordNetLemmatizer\n",
        "\n",
        "from sklearn.feature_extraction.text import CountVectorizer\n",
        "from sklearn.feature_extraction.text import TfidfVectorizer"
      ]
    },
    {
      "cell_type": "code",
      "source": [
        "#Reading the dataset Labeled Train Data\n",
        "data = pd.read_csv('labeledTrainData.tsv', delimiter='\\t')"
      ],
      "metadata": {
        "id": "_94F8twFyGUw"
      },
      "execution_count": 5,
      "outputs": []
    },
    {
      "cell_type": "code",
      "source": [
        "#Displays the data\n",
        "data.head()"
      ],
      "metadata": {
        "colab": {
          "base_uri": "https://localhost:8080/",
          "height": 206
        },
        "id": "JbWW4BXNyin1",
        "outputId": "490d0f8a-9c3a-46a1-af86-2aecac4501e8"
      },
      "execution_count": 7,
      "outputs": [
        {
          "output_type": "execute_result",
          "data": {
            "text/plain": [
              "       id  sentiment                                             review\n",
              "0  5814_8          1  With all this stuff going down at the moment w...\n",
              "1  2381_9          1  \\The Classic War of the Worlds\\\" by Timothy Hi...\n",
              "2  7759_3          0  The film starts with a manager (Nicholas Bell)...\n",
              "3  3630_4          0  It must be assumed that those who praised this...\n",
              "4  9495_8          1  Superbly trashy and wondrously unpretentious 8..."
            ],
            "text/html": [
              "\n",
              "  <div id=\"df-7fd98a96-408d-4067-b941-f6c499b1baed\" class=\"colab-df-container\">\n",
              "    <div>\n",
              "<style scoped>\n",
              "    .dataframe tbody tr th:only-of-type {\n",
              "        vertical-align: middle;\n",
              "    }\n",
              "\n",
              "    .dataframe tbody tr th {\n",
              "        vertical-align: top;\n",
              "    }\n",
              "\n",
              "    .dataframe thead th {\n",
              "        text-align: right;\n",
              "    }\n",
              "</style>\n",
              "<table border=\"1\" class=\"dataframe\">\n",
              "  <thead>\n",
              "    <tr style=\"text-align: right;\">\n",
              "      <th></th>\n",
              "      <th>id</th>\n",
              "      <th>sentiment</th>\n",
              "      <th>review</th>\n",
              "    </tr>\n",
              "  </thead>\n",
              "  <tbody>\n",
              "    <tr>\n",
              "      <th>0</th>\n",
              "      <td>5814_8</td>\n",
              "      <td>1</td>\n",
              "      <td>With all this stuff going down at the moment w...</td>\n",
              "    </tr>\n",
              "    <tr>\n",
              "      <th>1</th>\n",
              "      <td>2381_9</td>\n",
              "      <td>1</td>\n",
              "      <td>\\The Classic War of the Worlds\\\" by Timothy Hi...</td>\n",
              "    </tr>\n",
              "    <tr>\n",
              "      <th>2</th>\n",
              "      <td>7759_3</td>\n",
              "      <td>0</td>\n",
              "      <td>The film starts with a manager (Nicholas Bell)...</td>\n",
              "    </tr>\n",
              "    <tr>\n",
              "      <th>3</th>\n",
              "      <td>3630_4</td>\n",
              "      <td>0</td>\n",
              "      <td>It must be assumed that those who praised this...</td>\n",
              "    </tr>\n",
              "    <tr>\n",
              "      <th>4</th>\n",
              "      <td>9495_8</td>\n",
              "      <td>1</td>\n",
              "      <td>Superbly trashy and wondrously unpretentious 8...</td>\n",
              "    </tr>\n",
              "  </tbody>\n",
              "</table>\n",
              "</div>\n",
              "    <div class=\"colab-df-buttons\">\n",
              "\n",
              "  <div class=\"colab-df-container\">\n",
              "    <button class=\"colab-df-convert\" onclick=\"convertToInteractive('df-7fd98a96-408d-4067-b941-f6c499b1baed')\"\n",
              "            title=\"Convert this dataframe to an interactive table.\"\n",
              "            style=\"display:none;\">\n",
              "\n",
              "  <svg xmlns=\"http://www.w3.org/2000/svg\" height=\"24px\" viewBox=\"0 -960 960 960\">\n",
              "    <path d=\"M120-120v-720h720v720H120Zm60-500h600v-160H180v160Zm220 220h160v-160H400v160Zm0 220h160v-160H400v160ZM180-400h160v-160H180v160Zm440 0h160v-160H620v160ZM180-180h160v-160H180v160Zm440 0h160v-160H620v160Z\"/>\n",
              "  </svg>\n",
              "    </button>\n",
              "\n",
              "  <style>\n",
              "    .colab-df-container {\n",
              "      display:flex;\n",
              "      gap: 12px;\n",
              "    }\n",
              "\n",
              "    .colab-df-convert {\n",
              "      background-color: #E8F0FE;\n",
              "      border: none;\n",
              "      border-radius: 50%;\n",
              "      cursor: pointer;\n",
              "      display: none;\n",
              "      fill: #1967D2;\n",
              "      height: 32px;\n",
              "      padding: 0 0 0 0;\n",
              "      width: 32px;\n",
              "    }\n",
              "\n",
              "    .colab-df-convert:hover {\n",
              "      background-color: #E2EBFA;\n",
              "      box-shadow: 0px 1px 2px rgba(60, 64, 67, 0.3), 0px 1px 3px 1px rgba(60, 64, 67, 0.15);\n",
              "      fill: #174EA6;\n",
              "    }\n",
              "\n",
              "    .colab-df-buttons div {\n",
              "      margin-bottom: 4px;\n",
              "    }\n",
              "\n",
              "    [theme=dark] .colab-df-convert {\n",
              "      background-color: #3B4455;\n",
              "      fill: #D2E3FC;\n",
              "    }\n",
              "\n",
              "    [theme=dark] .colab-df-convert:hover {\n",
              "      background-color: #434B5C;\n",
              "      box-shadow: 0px 1px 3px 1px rgba(0, 0, 0, 0.15);\n",
              "      filter: drop-shadow(0px 1px 2px rgba(0, 0, 0, 0.3));\n",
              "      fill: #FFFFFF;\n",
              "    }\n",
              "  </style>\n",
              "\n",
              "    <script>\n",
              "      const buttonEl =\n",
              "        document.querySelector('#df-7fd98a96-408d-4067-b941-f6c499b1baed button.colab-df-convert');\n",
              "      buttonEl.style.display =\n",
              "        google.colab.kernel.accessAllowed ? 'block' : 'none';\n",
              "\n",
              "      async function convertToInteractive(key) {\n",
              "        const element = document.querySelector('#df-7fd98a96-408d-4067-b941-f6c499b1baed');\n",
              "        const dataTable =\n",
              "          await google.colab.kernel.invokeFunction('convertToInteractive',\n",
              "                                                    [key], {});\n",
              "        if (!dataTable) return;\n",
              "\n",
              "        const docLinkHtml = 'Like what you see? Visit the ' +\n",
              "          '<a target=\"_blank\" href=https://colab.research.google.com/notebooks/data_table.ipynb>data table notebook</a>'\n",
              "          + ' to learn more about interactive tables.';\n",
              "        element.innerHTML = '';\n",
              "        dataTable['output_type'] = 'display_data';\n",
              "        await google.colab.output.renderOutput(dataTable, element);\n",
              "        const docLink = document.createElement('div');\n",
              "        docLink.innerHTML = docLinkHtml;\n",
              "        element.appendChild(docLink);\n",
              "      }\n",
              "    </script>\n",
              "  </div>\n",
              "\n",
              "\n",
              "<div id=\"df-38ead79a-0fb8-421c-bc9f-7580f9e595bc\">\n",
              "  <button class=\"colab-df-quickchart\" onclick=\"quickchart('df-38ead79a-0fb8-421c-bc9f-7580f9e595bc')\"\n",
              "            title=\"Suggest charts\"\n",
              "            style=\"display:none;\">\n",
              "\n",
              "<svg xmlns=\"http://www.w3.org/2000/svg\" height=\"24px\"viewBox=\"0 0 24 24\"\n",
              "     width=\"24px\">\n",
              "    <g>\n",
              "        <path d=\"M19 3H5c-1.1 0-2 .9-2 2v14c0 1.1.9 2 2 2h14c1.1 0 2-.9 2-2V5c0-1.1-.9-2-2-2zM9 17H7v-7h2v7zm4 0h-2V7h2v10zm4 0h-2v-4h2v4z\"/>\n",
              "    </g>\n",
              "</svg>\n",
              "  </button>\n",
              "\n",
              "<style>\n",
              "  .colab-df-quickchart {\n",
              "      --bg-color: #E8F0FE;\n",
              "      --fill-color: #1967D2;\n",
              "      --hover-bg-color: #E2EBFA;\n",
              "      --hover-fill-color: #174EA6;\n",
              "      --disabled-fill-color: #AAA;\n",
              "      --disabled-bg-color: #DDD;\n",
              "  }\n",
              "\n",
              "  [theme=dark] .colab-df-quickchart {\n",
              "      --bg-color: #3B4455;\n",
              "      --fill-color: #D2E3FC;\n",
              "      --hover-bg-color: #434B5C;\n",
              "      --hover-fill-color: #FFFFFF;\n",
              "      --disabled-bg-color: #3B4455;\n",
              "      --disabled-fill-color: #666;\n",
              "  }\n",
              "\n",
              "  .colab-df-quickchart {\n",
              "    background-color: var(--bg-color);\n",
              "    border: none;\n",
              "    border-radius: 50%;\n",
              "    cursor: pointer;\n",
              "    display: none;\n",
              "    fill: var(--fill-color);\n",
              "    height: 32px;\n",
              "    padding: 0;\n",
              "    width: 32px;\n",
              "  }\n",
              "\n",
              "  .colab-df-quickchart:hover {\n",
              "    background-color: var(--hover-bg-color);\n",
              "    box-shadow: 0 1px 2px rgba(60, 64, 67, 0.3), 0 1px 3px 1px rgba(60, 64, 67, 0.15);\n",
              "    fill: var(--button-hover-fill-color);\n",
              "  }\n",
              "\n",
              "  .colab-df-quickchart-complete:disabled,\n",
              "  .colab-df-quickchart-complete:disabled:hover {\n",
              "    background-color: var(--disabled-bg-color);\n",
              "    fill: var(--disabled-fill-color);\n",
              "    box-shadow: none;\n",
              "  }\n",
              "\n",
              "  .colab-df-spinner {\n",
              "    border: 2px solid var(--fill-color);\n",
              "    border-color: transparent;\n",
              "    border-bottom-color: var(--fill-color);\n",
              "    animation:\n",
              "      spin 1s steps(1) infinite;\n",
              "  }\n",
              "\n",
              "  @keyframes spin {\n",
              "    0% {\n",
              "      border-color: transparent;\n",
              "      border-bottom-color: var(--fill-color);\n",
              "      border-left-color: var(--fill-color);\n",
              "    }\n",
              "    20% {\n",
              "      border-color: transparent;\n",
              "      border-left-color: var(--fill-color);\n",
              "      border-top-color: var(--fill-color);\n",
              "    }\n",
              "    30% {\n",
              "      border-color: transparent;\n",
              "      border-left-color: var(--fill-color);\n",
              "      border-top-color: var(--fill-color);\n",
              "      border-right-color: var(--fill-color);\n",
              "    }\n",
              "    40% {\n",
              "      border-color: transparent;\n",
              "      border-right-color: var(--fill-color);\n",
              "      border-top-color: var(--fill-color);\n",
              "    }\n",
              "    60% {\n",
              "      border-color: transparent;\n",
              "      border-right-color: var(--fill-color);\n",
              "    }\n",
              "    80% {\n",
              "      border-color: transparent;\n",
              "      border-right-color: var(--fill-color);\n",
              "      border-bottom-color: var(--fill-color);\n",
              "    }\n",
              "    90% {\n",
              "      border-color: transparent;\n",
              "      border-bottom-color: var(--fill-color);\n",
              "    }\n",
              "  }\n",
              "</style>\n",
              "\n",
              "  <script>\n",
              "    async function quickchart(key) {\n",
              "      const quickchartButtonEl =\n",
              "        document.querySelector('#' + key + ' button');\n",
              "      quickchartButtonEl.disabled = true;  // To prevent multiple clicks.\n",
              "      quickchartButtonEl.classList.add('colab-df-spinner');\n",
              "      try {\n",
              "        const charts = await google.colab.kernel.invokeFunction(\n",
              "            'suggestCharts', [key], {});\n",
              "      } catch (error) {\n",
              "        console.error('Error during call to suggestCharts:', error);\n",
              "      }\n",
              "      quickchartButtonEl.classList.remove('colab-df-spinner');\n",
              "      quickchartButtonEl.classList.add('colab-df-quickchart-complete');\n",
              "    }\n",
              "    (() => {\n",
              "      let quickchartButtonEl =\n",
              "        document.querySelector('#df-38ead79a-0fb8-421c-bc9f-7580f9e595bc button');\n",
              "      quickchartButtonEl.style.display =\n",
              "        google.colab.kernel.accessAllowed ? 'block' : 'none';\n",
              "    })();\n",
              "  </script>\n",
              "</div>\n",
              "\n",
              "    </div>\n",
              "  </div>\n"
            ]
          },
          "metadata": {},
          "execution_count": 7
        }
      ]
    },
    {
      "cell_type": "code",
      "source": [
        "#number of rows and columns\n",
        "data.shape"
      ],
      "metadata": {
        "colab": {
          "base_uri": "https://localhost:8080/"
        },
        "id": "MmZuUAJ2yj4r",
        "outputId": "5bcb9361-2e24-4b23-f674-ea3f76b43b45"
      },
      "execution_count": 10,
      "outputs": [
        {
          "output_type": "execute_result",
          "data": {
            "text/plain": [
              "(25000, 3)"
            ]
          },
          "metadata": {},
          "execution_count": 10
        }
      ]
    },
    {
      "cell_type": "code",
      "source": [
        "#types of data in each column\n",
        "data.dtypes"
      ],
      "metadata": {
        "colab": {
          "base_uri": "https://localhost:8080/"
        },
        "id": "1LpCsg0M0Akr",
        "outputId": "b972d35f-b6cf-46b8-d685-459f6132c2c2"
      },
      "execution_count": 11,
      "outputs": [
        {
          "output_type": "execute_result",
          "data": {
            "text/plain": [
              "id           object\n",
              "sentiment     int64\n",
              "review       object\n",
              "dtype: object"
            ]
          },
          "metadata": {},
          "execution_count": 11
        }
      ]
    },
    {
      "cell_type": "code",
      "source": [
        "#Dataset summary\n",
        "data.describe()"
      ],
      "metadata": {
        "colab": {
          "base_uri": "https://localhost:8080/",
          "height": 300
        },
        "id": "j4uoXS8T0W1M",
        "outputId": "0c7a30a1-d846-405c-faab-37f94be71e54"
      },
      "execution_count": 13,
      "outputs": [
        {
          "output_type": "execute_result",
          "data": {
            "text/plain": [
              "         sentiment\n",
              "count  25000.00000\n",
              "mean       0.50000\n",
              "std        0.50001\n",
              "min        0.00000\n",
              "25%        0.00000\n",
              "50%        0.50000\n",
              "75%        1.00000\n",
              "max        1.00000"
            ],
            "text/html": [
              "\n",
              "  <div id=\"df-d0ecaf31-26fc-4288-a042-6840bce64c12\" class=\"colab-df-container\">\n",
              "    <div>\n",
              "<style scoped>\n",
              "    .dataframe tbody tr th:only-of-type {\n",
              "        vertical-align: middle;\n",
              "    }\n",
              "\n",
              "    .dataframe tbody tr th {\n",
              "        vertical-align: top;\n",
              "    }\n",
              "\n",
              "    .dataframe thead th {\n",
              "        text-align: right;\n",
              "    }\n",
              "</style>\n",
              "<table border=\"1\" class=\"dataframe\">\n",
              "  <thead>\n",
              "    <tr style=\"text-align: right;\">\n",
              "      <th></th>\n",
              "      <th>sentiment</th>\n",
              "    </tr>\n",
              "  </thead>\n",
              "  <tbody>\n",
              "    <tr>\n",
              "      <th>count</th>\n",
              "      <td>25000.00000</td>\n",
              "    </tr>\n",
              "    <tr>\n",
              "      <th>mean</th>\n",
              "      <td>0.50000</td>\n",
              "    </tr>\n",
              "    <tr>\n",
              "      <th>std</th>\n",
              "      <td>0.50001</td>\n",
              "    </tr>\n",
              "    <tr>\n",
              "      <th>min</th>\n",
              "      <td>0.00000</td>\n",
              "    </tr>\n",
              "    <tr>\n",
              "      <th>25%</th>\n",
              "      <td>0.00000</td>\n",
              "    </tr>\n",
              "    <tr>\n",
              "      <th>50%</th>\n",
              "      <td>0.50000</td>\n",
              "    </tr>\n",
              "    <tr>\n",
              "      <th>75%</th>\n",
              "      <td>1.00000</td>\n",
              "    </tr>\n",
              "    <tr>\n",
              "      <th>max</th>\n",
              "      <td>1.00000</td>\n",
              "    </tr>\n",
              "  </tbody>\n",
              "</table>\n",
              "</div>\n",
              "    <div class=\"colab-df-buttons\">\n",
              "\n",
              "  <div class=\"colab-df-container\">\n",
              "    <button class=\"colab-df-convert\" onclick=\"convertToInteractive('df-d0ecaf31-26fc-4288-a042-6840bce64c12')\"\n",
              "            title=\"Convert this dataframe to an interactive table.\"\n",
              "            style=\"display:none;\">\n",
              "\n",
              "  <svg xmlns=\"http://www.w3.org/2000/svg\" height=\"24px\" viewBox=\"0 -960 960 960\">\n",
              "    <path d=\"M120-120v-720h720v720H120Zm60-500h600v-160H180v160Zm220 220h160v-160H400v160Zm0 220h160v-160H400v160ZM180-400h160v-160H180v160Zm440 0h160v-160H620v160ZM180-180h160v-160H180v160Zm440 0h160v-160H620v160Z\"/>\n",
              "  </svg>\n",
              "    </button>\n",
              "\n",
              "  <style>\n",
              "    .colab-df-container {\n",
              "      display:flex;\n",
              "      gap: 12px;\n",
              "    }\n",
              "\n",
              "    .colab-df-convert {\n",
              "      background-color: #E8F0FE;\n",
              "      border: none;\n",
              "      border-radius: 50%;\n",
              "      cursor: pointer;\n",
              "      display: none;\n",
              "      fill: #1967D2;\n",
              "      height: 32px;\n",
              "      padding: 0 0 0 0;\n",
              "      width: 32px;\n",
              "    }\n",
              "\n",
              "    .colab-df-convert:hover {\n",
              "      background-color: #E2EBFA;\n",
              "      box-shadow: 0px 1px 2px rgba(60, 64, 67, 0.3), 0px 1px 3px 1px rgba(60, 64, 67, 0.15);\n",
              "      fill: #174EA6;\n",
              "    }\n",
              "\n",
              "    .colab-df-buttons div {\n",
              "      margin-bottom: 4px;\n",
              "    }\n",
              "\n",
              "    [theme=dark] .colab-df-convert {\n",
              "      background-color: #3B4455;\n",
              "      fill: #D2E3FC;\n",
              "    }\n",
              "\n",
              "    [theme=dark] .colab-df-convert:hover {\n",
              "      background-color: #434B5C;\n",
              "      box-shadow: 0px 1px 3px 1px rgba(0, 0, 0, 0.15);\n",
              "      filter: drop-shadow(0px 1px 2px rgba(0, 0, 0, 0.3));\n",
              "      fill: #FFFFFF;\n",
              "    }\n",
              "  </style>\n",
              "\n",
              "    <script>\n",
              "      const buttonEl =\n",
              "        document.querySelector('#df-d0ecaf31-26fc-4288-a042-6840bce64c12 button.colab-df-convert');\n",
              "      buttonEl.style.display =\n",
              "        google.colab.kernel.accessAllowed ? 'block' : 'none';\n",
              "\n",
              "      async function convertToInteractive(key) {\n",
              "        const element = document.querySelector('#df-d0ecaf31-26fc-4288-a042-6840bce64c12');\n",
              "        const dataTable =\n",
              "          await google.colab.kernel.invokeFunction('convertToInteractive',\n",
              "                                                    [key], {});\n",
              "        if (!dataTable) return;\n",
              "\n",
              "        const docLinkHtml = 'Like what you see? Visit the ' +\n",
              "          '<a target=\"_blank\" href=https://colab.research.google.com/notebooks/data_table.ipynb>data table notebook</a>'\n",
              "          + ' to learn more about interactive tables.';\n",
              "        element.innerHTML = '';\n",
              "        dataTable['output_type'] = 'display_data';\n",
              "        await google.colab.output.renderOutput(dataTable, element);\n",
              "        const docLink = document.createElement('div');\n",
              "        docLink.innerHTML = docLinkHtml;\n",
              "        element.appendChild(docLink);\n",
              "      }\n",
              "    </script>\n",
              "  </div>\n",
              "\n",
              "\n",
              "<div id=\"df-89f969c2-8d71-4c98-96a5-b9cc8410d407\">\n",
              "  <button class=\"colab-df-quickchart\" onclick=\"quickchart('df-89f969c2-8d71-4c98-96a5-b9cc8410d407')\"\n",
              "            title=\"Suggest charts\"\n",
              "            style=\"display:none;\">\n",
              "\n",
              "<svg xmlns=\"http://www.w3.org/2000/svg\" height=\"24px\"viewBox=\"0 0 24 24\"\n",
              "     width=\"24px\">\n",
              "    <g>\n",
              "        <path d=\"M19 3H5c-1.1 0-2 .9-2 2v14c0 1.1.9 2 2 2h14c1.1 0 2-.9 2-2V5c0-1.1-.9-2-2-2zM9 17H7v-7h2v7zm4 0h-2V7h2v10zm4 0h-2v-4h2v4z\"/>\n",
              "    </g>\n",
              "</svg>\n",
              "  </button>\n",
              "\n",
              "<style>\n",
              "  .colab-df-quickchart {\n",
              "      --bg-color: #E8F0FE;\n",
              "      --fill-color: #1967D2;\n",
              "      --hover-bg-color: #E2EBFA;\n",
              "      --hover-fill-color: #174EA6;\n",
              "      --disabled-fill-color: #AAA;\n",
              "      --disabled-bg-color: #DDD;\n",
              "  }\n",
              "\n",
              "  [theme=dark] .colab-df-quickchart {\n",
              "      --bg-color: #3B4455;\n",
              "      --fill-color: #D2E3FC;\n",
              "      --hover-bg-color: #434B5C;\n",
              "      --hover-fill-color: #FFFFFF;\n",
              "      --disabled-bg-color: #3B4455;\n",
              "      --disabled-fill-color: #666;\n",
              "  }\n",
              "\n",
              "  .colab-df-quickchart {\n",
              "    background-color: var(--bg-color);\n",
              "    border: none;\n",
              "    border-radius: 50%;\n",
              "    cursor: pointer;\n",
              "    display: none;\n",
              "    fill: var(--fill-color);\n",
              "    height: 32px;\n",
              "    padding: 0;\n",
              "    width: 32px;\n",
              "  }\n",
              "\n",
              "  .colab-df-quickchart:hover {\n",
              "    background-color: var(--hover-bg-color);\n",
              "    box-shadow: 0 1px 2px rgba(60, 64, 67, 0.3), 0 1px 3px 1px rgba(60, 64, 67, 0.15);\n",
              "    fill: var(--button-hover-fill-color);\n",
              "  }\n",
              "\n",
              "  .colab-df-quickchart-complete:disabled,\n",
              "  .colab-df-quickchart-complete:disabled:hover {\n",
              "    background-color: var(--disabled-bg-color);\n",
              "    fill: var(--disabled-fill-color);\n",
              "    box-shadow: none;\n",
              "  }\n",
              "\n",
              "  .colab-df-spinner {\n",
              "    border: 2px solid var(--fill-color);\n",
              "    border-color: transparent;\n",
              "    border-bottom-color: var(--fill-color);\n",
              "    animation:\n",
              "      spin 1s steps(1) infinite;\n",
              "  }\n",
              "\n",
              "  @keyframes spin {\n",
              "    0% {\n",
              "      border-color: transparent;\n",
              "      border-bottom-color: var(--fill-color);\n",
              "      border-left-color: var(--fill-color);\n",
              "    }\n",
              "    20% {\n",
              "      border-color: transparent;\n",
              "      border-left-color: var(--fill-color);\n",
              "      border-top-color: var(--fill-color);\n",
              "    }\n",
              "    30% {\n",
              "      border-color: transparent;\n",
              "      border-left-color: var(--fill-color);\n",
              "      border-top-color: var(--fill-color);\n",
              "      border-right-color: var(--fill-color);\n",
              "    }\n",
              "    40% {\n",
              "      border-color: transparent;\n",
              "      border-right-color: var(--fill-color);\n",
              "      border-top-color: var(--fill-color);\n",
              "    }\n",
              "    60% {\n",
              "      border-color: transparent;\n",
              "      border-right-color: var(--fill-color);\n",
              "    }\n",
              "    80% {\n",
              "      border-color: transparent;\n",
              "      border-right-color: var(--fill-color);\n",
              "      border-bottom-color: var(--fill-color);\n",
              "    }\n",
              "    90% {\n",
              "      border-color: transparent;\n",
              "      border-bottom-color: var(--fill-color);\n",
              "    }\n",
              "  }\n",
              "</style>\n",
              "\n",
              "  <script>\n",
              "    async function quickchart(key) {\n",
              "      const quickchartButtonEl =\n",
              "        document.querySelector('#' + key + ' button');\n",
              "      quickchartButtonEl.disabled = true;  // To prevent multiple clicks.\n",
              "      quickchartButtonEl.classList.add('colab-df-spinner');\n",
              "      try {\n",
              "        const charts = await google.colab.kernel.invokeFunction(\n",
              "            'suggestCharts', [key], {});\n",
              "      } catch (error) {\n",
              "        console.error('Error during call to suggestCharts:', error);\n",
              "      }\n",
              "      quickchartButtonEl.classList.remove('colab-df-spinner');\n",
              "      quickchartButtonEl.classList.add('colab-df-quickchart-complete');\n",
              "    }\n",
              "    (() => {\n",
              "      let quickchartButtonEl =\n",
              "        document.querySelector('#df-89f969c2-8d71-4c98-96a5-b9cc8410d407 button');\n",
              "      quickchartButtonEl.style.display =\n",
              "        google.colab.kernel.accessAllowed ? 'block' : 'none';\n",
              "    })();\n",
              "  </script>\n",
              "</div>\n",
              "\n",
              "    </div>\n",
              "  </div>\n"
            ]
          },
          "metadata": {},
          "execution_count": 13
        }
      ]
    },
    {
      "cell_type": "code",
      "source": [
        "#chechking for the null values\n",
        "data.isna().sum()"
      ],
      "metadata": {
        "colab": {
          "base_uri": "https://localhost:8080/"
        },
        "id": "tCDOnoZM0jLc",
        "outputId": "f2153265-d857-4476-f0b1-710ca5e70834"
      },
      "execution_count": 14,
      "outputs": [
        {
          "output_type": "execute_result",
          "data": {
            "text/plain": [
              "id           0\n",
              "sentiment    0\n",
              "review       0\n",
              "dtype: int64"
            ]
          },
          "metadata": {},
          "execution_count": 14
        }
      ]
    },
    {
      "cell_type": "code",
      "source": [
        "#checking the sentiment count\n",
        "data['sentiment'].value_counts()"
      ],
      "metadata": {
        "colab": {
          "base_uri": "https://localhost:8080/"
        },
        "id": "GN7hu1p602oB",
        "outputId": "6269d44d-9b2d-4e0e-bdeb-f633197c9409"
      },
      "execution_count": 15,
      "outputs": [
        {
          "output_type": "execute_result",
          "data": {
            "text/plain": [
              "1    12500\n",
              "0    12500\n",
              "Name: sentiment, dtype: int64"
            ]
          },
          "metadata": {},
          "execution_count": 15
        }
      ]
    },
    {
      "cell_type": "code",
      "source": [
        "data.duplicated().sum()"
      ],
      "metadata": {
        "colab": {
          "base_uri": "https://localhost:8080/"
        },
        "id": "og_LhsAA1uJV",
        "outputId": "4de41f09-8fb2-4a28-8a79-a7d81d735208"
      },
      "execution_count": 16,
      "outputs": [
        {
          "output_type": "execute_result",
          "data": {
            "text/plain": [
              "0"
            ]
          },
          "metadata": {},
          "execution_count": 16
        }
      ]
    },
    {
      "cell_type": "code",
      "source": [
        "#No Duplicate values are present."
      ],
      "metadata": {
        "id": "ATQPL06w3QzQ"
      },
      "execution_count": 17,
      "outputs": []
    },
    {
      "cell_type": "markdown",
      "source": [
        "**Preprocessing**"
      ],
      "metadata": {
        "id": "l2rOjIPd3tR9"
      }
    },
    {
      "cell_type": "code",
      "source": [
        "import re\n",
        "def remove_tags(raw_text):\n",
        "    cleaned_text = re.sub(re.compile('<.*?>'), '', raw_text)\n",
        "    return cleaned_text\n",
        "\n",
        "data['review'] = data['review'].apply(remove_tags)\n",
        "\n",
        "#removing html tags"
      ],
      "metadata": {
        "id": "4TzRKSww3ygc"
      },
      "execution_count": 18,
      "outputs": []
    },
    {
      "cell_type": "code",
      "source": [
        "data['review'][1]"
      ],
      "metadata": {
        "colab": {
          "base_uri": "https://localhost:8080/",
          "height": 140
        },
        "id": "iPzVvqyT4ihS",
        "outputId": "5f6bf445-0485-4c56-9ae9-8aa070628b13"
      },
      "execution_count": 19,
      "outputs": [
        {
          "output_type": "execute_result",
          "data": {
            "text/plain": [
              "'\\\\The Classic War of the Worlds\\\\\" by Timothy Hines is a very entertaining film that obviously goes to great effort and lengths to faithfully recreate H. G. Wells\\' classic book. Mr. Hines succeeds in doing so. I, and those who watched his film with me, appreciated the fact that it was not the standard, predictable Hollywood fare that comes out every year, e.g. the Spielberg version with Tom Cruise that had only the slightest resemblance to the book. Obviously, everyone looks for different things in a movie. Those who envision themselves as amateur \\\\\"critics\\\\\" look only to criticize everything they can. Others rate a movie on more important bases,like being entertained, which is why most people never agree with the \\\\\"critics\\\\\". We enjoyed the effort Mr. Hines put into being faithful to H.G. Wells\\' classic novel, and we found it to be very entertaining. This made it easy to overlook what the \\\\\"critics\\\\\" perceive to be its shortcomings.\"'"
            ],
            "application/vnd.google.colaboratory.intrinsic+json": {
              "type": "string"
            }
          },
          "metadata": {},
          "execution_count": 19
        }
      ]
    },
    {
      "cell_type": "code",
      "source": [
        "data['review'] = data['review'].apply(lambda x:x.lower())\n",
        "#Lowercasing"
      ],
      "metadata": {
        "id": "hiVzjJzT5Nfs"
      },
      "execution_count": 20,
      "outputs": []
    },
    {
      "cell_type": "code",
      "source": [
        "PUNCT_TO_REMOVE = string.punctuation\n",
        "def remove_punctuation(text):\n",
        "    \"\"\"custom function to remove the punctuation\"\"\"\n",
        "    return text.translate(str.maketrans('', '', PUNCT_TO_REMOVE))\n",
        "\n",
        "\n",
        "data['review'] = data['review'].apply(lambda text: remove_punctuation(text))\n",
        "\n",
        "#Removing the Punctuations"
      ],
      "metadata": {
        "id": "GZl_cyKN5nJI"
      },
      "execution_count": 21,
      "outputs": []
    },
    {
      "cell_type": "code",
      "source": [
        "data['review'][1]"
      ],
      "metadata": {
        "colab": {
          "base_uri": "https://localhost:8080/",
          "height": 140
        },
        "id": "LoaXVdOw6Jyc",
        "outputId": "e1ae0a4e-77f7-4b83-86af-3838168ebfd0"
      },
      "execution_count": 22,
      "outputs": [
        {
          "output_type": "execute_result",
          "data": {
            "text/plain": [
              "'the classic war of the worlds by timothy hines is a very entertaining film that obviously goes to great effort and lengths to faithfully recreate h g wells classic book mr hines succeeds in doing so i and those who watched his film with me appreciated the fact that it was not the standard predictable hollywood fare that comes out every year eg the spielberg version with tom cruise that had only the slightest resemblance to the book obviously everyone looks for different things in a movie those who envision themselves as amateur critics look only to criticize everything they can others rate a movie on more important baseslike being entertained which is why most people never agree with the critics we enjoyed the effort mr hines put into being faithful to hg wells classic novel and we found it to be very entertaining this made it easy to overlook what the critics perceive to be its shortcomings'"
            ],
            "application/vnd.google.colaboratory.intrinsic+json": {
              "type": "string"
            }
          },
          "metadata": {},
          "execution_count": 22
        }
      ]
    },
    {
      "cell_type": "code",
      "source": [
        "from nltk.corpus import stopwords\n",
        "sw_list = stopwords.words('english')\n",
        "data['review'] = data['review'].apply(lambda x: [item for item in x.split() if item not in sw_list]).apply(lambda x:\" \".join(x))\n",
        "\n",
        "\n",
        "#Removing Stopwords"
      ],
      "metadata": {
        "id": "tYhliqG56OIP"
      },
      "execution_count": 31,
      "outputs": []
    },
    {
      "cell_type": "code",
      "source": [
        "data.head()"
      ],
      "metadata": {
        "colab": {
          "base_uri": "https://localhost:8080/",
          "height": 206
        },
        "id": "IonlkVgc9dol",
        "outputId": "67bb3609-c0f5-4ba2-f516-f1cc81793260"
      },
      "execution_count": 32,
      "outputs": [
        {
          "output_type": "execute_result",
          "data": {
            "text/plain": [
              "       id  sentiment                                             review\n",
              "0  5814_8          1  stuff going moment mj ive started listening mu...\n",
              "1  2381_9          1  classic war worlds timothy hines entertaining ...\n",
              "2  7759_3          0  film starts manager nicholas bell giving welco...\n",
              "3  3630_4          0  must assumed praised film greatest filmed oper...\n",
              "4  9495_8          1  superbly trashy wondrously unpretentious 80s e..."
            ],
            "text/html": [
              "\n",
              "  <div id=\"df-652ca38f-d34f-4caf-bc96-529a545d6654\" class=\"colab-df-container\">\n",
              "    <div>\n",
              "<style scoped>\n",
              "    .dataframe tbody tr th:only-of-type {\n",
              "        vertical-align: middle;\n",
              "    }\n",
              "\n",
              "    .dataframe tbody tr th {\n",
              "        vertical-align: top;\n",
              "    }\n",
              "\n",
              "    .dataframe thead th {\n",
              "        text-align: right;\n",
              "    }\n",
              "</style>\n",
              "<table border=\"1\" class=\"dataframe\">\n",
              "  <thead>\n",
              "    <tr style=\"text-align: right;\">\n",
              "      <th></th>\n",
              "      <th>id</th>\n",
              "      <th>sentiment</th>\n",
              "      <th>review</th>\n",
              "    </tr>\n",
              "  </thead>\n",
              "  <tbody>\n",
              "    <tr>\n",
              "      <th>0</th>\n",
              "      <td>5814_8</td>\n",
              "      <td>1</td>\n",
              "      <td>stuff going moment mj ive started listening mu...</td>\n",
              "    </tr>\n",
              "    <tr>\n",
              "      <th>1</th>\n",
              "      <td>2381_9</td>\n",
              "      <td>1</td>\n",
              "      <td>classic war worlds timothy hines entertaining ...</td>\n",
              "    </tr>\n",
              "    <tr>\n",
              "      <th>2</th>\n",
              "      <td>7759_3</td>\n",
              "      <td>0</td>\n",
              "      <td>film starts manager nicholas bell giving welco...</td>\n",
              "    </tr>\n",
              "    <tr>\n",
              "      <th>3</th>\n",
              "      <td>3630_4</td>\n",
              "      <td>0</td>\n",
              "      <td>must assumed praised film greatest filmed oper...</td>\n",
              "    </tr>\n",
              "    <tr>\n",
              "      <th>4</th>\n",
              "      <td>9495_8</td>\n",
              "      <td>1</td>\n",
              "      <td>superbly trashy wondrously unpretentious 80s e...</td>\n",
              "    </tr>\n",
              "  </tbody>\n",
              "</table>\n",
              "</div>\n",
              "    <div class=\"colab-df-buttons\">\n",
              "\n",
              "  <div class=\"colab-df-container\">\n",
              "    <button class=\"colab-df-convert\" onclick=\"convertToInteractive('df-652ca38f-d34f-4caf-bc96-529a545d6654')\"\n",
              "            title=\"Convert this dataframe to an interactive table.\"\n",
              "            style=\"display:none;\">\n",
              "\n",
              "  <svg xmlns=\"http://www.w3.org/2000/svg\" height=\"24px\" viewBox=\"0 -960 960 960\">\n",
              "    <path d=\"M120-120v-720h720v720H120Zm60-500h600v-160H180v160Zm220 220h160v-160H400v160Zm0 220h160v-160H400v160ZM180-400h160v-160H180v160Zm440 0h160v-160H620v160ZM180-180h160v-160H180v160Zm440 0h160v-160H620v160Z\"/>\n",
              "  </svg>\n",
              "    </button>\n",
              "\n",
              "  <style>\n",
              "    .colab-df-container {\n",
              "      display:flex;\n",
              "      gap: 12px;\n",
              "    }\n",
              "\n",
              "    .colab-df-convert {\n",
              "      background-color: #E8F0FE;\n",
              "      border: none;\n",
              "      border-radius: 50%;\n",
              "      cursor: pointer;\n",
              "      display: none;\n",
              "      fill: #1967D2;\n",
              "      height: 32px;\n",
              "      padding: 0 0 0 0;\n",
              "      width: 32px;\n",
              "    }\n",
              "\n",
              "    .colab-df-convert:hover {\n",
              "      background-color: #E2EBFA;\n",
              "      box-shadow: 0px 1px 2px rgba(60, 64, 67, 0.3), 0px 1px 3px 1px rgba(60, 64, 67, 0.15);\n",
              "      fill: #174EA6;\n",
              "    }\n",
              "\n",
              "    .colab-df-buttons div {\n",
              "      margin-bottom: 4px;\n",
              "    }\n",
              "\n",
              "    [theme=dark] .colab-df-convert {\n",
              "      background-color: #3B4455;\n",
              "      fill: #D2E3FC;\n",
              "    }\n",
              "\n",
              "    [theme=dark] .colab-df-convert:hover {\n",
              "      background-color: #434B5C;\n",
              "      box-shadow: 0px 1px 3px 1px rgba(0, 0, 0, 0.15);\n",
              "      filter: drop-shadow(0px 1px 2px rgba(0, 0, 0, 0.3));\n",
              "      fill: #FFFFFF;\n",
              "    }\n",
              "  </style>\n",
              "\n",
              "    <script>\n",
              "      const buttonEl =\n",
              "        document.querySelector('#df-652ca38f-d34f-4caf-bc96-529a545d6654 button.colab-df-convert');\n",
              "      buttonEl.style.display =\n",
              "        google.colab.kernel.accessAllowed ? 'block' : 'none';\n",
              "\n",
              "      async function convertToInteractive(key) {\n",
              "        const element = document.querySelector('#df-652ca38f-d34f-4caf-bc96-529a545d6654');\n",
              "        const dataTable =\n",
              "          await google.colab.kernel.invokeFunction('convertToInteractive',\n",
              "                                                    [key], {});\n",
              "        if (!dataTable) return;\n",
              "\n",
              "        const docLinkHtml = 'Like what you see? Visit the ' +\n",
              "          '<a target=\"_blank\" href=https://colab.research.google.com/notebooks/data_table.ipynb>data table notebook</a>'\n",
              "          + ' to learn more about interactive tables.';\n",
              "        element.innerHTML = '';\n",
              "        dataTable['output_type'] = 'display_data';\n",
              "        await google.colab.output.renderOutput(dataTable, element);\n",
              "        const docLink = document.createElement('div');\n",
              "        docLink.innerHTML = docLinkHtml;\n",
              "        element.appendChild(docLink);\n",
              "      }\n",
              "    </script>\n",
              "  </div>\n",
              "\n",
              "\n",
              "<div id=\"df-3fca1ec7-1b1b-48c4-8672-e553069eef54\">\n",
              "  <button class=\"colab-df-quickchart\" onclick=\"quickchart('df-3fca1ec7-1b1b-48c4-8672-e553069eef54')\"\n",
              "            title=\"Suggest charts\"\n",
              "            style=\"display:none;\">\n",
              "\n",
              "<svg xmlns=\"http://www.w3.org/2000/svg\" height=\"24px\"viewBox=\"0 0 24 24\"\n",
              "     width=\"24px\">\n",
              "    <g>\n",
              "        <path d=\"M19 3H5c-1.1 0-2 .9-2 2v14c0 1.1.9 2 2 2h14c1.1 0 2-.9 2-2V5c0-1.1-.9-2-2-2zM9 17H7v-7h2v7zm4 0h-2V7h2v10zm4 0h-2v-4h2v4z\"/>\n",
              "    </g>\n",
              "</svg>\n",
              "  </button>\n",
              "\n",
              "<style>\n",
              "  .colab-df-quickchart {\n",
              "      --bg-color: #E8F0FE;\n",
              "      --fill-color: #1967D2;\n",
              "      --hover-bg-color: #E2EBFA;\n",
              "      --hover-fill-color: #174EA6;\n",
              "      --disabled-fill-color: #AAA;\n",
              "      --disabled-bg-color: #DDD;\n",
              "  }\n",
              "\n",
              "  [theme=dark] .colab-df-quickchart {\n",
              "      --bg-color: #3B4455;\n",
              "      --fill-color: #D2E3FC;\n",
              "      --hover-bg-color: #434B5C;\n",
              "      --hover-fill-color: #FFFFFF;\n",
              "      --disabled-bg-color: #3B4455;\n",
              "      --disabled-fill-color: #666;\n",
              "  }\n",
              "\n",
              "  .colab-df-quickchart {\n",
              "    background-color: var(--bg-color);\n",
              "    border: none;\n",
              "    border-radius: 50%;\n",
              "    cursor: pointer;\n",
              "    display: none;\n",
              "    fill: var(--fill-color);\n",
              "    height: 32px;\n",
              "    padding: 0;\n",
              "    width: 32px;\n",
              "  }\n",
              "\n",
              "  .colab-df-quickchart:hover {\n",
              "    background-color: var(--hover-bg-color);\n",
              "    box-shadow: 0 1px 2px rgba(60, 64, 67, 0.3), 0 1px 3px 1px rgba(60, 64, 67, 0.15);\n",
              "    fill: var(--button-hover-fill-color);\n",
              "  }\n",
              "\n",
              "  .colab-df-quickchart-complete:disabled,\n",
              "  .colab-df-quickchart-complete:disabled:hover {\n",
              "    background-color: var(--disabled-bg-color);\n",
              "    fill: var(--disabled-fill-color);\n",
              "    box-shadow: none;\n",
              "  }\n",
              "\n",
              "  .colab-df-spinner {\n",
              "    border: 2px solid var(--fill-color);\n",
              "    border-color: transparent;\n",
              "    border-bottom-color: var(--fill-color);\n",
              "    animation:\n",
              "      spin 1s steps(1) infinite;\n",
              "  }\n",
              "\n",
              "  @keyframes spin {\n",
              "    0% {\n",
              "      border-color: transparent;\n",
              "      border-bottom-color: var(--fill-color);\n",
              "      border-left-color: var(--fill-color);\n",
              "    }\n",
              "    20% {\n",
              "      border-color: transparent;\n",
              "      border-left-color: var(--fill-color);\n",
              "      border-top-color: var(--fill-color);\n",
              "    }\n",
              "    30% {\n",
              "      border-color: transparent;\n",
              "      border-left-color: var(--fill-color);\n",
              "      border-top-color: var(--fill-color);\n",
              "      border-right-color: var(--fill-color);\n",
              "    }\n",
              "    40% {\n",
              "      border-color: transparent;\n",
              "      border-right-color: var(--fill-color);\n",
              "      border-top-color: var(--fill-color);\n",
              "    }\n",
              "    60% {\n",
              "      border-color: transparent;\n",
              "      border-right-color: var(--fill-color);\n",
              "    }\n",
              "    80% {\n",
              "      border-color: transparent;\n",
              "      border-right-color: var(--fill-color);\n",
              "      border-bottom-color: var(--fill-color);\n",
              "    }\n",
              "    90% {\n",
              "      border-color: transparent;\n",
              "      border-bottom-color: var(--fill-color);\n",
              "    }\n",
              "  }\n",
              "</style>\n",
              "\n",
              "  <script>\n",
              "    async function quickchart(key) {\n",
              "      const quickchartButtonEl =\n",
              "        document.querySelector('#' + key + ' button');\n",
              "      quickchartButtonEl.disabled = true;  // To prevent multiple clicks.\n",
              "      quickchartButtonEl.classList.add('colab-df-spinner');\n",
              "      try {\n",
              "        const charts = await google.colab.kernel.invokeFunction(\n",
              "            'suggestCharts', [key], {});\n",
              "      } catch (error) {\n",
              "        console.error('Error during call to suggestCharts:', error);\n",
              "      }\n",
              "      quickchartButtonEl.classList.remove('colab-df-spinner');\n",
              "      quickchartButtonEl.classList.add('colab-df-quickchart-complete');\n",
              "    }\n",
              "    (() => {\n",
              "      let quickchartButtonEl =\n",
              "        document.querySelector('#df-3fca1ec7-1b1b-48c4-8672-e553069eef54 button');\n",
              "      quickchartButtonEl.style.display =\n",
              "        google.colab.kernel.accessAllowed ? 'block' : 'none';\n",
              "    })();\n",
              "  </script>\n",
              "</div>\n",
              "\n",
              "    </div>\n",
              "  </div>\n"
            ]
          },
          "metadata": {},
          "execution_count": 32
        }
      ]
    },
    {
      "cell_type": "code",
      "source": [
        "import nltk\n",
        "nltk.download('wordnet')"
      ],
      "metadata": {
        "colab": {
          "base_uri": "https://localhost:8080/"
        },
        "id": "0fPuxg729rvt",
        "outputId": "2edcaa5f-2351-47d3-8038-266de503804e"
      },
      "execution_count": 33,
      "outputs": [
        {
          "output_type": "stream",
          "name": "stderr",
          "text": [
            "[nltk_data] Downloading package wordnet to /root/nltk_data...\n"
          ]
        },
        {
          "output_type": "execute_result",
          "data": {
            "text/plain": [
              "True"
            ]
          },
          "metadata": {},
          "execution_count": 33
        }
      ]
    },
    {
      "cell_type": "code",
      "source": [
        "from nltk.stem import WordNetLemmatizer\n",
        "\n",
        "lemmatizer = WordNetLemmatizer()\n",
        "def lemmatize_words(text):\n",
        "    return \" \".join([lemmatizer.lemmatize(word) for word in text.split()])\n",
        "\n",
        "data[\"review\"] = data[\"review\"].apply(lambda text: lemmatize_words(text))\n",
        "data.head()\n",
        "\n",
        "#Lemmatization"
      ],
      "metadata": {
        "colab": {
          "base_uri": "https://localhost:8080/",
          "height": 206
        },
        "id": "mO5zM0vf9-5C",
        "outputId": "cbaafb47-a713-489a-930f-34ae251e1380"
      },
      "execution_count": 35,
      "outputs": [
        {
          "output_type": "execute_result",
          "data": {
            "text/plain": [
              "       id  sentiment                                             review\n",
              "0  5814_8          1  stuff going moment mj ive started listening mu...\n",
              "1  2381_9          1  classic war world timothy hines entertaining f...\n",
              "2  7759_3          0  film start manager nicholas bell giving welcom...\n",
              "3  3630_4          0  must assumed praised film greatest filmed oper...\n",
              "4  9495_8          1  superbly trashy wondrously unpretentious 80 ex..."
            ],
            "text/html": [
              "\n",
              "  <div id=\"df-fb1c6d29-8e6a-417f-a476-e39cf87ad85d\" class=\"colab-df-container\">\n",
              "    <div>\n",
              "<style scoped>\n",
              "    .dataframe tbody tr th:only-of-type {\n",
              "        vertical-align: middle;\n",
              "    }\n",
              "\n",
              "    .dataframe tbody tr th {\n",
              "        vertical-align: top;\n",
              "    }\n",
              "\n",
              "    .dataframe thead th {\n",
              "        text-align: right;\n",
              "    }\n",
              "</style>\n",
              "<table border=\"1\" class=\"dataframe\">\n",
              "  <thead>\n",
              "    <tr style=\"text-align: right;\">\n",
              "      <th></th>\n",
              "      <th>id</th>\n",
              "      <th>sentiment</th>\n",
              "      <th>review</th>\n",
              "    </tr>\n",
              "  </thead>\n",
              "  <tbody>\n",
              "    <tr>\n",
              "      <th>0</th>\n",
              "      <td>5814_8</td>\n",
              "      <td>1</td>\n",
              "      <td>stuff going moment mj ive started listening mu...</td>\n",
              "    </tr>\n",
              "    <tr>\n",
              "      <th>1</th>\n",
              "      <td>2381_9</td>\n",
              "      <td>1</td>\n",
              "      <td>classic war world timothy hines entertaining f...</td>\n",
              "    </tr>\n",
              "    <tr>\n",
              "      <th>2</th>\n",
              "      <td>7759_3</td>\n",
              "      <td>0</td>\n",
              "      <td>film start manager nicholas bell giving welcom...</td>\n",
              "    </tr>\n",
              "    <tr>\n",
              "      <th>3</th>\n",
              "      <td>3630_4</td>\n",
              "      <td>0</td>\n",
              "      <td>must assumed praised film greatest filmed oper...</td>\n",
              "    </tr>\n",
              "    <tr>\n",
              "      <th>4</th>\n",
              "      <td>9495_8</td>\n",
              "      <td>1</td>\n",
              "      <td>superbly trashy wondrously unpretentious 80 ex...</td>\n",
              "    </tr>\n",
              "  </tbody>\n",
              "</table>\n",
              "</div>\n",
              "    <div class=\"colab-df-buttons\">\n",
              "\n",
              "  <div class=\"colab-df-container\">\n",
              "    <button class=\"colab-df-convert\" onclick=\"convertToInteractive('df-fb1c6d29-8e6a-417f-a476-e39cf87ad85d')\"\n",
              "            title=\"Convert this dataframe to an interactive table.\"\n",
              "            style=\"display:none;\">\n",
              "\n",
              "  <svg xmlns=\"http://www.w3.org/2000/svg\" height=\"24px\" viewBox=\"0 -960 960 960\">\n",
              "    <path d=\"M120-120v-720h720v720H120Zm60-500h600v-160H180v160Zm220 220h160v-160H400v160Zm0 220h160v-160H400v160ZM180-400h160v-160H180v160Zm440 0h160v-160H620v160ZM180-180h160v-160H180v160Zm440 0h160v-160H620v160Z\"/>\n",
              "  </svg>\n",
              "    </button>\n",
              "\n",
              "  <style>\n",
              "    .colab-df-container {\n",
              "      display:flex;\n",
              "      gap: 12px;\n",
              "    }\n",
              "\n",
              "    .colab-df-convert {\n",
              "      background-color: #E8F0FE;\n",
              "      border: none;\n",
              "      border-radius: 50%;\n",
              "      cursor: pointer;\n",
              "      display: none;\n",
              "      fill: #1967D2;\n",
              "      height: 32px;\n",
              "      padding: 0 0 0 0;\n",
              "      width: 32px;\n",
              "    }\n",
              "\n",
              "    .colab-df-convert:hover {\n",
              "      background-color: #E2EBFA;\n",
              "      box-shadow: 0px 1px 2px rgba(60, 64, 67, 0.3), 0px 1px 3px 1px rgba(60, 64, 67, 0.15);\n",
              "      fill: #174EA6;\n",
              "    }\n",
              "\n",
              "    .colab-df-buttons div {\n",
              "      margin-bottom: 4px;\n",
              "    }\n",
              "\n",
              "    [theme=dark] .colab-df-convert {\n",
              "      background-color: #3B4455;\n",
              "      fill: #D2E3FC;\n",
              "    }\n",
              "\n",
              "    [theme=dark] .colab-df-convert:hover {\n",
              "      background-color: #434B5C;\n",
              "      box-shadow: 0px 1px 3px 1px rgba(0, 0, 0, 0.15);\n",
              "      filter: drop-shadow(0px 1px 2px rgba(0, 0, 0, 0.3));\n",
              "      fill: #FFFFFF;\n",
              "    }\n",
              "  </style>\n",
              "\n",
              "    <script>\n",
              "      const buttonEl =\n",
              "        document.querySelector('#df-fb1c6d29-8e6a-417f-a476-e39cf87ad85d button.colab-df-convert');\n",
              "      buttonEl.style.display =\n",
              "        google.colab.kernel.accessAllowed ? 'block' : 'none';\n",
              "\n",
              "      async function convertToInteractive(key) {\n",
              "        const element = document.querySelector('#df-fb1c6d29-8e6a-417f-a476-e39cf87ad85d');\n",
              "        const dataTable =\n",
              "          await google.colab.kernel.invokeFunction('convertToInteractive',\n",
              "                                                    [key], {});\n",
              "        if (!dataTable) return;\n",
              "\n",
              "        const docLinkHtml = 'Like what you see? Visit the ' +\n",
              "          '<a target=\"_blank\" href=https://colab.research.google.com/notebooks/data_table.ipynb>data table notebook</a>'\n",
              "          + ' to learn more about interactive tables.';\n",
              "        element.innerHTML = '';\n",
              "        dataTable['output_type'] = 'display_data';\n",
              "        await google.colab.output.renderOutput(dataTable, element);\n",
              "        const docLink = document.createElement('div');\n",
              "        docLink.innerHTML = docLinkHtml;\n",
              "        element.appendChild(docLink);\n",
              "      }\n",
              "    </script>\n",
              "  </div>\n",
              "\n",
              "\n",
              "<div id=\"df-64b7582d-fcde-47e0-94e2-22b42de1ea56\">\n",
              "  <button class=\"colab-df-quickchart\" onclick=\"quickchart('df-64b7582d-fcde-47e0-94e2-22b42de1ea56')\"\n",
              "            title=\"Suggest charts\"\n",
              "            style=\"display:none;\">\n",
              "\n",
              "<svg xmlns=\"http://www.w3.org/2000/svg\" height=\"24px\"viewBox=\"0 0 24 24\"\n",
              "     width=\"24px\">\n",
              "    <g>\n",
              "        <path d=\"M19 3H5c-1.1 0-2 .9-2 2v14c0 1.1.9 2 2 2h14c1.1 0 2-.9 2-2V5c0-1.1-.9-2-2-2zM9 17H7v-7h2v7zm4 0h-2V7h2v10zm4 0h-2v-4h2v4z\"/>\n",
              "    </g>\n",
              "</svg>\n",
              "  </button>\n",
              "\n",
              "<style>\n",
              "  .colab-df-quickchart {\n",
              "      --bg-color: #E8F0FE;\n",
              "      --fill-color: #1967D2;\n",
              "      --hover-bg-color: #E2EBFA;\n",
              "      --hover-fill-color: #174EA6;\n",
              "      --disabled-fill-color: #AAA;\n",
              "      --disabled-bg-color: #DDD;\n",
              "  }\n",
              "\n",
              "  [theme=dark] .colab-df-quickchart {\n",
              "      --bg-color: #3B4455;\n",
              "      --fill-color: #D2E3FC;\n",
              "      --hover-bg-color: #434B5C;\n",
              "      --hover-fill-color: #FFFFFF;\n",
              "      --disabled-bg-color: #3B4455;\n",
              "      --disabled-fill-color: #666;\n",
              "  }\n",
              "\n",
              "  .colab-df-quickchart {\n",
              "    background-color: var(--bg-color);\n",
              "    border: none;\n",
              "    border-radius: 50%;\n",
              "    cursor: pointer;\n",
              "    display: none;\n",
              "    fill: var(--fill-color);\n",
              "    height: 32px;\n",
              "    padding: 0;\n",
              "    width: 32px;\n",
              "  }\n",
              "\n",
              "  .colab-df-quickchart:hover {\n",
              "    background-color: var(--hover-bg-color);\n",
              "    box-shadow: 0 1px 2px rgba(60, 64, 67, 0.3), 0 1px 3px 1px rgba(60, 64, 67, 0.15);\n",
              "    fill: var(--button-hover-fill-color);\n",
              "  }\n",
              "\n",
              "  .colab-df-quickchart-complete:disabled,\n",
              "  .colab-df-quickchart-complete:disabled:hover {\n",
              "    background-color: var(--disabled-bg-color);\n",
              "    fill: var(--disabled-fill-color);\n",
              "    box-shadow: none;\n",
              "  }\n",
              "\n",
              "  .colab-df-spinner {\n",
              "    border: 2px solid var(--fill-color);\n",
              "    border-color: transparent;\n",
              "    border-bottom-color: var(--fill-color);\n",
              "    animation:\n",
              "      spin 1s steps(1) infinite;\n",
              "  }\n",
              "\n",
              "  @keyframes spin {\n",
              "    0% {\n",
              "      border-color: transparent;\n",
              "      border-bottom-color: var(--fill-color);\n",
              "      border-left-color: var(--fill-color);\n",
              "    }\n",
              "    20% {\n",
              "      border-color: transparent;\n",
              "      border-left-color: var(--fill-color);\n",
              "      border-top-color: var(--fill-color);\n",
              "    }\n",
              "    30% {\n",
              "      border-color: transparent;\n",
              "      border-left-color: var(--fill-color);\n",
              "      border-top-color: var(--fill-color);\n",
              "      border-right-color: var(--fill-color);\n",
              "    }\n",
              "    40% {\n",
              "      border-color: transparent;\n",
              "      border-right-color: var(--fill-color);\n",
              "      border-top-color: var(--fill-color);\n",
              "    }\n",
              "    60% {\n",
              "      border-color: transparent;\n",
              "      border-right-color: var(--fill-color);\n",
              "    }\n",
              "    80% {\n",
              "      border-color: transparent;\n",
              "      border-right-color: var(--fill-color);\n",
              "      border-bottom-color: var(--fill-color);\n",
              "    }\n",
              "    90% {\n",
              "      border-color: transparent;\n",
              "      border-bottom-color: var(--fill-color);\n",
              "    }\n",
              "  }\n",
              "</style>\n",
              "\n",
              "  <script>\n",
              "    async function quickchart(key) {\n",
              "      const quickchartButtonEl =\n",
              "        document.querySelector('#' + key + ' button');\n",
              "      quickchartButtonEl.disabled = true;  // To prevent multiple clicks.\n",
              "      quickchartButtonEl.classList.add('colab-df-spinner');\n",
              "      try {\n",
              "        const charts = await google.colab.kernel.invokeFunction(\n",
              "            'suggestCharts', [key], {});\n",
              "      } catch (error) {\n",
              "        console.error('Error during call to suggestCharts:', error);\n",
              "      }\n",
              "      quickchartButtonEl.classList.remove('colab-df-spinner');\n",
              "      quickchartButtonEl.classList.add('colab-df-quickchart-complete');\n",
              "    }\n",
              "    (() => {\n",
              "      let quickchartButtonEl =\n",
              "        document.querySelector('#df-64b7582d-fcde-47e0-94e2-22b42de1ea56 button');\n",
              "      quickchartButtonEl.style.display =\n",
              "        google.colab.kernel.accessAllowed ? 'block' : 'none';\n",
              "    })();\n",
              "  </script>\n",
              "</div>\n",
              "\n",
              "    </div>\n",
              "  </div>\n"
            ]
          },
          "metadata": {},
          "execution_count": 35
        }
      ]
    },
    {
      "cell_type": "markdown",
      "source": [
        "**Feature Extraction**"
      ],
      "metadata": {
        "id": "rkrutDbh_CpT"
      }
    },
    {
      "cell_type": "code",
      "source": [
        "x = data.iloc[:,2:3]\n",
        "x.head()"
      ],
      "metadata": {
        "colab": {
          "base_uri": "https://localhost:8080/",
          "height": 206
        },
        "id": "d6t9UH7o-6wQ",
        "outputId": "c8b4b619-d236-4b14-939c-0fae95684170"
      },
      "execution_count": 36,
      "outputs": [
        {
          "output_type": "execute_result",
          "data": {
            "text/plain": [
              "                                              review\n",
              "0  stuff going moment mj ive started listening mu...\n",
              "1  classic war world timothy hines entertaining f...\n",
              "2  film start manager nicholas bell giving welcom...\n",
              "3  must assumed praised film greatest filmed oper...\n",
              "4  superbly trashy wondrously unpretentious 80 ex..."
            ],
            "text/html": [
              "\n",
              "  <div id=\"df-650d1ca2-104c-400c-9b4e-c640014324c6\" class=\"colab-df-container\">\n",
              "    <div>\n",
              "<style scoped>\n",
              "    .dataframe tbody tr th:only-of-type {\n",
              "        vertical-align: middle;\n",
              "    }\n",
              "\n",
              "    .dataframe tbody tr th {\n",
              "        vertical-align: top;\n",
              "    }\n",
              "\n",
              "    .dataframe thead th {\n",
              "        text-align: right;\n",
              "    }\n",
              "</style>\n",
              "<table border=\"1\" class=\"dataframe\">\n",
              "  <thead>\n",
              "    <tr style=\"text-align: right;\">\n",
              "      <th></th>\n",
              "      <th>review</th>\n",
              "    </tr>\n",
              "  </thead>\n",
              "  <tbody>\n",
              "    <tr>\n",
              "      <th>0</th>\n",
              "      <td>stuff going moment mj ive started listening mu...</td>\n",
              "    </tr>\n",
              "    <tr>\n",
              "      <th>1</th>\n",
              "      <td>classic war world timothy hines entertaining f...</td>\n",
              "    </tr>\n",
              "    <tr>\n",
              "      <th>2</th>\n",
              "      <td>film start manager nicholas bell giving welcom...</td>\n",
              "    </tr>\n",
              "    <tr>\n",
              "      <th>3</th>\n",
              "      <td>must assumed praised film greatest filmed oper...</td>\n",
              "    </tr>\n",
              "    <tr>\n",
              "      <th>4</th>\n",
              "      <td>superbly trashy wondrously unpretentious 80 ex...</td>\n",
              "    </tr>\n",
              "  </tbody>\n",
              "</table>\n",
              "</div>\n",
              "    <div class=\"colab-df-buttons\">\n",
              "\n",
              "  <div class=\"colab-df-container\">\n",
              "    <button class=\"colab-df-convert\" onclick=\"convertToInteractive('df-650d1ca2-104c-400c-9b4e-c640014324c6')\"\n",
              "            title=\"Convert this dataframe to an interactive table.\"\n",
              "            style=\"display:none;\">\n",
              "\n",
              "  <svg xmlns=\"http://www.w3.org/2000/svg\" height=\"24px\" viewBox=\"0 -960 960 960\">\n",
              "    <path d=\"M120-120v-720h720v720H120Zm60-500h600v-160H180v160Zm220 220h160v-160H400v160Zm0 220h160v-160H400v160ZM180-400h160v-160H180v160Zm440 0h160v-160H620v160ZM180-180h160v-160H180v160Zm440 0h160v-160H620v160Z\"/>\n",
              "  </svg>\n",
              "    </button>\n",
              "\n",
              "  <style>\n",
              "    .colab-df-container {\n",
              "      display:flex;\n",
              "      gap: 12px;\n",
              "    }\n",
              "\n",
              "    .colab-df-convert {\n",
              "      background-color: #E8F0FE;\n",
              "      border: none;\n",
              "      border-radius: 50%;\n",
              "      cursor: pointer;\n",
              "      display: none;\n",
              "      fill: #1967D2;\n",
              "      height: 32px;\n",
              "      padding: 0 0 0 0;\n",
              "      width: 32px;\n",
              "    }\n",
              "\n",
              "    .colab-df-convert:hover {\n",
              "      background-color: #E2EBFA;\n",
              "      box-shadow: 0px 1px 2px rgba(60, 64, 67, 0.3), 0px 1px 3px 1px rgba(60, 64, 67, 0.15);\n",
              "      fill: #174EA6;\n",
              "    }\n",
              "\n",
              "    .colab-df-buttons div {\n",
              "      margin-bottom: 4px;\n",
              "    }\n",
              "\n",
              "    [theme=dark] .colab-df-convert {\n",
              "      background-color: #3B4455;\n",
              "      fill: #D2E3FC;\n",
              "    }\n",
              "\n",
              "    [theme=dark] .colab-df-convert:hover {\n",
              "      background-color: #434B5C;\n",
              "      box-shadow: 0px 1px 3px 1px rgba(0, 0, 0, 0.15);\n",
              "      filter: drop-shadow(0px 1px 2px rgba(0, 0, 0, 0.3));\n",
              "      fill: #FFFFFF;\n",
              "    }\n",
              "  </style>\n",
              "\n",
              "    <script>\n",
              "      const buttonEl =\n",
              "        document.querySelector('#df-650d1ca2-104c-400c-9b4e-c640014324c6 button.colab-df-convert');\n",
              "      buttonEl.style.display =\n",
              "        google.colab.kernel.accessAllowed ? 'block' : 'none';\n",
              "\n",
              "      async function convertToInteractive(key) {\n",
              "        const element = document.querySelector('#df-650d1ca2-104c-400c-9b4e-c640014324c6');\n",
              "        const dataTable =\n",
              "          await google.colab.kernel.invokeFunction('convertToInteractive',\n",
              "                                                    [key], {});\n",
              "        if (!dataTable) return;\n",
              "\n",
              "        const docLinkHtml = 'Like what you see? Visit the ' +\n",
              "          '<a target=\"_blank\" href=https://colab.research.google.com/notebooks/data_table.ipynb>data table notebook</a>'\n",
              "          + ' to learn more about interactive tables.';\n",
              "        element.innerHTML = '';\n",
              "        dataTable['output_type'] = 'display_data';\n",
              "        await google.colab.output.renderOutput(dataTable, element);\n",
              "        const docLink = document.createElement('div');\n",
              "        docLink.innerHTML = docLinkHtml;\n",
              "        element.appendChild(docLink);\n",
              "      }\n",
              "    </script>\n",
              "  </div>\n",
              "\n",
              "\n",
              "<div id=\"df-fce33724-f7a6-484d-88a9-af96ae0b7589\">\n",
              "  <button class=\"colab-df-quickchart\" onclick=\"quickchart('df-fce33724-f7a6-484d-88a9-af96ae0b7589')\"\n",
              "            title=\"Suggest charts\"\n",
              "            style=\"display:none;\">\n",
              "\n",
              "<svg xmlns=\"http://www.w3.org/2000/svg\" height=\"24px\"viewBox=\"0 0 24 24\"\n",
              "     width=\"24px\">\n",
              "    <g>\n",
              "        <path d=\"M19 3H5c-1.1 0-2 .9-2 2v14c0 1.1.9 2 2 2h14c1.1 0 2-.9 2-2V5c0-1.1-.9-2-2-2zM9 17H7v-7h2v7zm4 0h-2V7h2v10zm4 0h-2v-4h2v4z\"/>\n",
              "    </g>\n",
              "</svg>\n",
              "  </button>\n",
              "\n",
              "<style>\n",
              "  .colab-df-quickchart {\n",
              "      --bg-color: #E8F0FE;\n",
              "      --fill-color: #1967D2;\n",
              "      --hover-bg-color: #E2EBFA;\n",
              "      --hover-fill-color: #174EA6;\n",
              "      --disabled-fill-color: #AAA;\n",
              "      --disabled-bg-color: #DDD;\n",
              "  }\n",
              "\n",
              "  [theme=dark] .colab-df-quickchart {\n",
              "      --bg-color: #3B4455;\n",
              "      --fill-color: #D2E3FC;\n",
              "      --hover-bg-color: #434B5C;\n",
              "      --hover-fill-color: #FFFFFF;\n",
              "      --disabled-bg-color: #3B4455;\n",
              "      --disabled-fill-color: #666;\n",
              "  }\n",
              "\n",
              "  .colab-df-quickchart {\n",
              "    background-color: var(--bg-color);\n",
              "    border: none;\n",
              "    border-radius: 50%;\n",
              "    cursor: pointer;\n",
              "    display: none;\n",
              "    fill: var(--fill-color);\n",
              "    height: 32px;\n",
              "    padding: 0;\n",
              "    width: 32px;\n",
              "  }\n",
              "\n",
              "  .colab-df-quickchart:hover {\n",
              "    background-color: var(--hover-bg-color);\n",
              "    box-shadow: 0 1px 2px rgba(60, 64, 67, 0.3), 0 1px 3px 1px rgba(60, 64, 67, 0.15);\n",
              "    fill: var(--button-hover-fill-color);\n",
              "  }\n",
              "\n",
              "  .colab-df-quickchart-complete:disabled,\n",
              "  .colab-df-quickchart-complete:disabled:hover {\n",
              "    background-color: var(--disabled-bg-color);\n",
              "    fill: var(--disabled-fill-color);\n",
              "    box-shadow: none;\n",
              "  }\n",
              "\n",
              "  .colab-df-spinner {\n",
              "    border: 2px solid var(--fill-color);\n",
              "    border-color: transparent;\n",
              "    border-bottom-color: var(--fill-color);\n",
              "    animation:\n",
              "      spin 1s steps(1) infinite;\n",
              "  }\n",
              "\n",
              "  @keyframes spin {\n",
              "    0% {\n",
              "      border-color: transparent;\n",
              "      border-bottom-color: var(--fill-color);\n",
              "      border-left-color: var(--fill-color);\n",
              "    }\n",
              "    20% {\n",
              "      border-color: transparent;\n",
              "      border-left-color: var(--fill-color);\n",
              "      border-top-color: var(--fill-color);\n",
              "    }\n",
              "    30% {\n",
              "      border-color: transparent;\n",
              "      border-left-color: var(--fill-color);\n",
              "      border-top-color: var(--fill-color);\n",
              "      border-right-color: var(--fill-color);\n",
              "    }\n",
              "    40% {\n",
              "      border-color: transparent;\n",
              "      border-right-color: var(--fill-color);\n",
              "      border-top-color: var(--fill-color);\n",
              "    }\n",
              "    60% {\n",
              "      border-color: transparent;\n",
              "      border-right-color: var(--fill-color);\n",
              "    }\n",
              "    80% {\n",
              "      border-color: transparent;\n",
              "      border-right-color: var(--fill-color);\n",
              "      border-bottom-color: var(--fill-color);\n",
              "    }\n",
              "    90% {\n",
              "      border-color: transparent;\n",
              "      border-bottom-color: var(--fill-color);\n",
              "    }\n",
              "  }\n",
              "</style>\n",
              "\n",
              "  <script>\n",
              "    async function quickchart(key) {\n",
              "      const quickchartButtonEl =\n",
              "        document.querySelector('#' + key + ' button');\n",
              "      quickchartButtonEl.disabled = true;  // To prevent multiple clicks.\n",
              "      quickchartButtonEl.classList.add('colab-df-spinner');\n",
              "      try {\n",
              "        const charts = await google.colab.kernel.invokeFunction(\n",
              "            'suggestCharts', [key], {});\n",
              "      } catch (error) {\n",
              "        console.error('Error during call to suggestCharts:', error);\n",
              "      }\n",
              "      quickchartButtonEl.classList.remove('colab-df-spinner');\n",
              "      quickchartButtonEl.classList.add('colab-df-quickchart-complete');\n",
              "    }\n",
              "    (() => {\n",
              "      let quickchartButtonEl =\n",
              "        document.querySelector('#df-fce33724-f7a6-484d-88a9-af96ae0b7589 button');\n",
              "      quickchartButtonEl.style.display =\n",
              "        google.colab.kernel.accessAllowed ? 'block' : 'none';\n",
              "    })();\n",
              "  </script>\n",
              "</div>\n",
              "\n",
              "    </div>\n",
              "  </div>\n"
            ]
          },
          "metadata": {},
          "execution_count": 36
        }
      ]
    },
    {
      "cell_type": "code",
      "source": [
        "y= data['sentiment']\n",
        "y.head()"
      ],
      "metadata": {
        "colab": {
          "base_uri": "https://localhost:8080/"
        },
        "id": "Dd_eggdF_3It",
        "outputId": "524ee29a-f024-4c17-f35c-0d0ce0d86611"
      },
      "execution_count": 37,
      "outputs": [
        {
          "output_type": "execute_result",
          "data": {
            "text/plain": [
              "0    1\n",
              "1    1\n",
              "2    0\n",
              "3    0\n",
              "4    1\n",
              "Name: sentiment, dtype: int64"
            ]
          },
          "metadata": {},
          "execution_count": 37
        }
      ]
    },
    {
      "cell_type": "code",
      "source": [
        "from sklearn.model_selection import train_test_split\n",
        "x_train, x_test, y_train, y_test = train_test_split(x,y,test_size=0.2, random_state=134)"
      ],
      "metadata": {
        "id": "7jTssgO2AC5u"
      },
      "execution_count": 38,
      "outputs": []
    },
    {
      "cell_type": "code",
      "source": [
        "x_train"
      ],
      "metadata": {
        "colab": {
          "base_uri": "https://localhost:8080/",
          "height": 423
        },
        "id": "xGUY_oBIAKL8",
        "outputId": "e6f56d33-56ce-4957-b61f-388454901f07"
      },
      "execution_count": 39,
      "outputs": [
        {
          "output_type": "execute_result",
          "data": {
            "text/plain": [
              "                                                  review\n",
              "17272  admit weakness alternate history story wonderf...\n",
              "11941  sur me lèvres read lip fine little thriller al...\n",
              "2802   sex youve ever farm animal tag line movie prob...\n",
              "4511   browsing internet previous sale price ran acro...\n",
              "7929   nope going get refuse go along program dont su...\n",
              "...                                                  ...\n",
              "1202   kept attention start finish great performance ...\n",
              "13687  take special kind person make movie wretched b...\n",
              "11640  found imdb searched film moved almost tear com...\n",
              "13862  known fall asleep film usually due combination...\n",
              "9699   inlaws weekend film hasten departure failing i...\n",
              "\n",
              "[20000 rows x 1 columns]"
            ],
            "text/html": [
              "\n",
              "  <div id=\"df-e23467eb-3d13-4aa2-8aab-3700116b0f00\" class=\"colab-df-container\">\n",
              "    <div>\n",
              "<style scoped>\n",
              "    .dataframe tbody tr th:only-of-type {\n",
              "        vertical-align: middle;\n",
              "    }\n",
              "\n",
              "    .dataframe tbody tr th {\n",
              "        vertical-align: top;\n",
              "    }\n",
              "\n",
              "    .dataframe thead th {\n",
              "        text-align: right;\n",
              "    }\n",
              "</style>\n",
              "<table border=\"1\" class=\"dataframe\">\n",
              "  <thead>\n",
              "    <tr style=\"text-align: right;\">\n",
              "      <th></th>\n",
              "      <th>review</th>\n",
              "    </tr>\n",
              "  </thead>\n",
              "  <tbody>\n",
              "    <tr>\n",
              "      <th>17272</th>\n",
              "      <td>admit weakness alternate history story wonderf...</td>\n",
              "    </tr>\n",
              "    <tr>\n",
              "      <th>11941</th>\n",
              "      <td>sur me lèvres read lip fine little thriller al...</td>\n",
              "    </tr>\n",
              "    <tr>\n",
              "      <th>2802</th>\n",
              "      <td>sex youve ever farm animal tag line movie prob...</td>\n",
              "    </tr>\n",
              "    <tr>\n",
              "      <th>4511</th>\n",
              "      <td>browsing internet previous sale price ran acro...</td>\n",
              "    </tr>\n",
              "    <tr>\n",
              "      <th>7929</th>\n",
              "      <td>nope going get refuse go along program dont su...</td>\n",
              "    </tr>\n",
              "    <tr>\n",
              "      <th>...</th>\n",
              "      <td>...</td>\n",
              "    </tr>\n",
              "    <tr>\n",
              "      <th>1202</th>\n",
              "      <td>kept attention start finish great performance ...</td>\n",
              "    </tr>\n",
              "    <tr>\n",
              "      <th>13687</th>\n",
              "      <td>take special kind person make movie wretched b...</td>\n",
              "    </tr>\n",
              "    <tr>\n",
              "      <th>11640</th>\n",
              "      <td>found imdb searched film moved almost tear com...</td>\n",
              "    </tr>\n",
              "    <tr>\n",
              "      <th>13862</th>\n",
              "      <td>known fall asleep film usually due combination...</td>\n",
              "    </tr>\n",
              "    <tr>\n",
              "      <th>9699</th>\n",
              "      <td>inlaws weekend film hasten departure failing i...</td>\n",
              "    </tr>\n",
              "  </tbody>\n",
              "</table>\n",
              "<p>20000 rows × 1 columns</p>\n",
              "</div>\n",
              "    <div class=\"colab-df-buttons\">\n",
              "\n",
              "  <div class=\"colab-df-container\">\n",
              "    <button class=\"colab-df-convert\" onclick=\"convertToInteractive('df-e23467eb-3d13-4aa2-8aab-3700116b0f00')\"\n",
              "            title=\"Convert this dataframe to an interactive table.\"\n",
              "            style=\"display:none;\">\n",
              "\n",
              "  <svg xmlns=\"http://www.w3.org/2000/svg\" height=\"24px\" viewBox=\"0 -960 960 960\">\n",
              "    <path d=\"M120-120v-720h720v720H120Zm60-500h600v-160H180v160Zm220 220h160v-160H400v160Zm0 220h160v-160H400v160ZM180-400h160v-160H180v160Zm440 0h160v-160H620v160ZM180-180h160v-160H180v160Zm440 0h160v-160H620v160Z\"/>\n",
              "  </svg>\n",
              "    </button>\n",
              "\n",
              "  <style>\n",
              "    .colab-df-container {\n",
              "      display:flex;\n",
              "      gap: 12px;\n",
              "    }\n",
              "\n",
              "    .colab-df-convert {\n",
              "      background-color: #E8F0FE;\n",
              "      border: none;\n",
              "      border-radius: 50%;\n",
              "      cursor: pointer;\n",
              "      display: none;\n",
              "      fill: #1967D2;\n",
              "      height: 32px;\n",
              "      padding: 0 0 0 0;\n",
              "      width: 32px;\n",
              "    }\n",
              "\n",
              "    .colab-df-convert:hover {\n",
              "      background-color: #E2EBFA;\n",
              "      box-shadow: 0px 1px 2px rgba(60, 64, 67, 0.3), 0px 1px 3px 1px rgba(60, 64, 67, 0.15);\n",
              "      fill: #174EA6;\n",
              "    }\n",
              "\n",
              "    .colab-df-buttons div {\n",
              "      margin-bottom: 4px;\n",
              "    }\n",
              "\n",
              "    [theme=dark] .colab-df-convert {\n",
              "      background-color: #3B4455;\n",
              "      fill: #D2E3FC;\n",
              "    }\n",
              "\n",
              "    [theme=dark] .colab-df-convert:hover {\n",
              "      background-color: #434B5C;\n",
              "      box-shadow: 0px 1px 3px 1px rgba(0, 0, 0, 0.15);\n",
              "      filter: drop-shadow(0px 1px 2px rgba(0, 0, 0, 0.3));\n",
              "      fill: #FFFFFF;\n",
              "    }\n",
              "  </style>\n",
              "\n",
              "    <script>\n",
              "      const buttonEl =\n",
              "        document.querySelector('#df-e23467eb-3d13-4aa2-8aab-3700116b0f00 button.colab-df-convert');\n",
              "      buttonEl.style.display =\n",
              "        google.colab.kernel.accessAllowed ? 'block' : 'none';\n",
              "\n",
              "      async function convertToInteractive(key) {\n",
              "        const element = document.querySelector('#df-e23467eb-3d13-4aa2-8aab-3700116b0f00');\n",
              "        const dataTable =\n",
              "          await google.colab.kernel.invokeFunction('convertToInteractive',\n",
              "                                                    [key], {});\n",
              "        if (!dataTable) return;\n",
              "\n",
              "        const docLinkHtml = 'Like what you see? Visit the ' +\n",
              "          '<a target=\"_blank\" href=https://colab.research.google.com/notebooks/data_table.ipynb>data table notebook</a>'\n",
              "          + ' to learn more about interactive tables.';\n",
              "        element.innerHTML = '';\n",
              "        dataTable['output_type'] = 'display_data';\n",
              "        await google.colab.output.renderOutput(dataTable, element);\n",
              "        const docLink = document.createElement('div');\n",
              "        docLink.innerHTML = docLinkHtml;\n",
              "        element.appendChild(docLink);\n",
              "      }\n",
              "    </script>\n",
              "  </div>\n",
              "\n",
              "\n",
              "<div id=\"df-b2aaf2e9-dba7-4e35-aa60-4dad8d774f9d\">\n",
              "  <button class=\"colab-df-quickchart\" onclick=\"quickchart('df-b2aaf2e9-dba7-4e35-aa60-4dad8d774f9d')\"\n",
              "            title=\"Suggest charts\"\n",
              "            style=\"display:none;\">\n",
              "\n",
              "<svg xmlns=\"http://www.w3.org/2000/svg\" height=\"24px\"viewBox=\"0 0 24 24\"\n",
              "     width=\"24px\">\n",
              "    <g>\n",
              "        <path d=\"M19 3H5c-1.1 0-2 .9-2 2v14c0 1.1.9 2 2 2h14c1.1 0 2-.9 2-2V5c0-1.1-.9-2-2-2zM9 17H7v-7h2v7zm4 0h-2V7h2v10zm4 0h-2v-4h2v4z\"/>\n",
              "    </g>\n",
              "</svg>\n",
              "  </button>\n",
              "\n",
              "<style>\n",
              "  .colab-df-quickchart {\n",
              "      --bg-color: #E8F0FE;\n",
              "      --fill-color: #1967D2;\n",
              "      --hover-bg-color: #E2EBFA;\n",
              "      --hover-fill-color: #174EA6;\n",
              "      --disabled-fill-color: #AAA;\n",
              "      --disabled-bg-color: #DDD;\n",
              "  }\n",
              "\n",
              "  [theme=dark] .colab-df-quickchart {\n",
              "      --bg-color: #3B4455;\n",
              "      --fill-color: #D2E3FC;\n",
              "      --hover-bg-color: #434B5C;\n",
              "      --hover-fill-color: #FFFFFF;\n",
              "      --disabled-bg-color: #3B4455;\n",
              "      --disabled-fill-color: #666;\n",
              "  }\n",
              "\n",
              "  .colab-df-quickchart {\n",
              "    background-color: var(--bg-color);\n",
              "    border: none;\n",
              "    border-radius: 50%;\n",
              "    cursor: pointer;\n",
              "    display: none;\n",
              "    fill: var(--fill-color);\n",
              "    height: 32px;\n",
              "    padding: 0;\n",
              "    width: 32px;\n",
              "  }\n",
              "\n",
              "  .colab-df-quickchart:hover {\n",
              "    background-color: var(--hover-bg-color);\n",
              "    box-shadow: 0 1px 2px rgba(60, 64, 67, 0.3), 0 1px 3px 1px rgba(60, 64, 67, 0.15);\n",
              "    fill: var(--button-hover-fill-color);\n",
              "  }\n",
              "\n",
              "  .colab-df-quickchart-complete:disabled,\n",
              "  .colab-df-quickchart-complete:disabled:hover {\n",
              "    background-color: var(--disabled-bg-color);\n",
              "    fill: var(--disabled-fill-color);\n",
              "    box-shadow: none;\n",
              "  }\n",
              "\n",
              "  .colab-df-spinner {\n",
              "    border: 2px solid var(--fill-color);\n",
              "    border-color: transparent;\n",
              "    border-bottom-color: var(--fill-color);\n",
              "    animation:\n",
              "      spin 1s steps(1) infinite;\n",
              "  }\n",
              "\n",
              "  @keyframes spin {\n",
              "    0% {\n",
              "      border-color: transparent;\n",
              "      border-bottom-color: var(--fill-color);\n",
              "      border-left-color: var(--fill-color);\n",
              "    }\n",
              "    20% {\n",
              "      border-color: transparent;\n",
              "      border-left-color: var(--fill-color);\n",
              "      border-top-color: var(--fill-color);\n",
              "    }\n",
              "    30% {\n",
              "      border-color: transparent;\n",
              "      border-left-color: var(--fill-color);\n",
              "      border-top-color: var(--fill-color);\n",
              "      border-right-color: var(--fill-color);\n",
              "    }\n",
              "    40% {\n",
              "      border-color: transparent;\n",
              "      border-right-color: var(--fill-color);\n",
              "      border-top-color: var(--fill-color);\n",
              "    }\n",
              "    60% {\n",
              "      border-color: transparent;\n",
              "      border-right-color: var(--fill-color);\n",
              "    }\n",
              "    80% {\n",
              "      border-color: transparent;\n",
              "      border-right-color: var(--fill-color);\n",
              "      border-bottom-color: var(--fill-color);\n",
              "    }\n",
              "    90% {\n",
              "      border-color: transparent;\n",
              "      border-bottom-color: var(--fill-color);\n",
              "    }\n",
              "  }\n",
              "</style>\n",
              "\n",
              "  <script>\n",
              "    async function quickchart(key) {\n",
              "      const quickchartButtonEl =\n",
              "        document.querySelector('#' + key + ' button');\n",
              "      quickchartButtonEl.disabled = true;  // To prevent multiple clicks.\n",
              "      quickchartButtonEl.classList.add('colab-df-spinner');\n",
              "      try {\n",
              "        const charts = await google.colab.kernel.invokeFunction(\n",
              "            'suggestCharts', [key], {});\n",
              "      } catch (error) {\n",
              "        console.error('Error during call to suggestCharts:', error);\n",
              "      }\n",
              "      quickchartButtonEl.classList.remove('colab-df-spinner');\n",
              "      quickchartButtonEl.classList.add('colab-df-quickchart-complete');\n",
              "    }\n",
              "    (() => {\n",
              "      let quickchartButtonEl =\n",
              "        document.querySelector('#df-b2aaf2e9-dba7-4e35-aa60-4dad8d774f9d button');\n",
              "      quickchartButtonEl.style.display =\n",
              "        google.colab.kernel.accessAllowed ? 'block' : 'none';\n",
              "    })();\n",
              "  </script>\n",
              "</div>\n",
              "\n",
              "  <div id=\"id_3215c01b-5584-447e-8c5a-bf0c64fd8295\">\n",
              "    <style>\n",
              "      .colab-df-generate {\n",
              "        background-color: #E8F0FE;\n",
              "        border: none;\n",
              "        border-radius: 50%;\n",
              "        cursor: pointer;\n",
              "        display: none;\n",
              "        fill: #1967D2;\n",
              "        height: 32px;\n",
              "        padding: 0 0 0 0;\n",
              "        width: 32px;\n",
              "      }\n",
              "\n",
              "      .colab-df-generate:hover {\n",
              "        background-color: #E2EBFA;\n",
              "        box-shadow: 0px 1px 2px rgba(60, 64, 67, 0.3), 0px 1px 3px 1px rgba(60, 64, 67, 0.15);\n",
              "        fill: #174EA6;\n",
              "      }\n",
              "\n",
              "      [theme=dark] .colab-df-generate {\n",
              "        background-color: #3B4455;\n",
              "        fill: #D2E3FC;\n",
              "      }\n",
              "\n",
              "      [theme=dark] .colab-df-generate:hover {\n",
              "        background-color: #434B5C;\n",
              "        box-shadow: 0px 1px 3px 1px rgba(0, 0, 0, 0.15);\n",
              "        filter: drop-shadow(0px 1px 2px rgba(0, 0, 0, 0.3));\n",
              "        fill: #FFFFFF;\n",
              "      }\n",
              "    </style>\n",
              "    <button class=\"colab-df-generate\" onclick=\"generateWithVariable('x_train')\"\n",
              "            title=\"Generate code using this dataframe.\"\n",
              "            style=\"display:none;\">\n",
              "\n",
              "  <svg xmlns=\"http://www.w3.org/2000/svg\" height=\"24px\"viewBox=\"0 0 24 24\"\n",
              "       width=\"24px\">\n",
              "    <path d=\"M7,19H8.4L18.45,9,17,7.55,7,17.6ZM5,21V16.75L18.45,3.32a2,2,0,0,1,2.83,0l1.4,1.43a1.91,1.91,0,0,1,.58,1.4,1.91,1.91,0,0,1-.58,1.4L9.25,21ZM18.45,9,17,7.55Zm-12,3A5.31,5.31,0,0,0,4.9,8.1,5.31,5.31,0,0,0,1,6.5,5.31,5.31,0,0,0,4.9,4.9,5.31,5.31,0,0,0,6.5,1,5.31,5.31,0,0,0,8.1,4.9,5.31,5.31,0,0,0,12,6.5,5.46,5.46,0,0,0,6.5,12Z\"/>\n",
              "  </svg>\n",
              "    </button>\n",
              "    <script>\n",
              "      (() => {\n",
              "      const buttonEl =\n",
              "        document.querySelector('#id_3215c01b-5584-447e-8c5a-bf0c64fd8295 button.colab-df-generate');\n",
              "      buttonEl.style.display =\n",
              "        google.colab.kernel.accessAllowed ? 'block' : 'none';\n",
              "\n",
              "      buttonEl.onclick = () => {\n",
              "        google.colab.notebook.generateWithVariable('x_train');\n",
              "      }\n",
              "      })();\n",
              "    </script>\n",
              "  </div>\n",
              "\n",
              "    </div>\n",
              "  </div>\n"
            ]
          },
          "metadata": {},
          "execution_count": 39
        }
      ]
    },
    {
      "cell_type": "markdown",
      "source": [
        "**BOW MODEL** - Bag Of Words"
      ],
      "metadata": {
        "id": "yMkRGiRDBZpj"
      }
    },
    {
      "cell_type": "code",
      "source": [
        "cv = CountVectorizer(stop_words = \"english\", min_df = 10, max_df=200, max_features = 2000)"
      ],
      "metadata": {
        "id": "8ZqmZau8AbhL"
      },
      "execution_count": 41,
      "outputs": []
    },
    {
      "cell_type": "code",
      "source": [
        "x_train_bow = cv.fit_transform(x_train['review']).toarray()\n",
        "x_test_bow = cv.transform(x_test['review']).toarray()"
      ],
      "metadata": {
        "id": "nwi5Eo7cBxpv"
      },
      "execution_count": 42,
      "outputs": []
    },
    {
      "cell_type": "code",
      "source": [
        "print(cv.vocabulary_)"
      ],
      "metadata": {
        "colab": {
          "base_uri": "https://localhost:8080/"
        },
        "id": "tGM2LaZdB8IJ",
        "outputId": "77053361-3937-41ef-c4f1-2ef4930e9503"
      },
      "execution_count": 43,
      "outputs": [
        {
          "output_type": "stream",
          "name": "stdout",
          "text": [
            "{'weakness': 1958, 'destiny': 485, 'murderous': 1169, 'cox': 406, 'scale': 1555, 'afternoon': 57, 'rental': 1466, 'lip': 1044, 'tense': 1803, 'tight': 1831, 'significant': 1623, 'statement': 1703, 'thirty': 1818, 'secretary': 1569, 'bleak': 178, 'enter': 586, 'vincent': 1931, 'ad': 42, 'assistant': 115, 'meeting': 1115, 'hoped': 856, 'sleazy': 1647, 'letter': 1031, 'discovers': 512, 'spy': 1694, 'join': 967, 'gain': 726, 'freedom': 712, 'seat': 1568, 'unlikely': 1907, 'factor': 640, 'sensitive': 1580, 'hearing': 819, 'aid': 59, 'rank': 1418, 'noir': 1202, 'farm': 652, 'lying': 1074, 'burning': 241, 'iti': 941, 'unable': 1885, 'fictional': 662, 'conspiracy': 371, 'internet': 923, 'price': 1357, 'ran': 1416, 'refuse': 1443, 'program': 1374, 'overrated': 1257, 'reader': 1425, '710': 24, 'mainstream': 1085, 'bag': 136, 'thrill': 1822, 'itthe': 942, '25': 19, 'hardcore': 806, 'appropriate': 105, 'critical': 421, 'religion': 1455, 'remaining': 1458, 'acceptable': 32, 'revealed': 1494, 'bbc': 148, 'broadcast': 225, 'bible': 165, 'priest': 1359, 'skin': 1641, '14': 4, 'photographed': 1295, 'closeup': 333, 'portion': 1325, 'imagery': 885, 'grant': 765, 'execution': 615, 'forest': 692, 'painting': 1266, 'bridge': 217, 'wrap': 1993, 'neat': 1186, 'guilty': 788, 'achieved': 39, 'fallen': 646, 'urge': 1911, 'separate': 1583, 'noble': 1201, 'parallel': 1272, 'beast': 150, 'logical': 1052, 'sexuality': 1593, 'fairy': 643, 'surrounded': 1769, 'anne': 96, 'happiness': 805, 'lonely': 1053, 'prince': 1362, 'edward': 562, 'delight': 465, 'helen': 825, 'command': 351, 'innocence': 906, 'australian': 130, 'shy': 1620, 'welcome': 1966, 'arrives': 109, 'brown': 231, 'grab': 761, 'neighbor': 1191, 'bollywood': 191, 'combination': 345, 'godfather': 751, 'portrays': 1328, 'expert': 624, 'grow': 779, 'hugh': 866, 'figured': 664, 'driven': 538, 'competition': 357, 'knight': 996, 'greater': 770, 'uwe': 1916, 'boll': 190, 'downright': 526, 'chain': 288, 'bigger': 166, 'generic': 735, 'forgive': 694, 'stupidity': 1739, 'origin': 1246, 'grew': 773, 'circumstance': 320, 'civil': 322, 'vietnam': 1928, 'beach': 149, 'alright': 79, 'shut': 1619, 'metal': 1124, 'worthwhile': 1990, 'fat': 653, 'cash': 279, 'favor': 655, 'frustrated': 718, 'excited': 612, 'technique': 1796, 'learned': 1022, 'pulling': 1395, 'complaint': 359, 'essential': 597, 'golden': 754, 'satisfying': 1552, 'concert': 364, 'crash': 412, 'mansion': 1089, 'noise': 1203, 'dinner': 501, 'calling': 255, 'halfway': 791, 'gruesome': 782, 'brilliantly': 221, 'gory': 758, 'bore': 197, 'suffers': 1755, 'horrendous': 858, 'realism': 1427, 'overlooked': 1255, 'tape': 1788, 'friday': 715, 'depiction': 476, 'al': 65, 'existed': 618, 'spoil': 1687, 'motivation': 1159, 'resolution': 1484, 'persona': 1291, 'troubled': 1875, 'seven': 1591, 'pound': 1335, 'dawson': 454, 'performer': 1288, 'portraying': 1327, 'quirky': 1405, 'condition': 365, 'woody': 1985, 'tremendous': 1867, 'sold': 1660, 'blind': 180, 'research': 1480, 'pet': 1292, 'upset': 1909, 'dealt': 457, 'jerry': 957, 'covered': 404, 'lane': 1009, 'southern': 1668, 'soap': 1657, 'douglas': 525, 'jr': 971, 'understood': 1892, 'magnificent': 1084, 'temple': 1801, 'warn': 1949, 'grand': 763, 'underrated': 1891, 'fu': 720, 'caricature': 271, 'india': 896, 'alexander': 72, 'underground': 1890, 'wreck': 1994, 'luckily': 1068, 'prove': 1386, 'entertained': 589, 'dressed': 533, 'baseball': 143, 'uniform': 1898, 'bat': 146, 'creator': 416, 'locked': 1050, 'anderson': 87, 'judge': 972, 'davis': 451, 'colonel': 340, 'cliff': 328, 'setup': 1590, 'spoiled': 1688, 'spin': 1682, 'loss': 1059, 'enjoyment': 583, 'st': 1695, 'stolen': 1716, 'vhs': 1924, 'japan': 948, 'path': 1280, 'buried': 238, 'amateurish': 81, 'junk': 977, 'aint': 62, 'fred': 710, 'haunting': 817, 'included': 893, 'paper': 1270, 'translation': 1859, 'tune': 1877, 'colour': 342, 'minimal': 1139, 'slapstick': 1645, 'paris': 1273, 'texas': 1809, 'et': 600, 'lifetime': 1037, 'irritating': 938, 'joey': 964, 'danny': 446, 'raise': 1412, 'instantly': 915, 'shakespeare': 1597, 'medical': 1114, 'stewart': 1710, 'tie': 1829, 'rifle': 1505, 'adding': 44, 'obsession': 1227, 'laid': 1006, 'cowboy': 405, 'fighter': 663, 'bank': 139, 'dan': 441, 'standing': 1698, 'johnny': 965, 'dean': 458, 'finger': 668, 'hudson': 865, 'range': 1417, 'shootout': 1613, '810': 25, 'pushing': 1403, 'hitman': 840, 'giallo': 741, 'explosion': 632, 'broken': 228, 'bottle': 200, 'territory': 1805, 'reminiscent': 1463, 'bird': 168, 'foreign': 691, 'camerawork': 256, 'knife': 995, 'blade': 173, 'repeated': 1469, 'shall': 1598, 'subtitle': 1745, 'appealing': 102, 'ritter': 1510, 'smoking': 1653, 'dorothy': 524, 'murdered': 1167, 'shocked': 1611, 'moviei': 1162, 'sounded': 1666, 'hunt': 870, 'contrived': 382, 'heavily': 821, 'lazy': 1020, 'related': 1449, 'screenwriter': 1562, 'experienced': 622, 'knowledge': 998, 'mere': 1122, 'slightest': 1650, 'fare': 651, 'remotely': 1465, 'vague': 1918, 'presumably': 1351, 'committed': 353, 'explains': 626, 'round': 1526, 'tour': 1849, 'albeit': 68, 'amateur': 80, 'native': 1181, 'brave': 209, 'curious': 432, 'curse': 434, 'psycho': 1391, 'murderer': 1168, 'table': 1783, 'rip': 1506, 'wes': 1969, 'craven': 413, 'fortunately': 699, 'worry': 1988, 'ha': 790, 'oneliners': 1241, 'regret': 1447, 'renting': 1467, 'professor': 1372, 'joan': 963, 'ginger': 743, 'rogers': 1519, 'miscast': 1143, 'heroine': 830, 'astaire': 118, 'burn': 239, 'allen': 75, 'routine': 1527, 'pan': 1269, 'treatment': 1864, 'pleasant': 1313, 'servant': 1585, 'remind': 1462, 'keeping': 985, 'distance': 519, 'painfully': 1264, 'unbelievably': 1886, 'useless': 1913, 'push': 1401, 'crowd': 423, 'directly': 504, 'connected': 368, 'raped': 1420, 'screaming': 1560, 'president': 1348, 'bush': 245, 'speech': 1675, 'sword': 1779, 'relative': 1451, '1980s': 11, 'saturday': 1553, 'wrestling': 1995, 'ted': 1798, 'turner': 1879, 'wide': 1973, 'pro': 1370, 'florida': 679, 'weekend': 1964, 'library': 1035, 'lay': 1019, 'switch': 1778, 'multiple': 1165, 'sloppy': 1651, 'disagree': 507, 'staying': 1706, 'gangster': 728, 'motif': 1158, 'behavior': 155, 'paying': 1283, 'breath': 213, 'naturally': 1182, 'abuse': 31, 'substance': 1744, 'reputation': 1476, 'losing': 1058, 'wasting': 1955, 'precious': 1341, 'ridiculously': 1503, 'propaganda': 1380, 'raised': 1413, 'treated': 1863, 'versus': 1922, 'similarity': 1626, 'craft': 408, 'bmovie': 185, 'interaction': 921, 'genuinely': 739, 'requires': 1478, 'lake': 1007, 'button': 248, 'ed': 557, 'dinosaur': 502, 'evidence': 606, 'passing': 1278, 'boat': 187, 'stranger': 1725, 'drunk': 542, 'endearing': 580, 'shadow': 1595, 'puppet': 1398, 'dragged': 528, 'pair': 1267, 'lovable': 1063, 'majority': 1086, 'beloved': 160, 'affected': 52, 'closing': 334, 'height': 824, '11': 1, 'briefly': 218, 'garden': 730, 'perry': 1290, 'praise': 1340, 'jackson': 944, 'pile': 1302, 'beating': 152, 'scared': 1557, 'sleeping': 1648, 'bus': 244, 'driver': 539, 'grown': 780, 'reduced': 1439, 'reunion': 1492, 'weve': 1970, 'load': 1049, 'sake': 1543, 'overly': 1256, 'babe': 134, 'butt': 247, 'bell': 158, 'pack': 1261, 'wedding': 1963, 'angel': 91, 'hanging': 802, 'safe': 1541, 'irony': 937, 'birth': 169, 'nation': 1179, 'selling': 1577, 'river': 1512, 'dude': 547, 'nut': 1222, 'savage': 1554, 'slave': 1646, 'posse': 1331, 'mindless': 1138, 'balance': 138, 'snow': 1656, 'inept': 898, 'progress': 1375, 'charlie': 300, 'chaplin': 293, 'corpse': 395, 'russian': 1535, 'magical': 1083, 'treasure': 1862, 'gift': 742, 'aired': 63, 'horrific': 861, 'sharp': 1602, 'teeth': 1800, 'eat': 555, 'flesh': 676, 'destroy': 486, 'comfortable': 349, 'seeking': 1574, 'bite': 171, 'knock': 997, 'paint': 1265, 'portrait': 1326, 'sheriff': 1606, 'sidekick': 1621, 'drunken': 543, 'attacked': 122, 'freak': 709, 'leslie': 1029, 'authority': 132, 'birthday': 170, 'mst3k': 1164, 'eating': 556, 'racist': 1409, 'succeed': 1747, 'damage': 440, 'dubbing': 546, 'batman': 147, 'drawing': 530, 'lousy': 1062, 'annoyed': 98, 'robin': 1514, 'handle': 798, 'punch': 1397, 'tim': 1833, 'training': 1856, 'remain': 1457, 'faithful': 645, 'cgi': 287, 'network': 1197, 'huh': 867, 'operation': 1243, 'offering': 1237, 'service': 1588, 'dragon': 529, 'hunter': 871, 'loving': 1064, 'returned': 1490, 'hire': 836, 'hiding': 832, 'designed': 483, 'rob': 1513, 'claire': 323, 'dane': 443, 'awkward': 133, 'socalled': 1658, 'pretend': 1352, 'swear': 1776, 'reached': 1423, 'glenn': 745, 'providing': 1389, 'relief': 1454, 'boredom': 198, 'error': 595, 'ann': 94, 'jerk': 956, 'evening': 604, '310': 20, 'bothered': 199, 'pulled': 1394, 'user': 1914, 'amazed': 82, 'michelle': 1129, 'coach': 336, 'rough': 1525, 'indie': 897, 'dreadful': 531, 'julia': 973, 'greatly': 771, 'international': 922, 'intrigue': 925, 'terror': 1806, 'revelation': 1497, 'anthony': 99, 'guide': 786, 'flow': 680, 'influence': 901, 'changing': 292, 'rush': 1532, 'web': 1961, 'prior': 1366, 'context': 375, 'ignored': 883, 'unfortunate': 1896, 'reallife': 1429, 'closet': 332, 'importance': 888, 'buck': 233, 'china': 310, 'provided': 1388, 'insight': 909, 'chinese': 311, 'technically': 1795, 'survive': 1771, 'village': 1930, 'traditional': 1855, 'asian': 112, 'homeless': 848, 'mob': 1148, 'fortune': 700, 'site': 1638, 'increasingly': 895, 'loses': 1057, 'plague': 1309, 'worker': 1986, 'succeeds': 1748, '1970s': 10, 'inspiration': 911, 'shake': 1596, 'silence': 1624, 'drink': 535, 'object': 1223, 'spanish': 1670, 'accused': 37, 'determined': 489, 'hotel': 863, 'guest': 785, 'brian': 215, 'chose': 314, 'explicit': 627, 'soft': 1659, 'core': 392, 'psychological': 1392, 'deliberately': 464, 'possibility': 1332, 'nancy': 1177, 'filmthe': 665, 'relevant': 1453, '1010': 0, 'canadian': 260, 'distant': 520, 'spiritual': 1683, 'idiotic': 881, 'code': 337, 'closely': 330, 'resembles': 1482, 'suspenseful': 1774, 'exercise': 617, 'challenge': 290, 'trapped': 1861, 'dare': 447, 'cell': 286, 'lab': 1004, 'experiment': 623, 'tedious': 1799, 'sucked': 1750, 'fox': 703, 'cried': 419, 'stayed': 1705, 'heroic': 829, 'thug': 1826, 'mountain': 1160, 'storm': 1722, 'gary': 731, 'bobby': 189, 'goofy': 756, 'quest': 1404, 'loosely': 1054, 'resort': 1485, 'struggling': 1737, 'rubbish': 1530, 'cable': 251, 'needle': 1190, 'subplots': 1742, 'exceptional': 611, 'freeman': 713, 'morgan': 1156, 'combined': 347, 'horrid': 860, 'flop': 678, 'express': 633, 'convey': 386, 'caring': 272, 'measure': 1112, 'surreal': 1768, 'nonetheless': 1207, 'ought': 1248, 'aim': 60, 'comical': 350, 'sophisticated': 1664, 'alltime': 78, 'infamous': 900, 'pig': 1301, 'unrealistic': 1908, 'captured': 266, 'tortured': 1847, 'torture': 1846, 'limit': 1040, '17': 5, 'described': 480, 'unfunny': 1897, 'oliver': 1240, 'hardy': 808, 'marry': 1096, 'sport': 1692, 'glass': 744, 'sarah': 1549, 'dry': 544, 'listening': 1047, 'repeat': 1468, 'packed': 1262, 'corny': 394, 'bitter': 172, 'loser': 1056, 'extended': 634, 'musician': 1172, 'breast': 212, 'album': 70, 'warner': 1951, 'category': 281, 'rachel': 1407, 'ward': 1947, 'heat': 820, 'notch': 1214, 'benefit': 161, 'hype': 873, 'wondered': 1984, 'ironic': 936, 'attempting': 124, 'madonna': 1079, 'remembered': 1461, 'relation': 1450, 'convince': 387, 'ala': 66, 'capable': 263, 'explaining': 625, 'existence': 619, 'degree': 463, 'dealing': 456, 'speed': 1676, 'attraction': 126, 'drinking': 536, 'lynch': 1075, 'seek': 1573, 'intellectual': 918, 'stomach': 1717, 'hitchcock': 838, 'cynical': 438, 'morality': 1155, 'competent': 356, 'developing': 491, 'smooth': 1654, 'contrast': 381, 'card': 267, 'faith': 644, 'symbolism': 1780, 'timing': 1835, 'device': 493, 'aforementioned': 54, 'handsome': 800, 'carl': 273, 'spite': 1684, 'dancer': 442, 'rival': 1511, 'ian': 875, 'torn': 1845, 'gordon': 757, 'virtually': 1933, 'gripping': 776, 'chilling': 309, 'visuals': 1936, 'depicted': 475, 'failing': 642, '2001': 14, 'robot': 1515, 'mildly': 1135, 'print': 1365, 'edited': 559, 'dubbed': 545, 'shape': 1600, 'correct': 396, 'dire': 503, 'reasonably': 1431, 'atmospheric': 119, 'involves': 932, 'photographer': 1296, 'ex': 608, 'vacation': 1917, 'sinister': 1634, 'victor': 1926, 'ancient': 86, 'abandoned': 28, 'friendly': 716, 'develops': 492, 'doll': 522, 'performed': 1287, 'deadly': 455, 'slap': 1644, 'suffer': 1752, 'barbara': 140, 'shed': 1603, 'moviethe': 1163, 'dick': 496, 'remark': 1459, 'circle': 319, 'pointed': 1317, 'sin': 1629, 'embarrassed': 574, 'fired': 669, 'roommate': 1522, 'gross': 778, 'cliche': 326, 'italy': 939, 'dennis': 471, 'santa': 1548, 'unexpected': 1894, 'base': 142, 'demand': 469, 'affect': 51, 'buying': 249, 'executive': 616, 'shortly': 1615, 'sunday': 1761, 'originality': 1247, 'prostitute': 1383, 'easier': 553, 'belongs': 159, 'flawless': 675, 'transformation': 1857, 'admire': 46, 'partly': 1276, 'contemporary': 374, 'flash': 673, 'string': 1731, 'ford': 690, 'cooper': 391, 'jean': 952, 'arthur': 110, 'debut': 460, 'warrior': 1953, 'massacre': 1101, 'finale': 666, 'legendary': 1026, 'perfection': 1285, 'excitement': 613, 'plastic': 1312, 'warm': 1948, 'accidentally': 34, 'twin': 1880, 'asleep': 114, 'warned': 1950, 'heck': 822, 'security': 1571, 'guard': 783, 'guessing': 784, 'continuity': 378, 'spike': 1681, 'chosen': 315, 'gritty': 777, 'neighborhood': 1192, 'threat': 1820, 'anger': 92, 'countless': 399, 'proved': 1387, 'comedian': 348, 'prefer': 1343, 'laughter': 1014, '410': 22, 'discovered': 511, 'lower': 1065, 'shelf': 1604, 'blockbuster': 182, 'kubrick': 1001, 'format': 696, 'destroyed': 487, 'homage': 847, 'crude': 424, 'responsible': 1487, 'manage': 1087, 'source': 1667, 'topic': 1844, 'jesus': 959, 'mel': 1116, 'principal': 1364, 'private': 1368, 'trap': 1860, 'harder': 807, 'patient': 1281, 'allowing': 76, 'marie': 1094, 'ryan': 1538, 'strongly': 1734, 'photo': 1294, 'desert': 482, 'unforgettable': 1895, 'hooked': 855, 'identity': 880, 'spectacular': 1674, 'surface': 1767, 'supernatural': 1766, 'superbly': 1763, 'haunted': 816, 'rolling': 1520, 'chair': 289, 'horribly': 859, 'alex': 71, 'surrounding': 1770, 'sudden': 1751, 'mitchell': 1146, 'fame': 648, 'vicious': 1925, 'overcome': 1253, 'von': 1938, 'spooky': 1691, 'largely': 1010, 'obnoxious': 1224, 'blonde': 183, 'pie': 1300, 'grim': 775, 'complicated': 361, 'miserably': 1144, 'develop': 490, 'logic': 1051, 'jail': 945, 'sentence': 1581, 'juvenile': 978, 'bland': 176, 'carol': 274, 'required': 1477, 'wake': 1939, 'danger': 444, 'conversation': 385, 'tall': 1785, 'hitting': 841, 'uninspired': 1899, 'delivery': 468, 'bet': 162, 'bomb': 192, 'discovery': 513, 'mexican': 1126, 'bug': 235, 'dropped': 541, 'mike': 1133, 'cardboard': 268, 'incoherent': 894, 'celebrity': 285, 'theyll': 1815, 'williams': 1975, 'trilogy': 1871, 'carter': 278, 'lloyd': 1048, 'nick': 1199, 'daily': 439, 'contain': 373, 'humorous': 869, 'higher': 833, 'refreshing': 1442, 'margaret': 1092, 'felix': 660, 'joseph': 969, 'denzel': 473, 'washington': 1954, 'charisma': 298, 'happily': 804, 'farce': 650, 'donald': 523, 'africa': 55, 'liberal': 1034, 'cultural': 429, 'glimpse': 746, 'wallace': 1943, 'kevin': 990, 'meaningless': 1111, 'accomplished': 35, 'tradition': 1854, 'relate': 1448, 'pushed': 1402, 'emotionally': 578, 'believed': 156, 'germany': 740, 'settle': 1589, 'mission': 1145, 'outrageous': 1252, 'stopped': 1721, 'couldve': 398, 'cared': 269, 'fish': 670, 'nomination': 1205, 'desperately': 484, 'derek': 479, 'satire': 1551, 'lacked': 1005, 'fly': 682, 'reveal': 1493, 'erotic': 594, 'broad': 224, 'shoulder': 1616, 'harris': 809, 'preview': 1355, 'wilson': 1976, 'holding': 843, 'sympathetic': 1781, 'kung': 1002, 'football': 688, 'serf': 1584, 'ninja': 1200, 'non': 1206, 'method': 1125, 'stan': 1697, 'stood': 1719, 'offered': 1236, 'prize': 1369, 'australia': 129, 'activity': 41, 'talked': 1784, 'poster': 1334, 'clip': 329, 'cousin': 403, 'shop': 1614, 'credible': 418, 'appalling': 101, 'continued': 376, 'touched': 1848, 'matthew': 1107, 'website': 1962, 'jackie': 943, 'chan': 291, 'greek': 772, 'empire': 579, 'prepared': 1346, 'brand': 207, 'rap': 1419, 'sole': 1661, 'advice': 50, 'oil': 1239, 'pose': 1329, 'trade': 1853, 'overdone': 1254, 'politics': 1321, 'accepted': 33, 'border': 196, 'asking': 113, 'producing': 1371, 'toilet': 1840, 'sing': 1631, 'rose': 1524, 'predecessor': 1342, 'instinct': 916, 'stylish': 1740, 'fourth': 702, 'lion': 1043, 'impress': 890, 'stone': 1718, 'stereotypical': 1708, 'notion': 1216, 'norman': 1209, 'offensive': 1235, 'handled': 799, 'delightful': 466, 'ensemble': 585, 'theatrical': 1812, 'crappy': 411, 'spoof': 1690, 'pride': 1358, 'goldberg': 753, 'julie': 974, 'stiller': 1712, 'block': 181, 'monkey': 1151, 'moon': 1153, 'werewolf': 1968, 'mate': 1103, 'breaking': 211, 'suffering': 1754, 'afford': 53, 'target': 1789, 'stretch': 1727, 'burt': 242, 'reynolds': 1501, 'learning': 1023, 'tend': 1802, 'wouldve': 1991, 'min': 1137, 'disgusting': 517, 'hammer': 796, 'tied': 1830, 'letting': 1032, 'ape': 100, 'kim': 992, 'jumping': 975, 'send': 1578, 'suggests': 1756, 'court': 402, 'granted': 766, 'bob': 188, 'sir': 1636, 'pilot': 1303, 'driving': 540, 'placed': 1308, 'neil': 1193, 'simon': 1627, 'uncomfortable': 1888, 'invite': 930, 'burned': 240, 'flynn': 683, 'walter': 1944, 'matthau': 1106, 'ordinary': 1245, 'poignant': 1316, 'rochester': 1516, 'basis': 145, 'timothy': 1836, 'miniseries': 1140, 'merit': 1123, 'test': 1808, 'alan': 67, 'howard': 864, 'taylor': 1792, 'text': 1810, 'melodramatic': 1118, 'france': 705, 'splendid': 1685, 'bo': 186, 'elephant': 570, 'practically': 1338, 'bruce': 232, 'brad': 204, 'pitt': 1306, 'cole': 339, 'terrorist': 1807, 'advantage': 49, 'ice': 876, 'survivor': 1772, 'princess': 1363, 'kidnapped': 991, 'ralph': 1414, 'davy': 452, 'larger': 1011, 'consequence': 369, 'mustsee': 1174, 'worthless': 1989, 'clown': 335, 'insane': 908, 'elvis': 572, 'thomas': 1819, 'shark': 1601, 'tiny': 1837, 'chuck': 317, 'host': 862, 'sitcom': 1637, 'gene': 734, 'facial': 639, 'strike': 1729, 'hysterical': 874, 'kapoor': 980, 'leonard': 1027, 'authentic': 131, 'flawed': 674, 'gate': 733, 'genuine': 738, 'sunshine': 1762, 'boot': 195, 'difficulty': 497, 'walker': 1942, 'lesbian': 1028, 'bedroom': 153, 'repetitive': 1471, 'arnold': 107, 'childrens': 307, 'revolutionary': 1499, 'powell': 1337, 'jake': 946, 'alike': 74, 'technology': 1797, 'occasional': 1229, 'risk': 1509, 'essence': 596, 'consists': 370, 'luke': 1073, 'hood': 853, 'uncle': 1887, 'mask': 1099, 'bright': 219, 'ron': 1521, 'cook': 390, 'parker': 1274, 'shell': 1605, 'controversial': 383, 'report': 1473, 'proper': 1381, 'split': 1686, 'brazil': 210, 'trial': 1868, 'maria': 1093, 'defeat': 462, 'spoken': 1689, 'perform': 1286, 'exploitation': 629, 'mirror': 1142, 'national': 1180, 'nelson': 1194, 'chapter': 294, 'brook': 229, 'warren': 1952, 'parody': 1275, 'searching': 1567, 'nail': 1175, 'freddy': 711, 'argument': 106, 'sun': 1760, 'blown': 184, 'paced': 1259, 'rushed': 1533, 'columbo': 343, 'wealthy': 1959, 'newspaper': 1198, 'discover': 510, 'size': 1639, 'reveals': 1496, 'initially': 904, 'effectively': 564, 'nose': 1211, 'hint': 834, 'captain': 264, 'gas': 732, 'tower': 1850, 'mixed': 1147, 'crisis': 420, 'tap': 1787, 'jimmy': 962, 'singer': 1632, 'fever': 661, 'exists': 620, 'ripoff': 1507, 'countryside': 400, 'riding': 1504, 'pregnant': 1344, 'stronger': 1733, 'realizes': 1428, 'peace': 1284, 'suffered': 1753, 'united': 1903, 'exact': 609, 'skit': 1642, 'youth': 1998, 'function': 721, 'absence': 30, 'subplot': 1741, 'endless': 581, 'universe': 1905, 'african': 56, 'extent': 635, 'eighty': 566, 'proud': 1385, 'ambitious': 85, 'visually': 1935, 'weight': 1965, 'citizen': 321, 'regardless': 1446, 'false': 647, 'focused': 684, 'winner': 1978, 'kelly': 986, 'nearby': 1185, 'march': 1091, 'arrested': 108, 'shower': 1618, 'description': 481, 'cup': 430, 'tea': 1793, 'fx': 724, 'vehicle': 1921, 'lucky': 1069, 'mass': 1100, 'melting': 1119, 'nurse': 1221, 'elderly': 569, 'curtis': 435, 'creates': 414, 'baker': 137, 'ultimate': 1884, 'midnight': 1132, 'chill': 308, 'implausible': 887, 'eve': 603, 'mouse': 1161, 'hall': 792, 'initial': 903, 'wanna': 1945, 'elizabeth': 571, 'continues': 377, 'formula': 697, 'wolf': 1983, 'revolves': 1500, 'commit': 352, 'busy': 246, 'relatively': 1452, 'dig': 498, 'intrigued': 926, 'factory': 641, 'holiday': 844, 'passed': 1277, 'page': 1263, 'wise': 1980, 'cusack': 436, 'associated': 116, 'politically': 1319, 'blank': 177, 'hatred': 815, 'cruise': 426, 'wave': 1956, 'revolution': 1498, 'ear': 552, 'bullet': 237, 'proof': 1378, 'invisible': 929, 'rescue': 1479, 'ton': 1842, 'environment': 591, 'pitch': 1305, 'sympathy': 1782, 'quote': 1406, 'roger': 1518, 'broadway': 226, 'health': 818, 'ticket': 1828, 'sketch': 1640, 'deeper': 461, 'exploration': 630, 'titled': 1839, 'discussion': 515, 'seventy': 1592, 'journalist': 970, 'repeatedly': 1470, 'thrilling': 1823, 'cage': 252, 'kitchen': 994, 'embarrassing': 575, 'depressing': 477, 'miracle': 1141, 'exaggerated': 610, 'porn': 1324, 'hopefully': 857, 'writerdirector': 1996, 'weapon': 1960, 'lou': 1060, 'luck': 1067, 'enjoying': 582, 'appreciated': 104, 'albert': 69, 'intent': 920, 'bin': 167, 'henry': 828, 'prime': 1361, 'charge': 297, 'ingredient': 902, 'buff': 234, 'massive': 1102, 'zone': 1999, 'pool': 1322, 'matrix': 1104, 'pity': 1307, 'thankfully': 1811, 'remote': 1464, 'fatal': 654, 'sends': 1579, 'profound': 1373, 'marvelous': 1098, 'bound': 201, 'catherine': 282, 'redemption': 1438, 'achievement': 40, 'nuclear': 1219, 'fbi': 657, 'theory': 1813, 'directorial': 505, 'daring': 448, 'protect': 1384, 'strip': 1732, 'gonna': 755, 'brady': 205, 'clean': 325, 'dynamic': 551, 'halloween': 793, 'usa': 1912, 'tarzan': 1790, 'caused': 284, 'instant': 914, 'icon': 877, 'hed': 823, 'mgm': 1128, 'department': 474, 'chief': 306, 'imaginative': 886, 'nude': 1220, 'plant': 1311, 'jungle': 976, 'official': 1238, 'veteran': 1923, 'listed': 1046, 'tribe': 1869, 'improved': 891, 'storytelling': 1723, 'harry': 810, 'hamilton': 794, 'returning': 1491, 'dress': 532, 'crack': 407, 'pursuit': 1400, 'stock': 1714, 'physically': 1297, 'triumph': 1874, 'rambo': 1415, 'dawn': 453, 'wing': 1977, 'tongue': 1843, 'atrocious': 120, 'choose': 312, 'assume': 117, 'frankly': 708, 'choreography': 313, 'university': 1906, 'occurred': 1231, 'extraordinary': 636, 'status': 1704, 'gratuitous': 767, 'streisand': 1726, 'ego': 565, 'harvey': 813, 'notably': 1213, 'press': 1349, 'religious': 1456, 'sky': 1643, 'goal': 750, 'inspiring': 912, '910': 26, 'occasionally': 1230, 'flight': 677, 'frequently': 714, 'disease': 516, 'spell': 1677, 'devil': 494, 'spends': 1679, 'pacino': 1260, 'courage': 401, 'nerve': 1196, 'morning': 1157, 'irish': 934, 'adapted': 43, 'attempted': 123, 'incident': 892, 'bringing': 222, 'closer': 331, 'guilt': 787, 'depression': 478, 'spending': 1678, 'exploit': 628, 'companion': 355, 'account': 36, 'poverty': 1336, 'union': 1902, 'reporter': 1474, 'carried': 276, 'kate': 983, 'learns': 1024, 'sacrifice': 1539, 'shine': 1607, 'link': 1042, 'snake': 1655, 'hat': 814, 'ideal': 878, 'urban': 1910, 'recognize': 1436, 'catholic': 283, 'wit': 1981, 'root': 1523, 'teach': 1794, 'lewis': 1033, 'forth': 698, 'liking': 1038, 'laurel': 1016, '20th': 17, 'spring': 1693, 'franchise': 706, 'fitting': 672, 'ship': 1609, 'sandler': 1547, 'response': 1486, 'executed': 614, 'specific': 1673, 'andor': 88, 'section': 1570, 'cutting': 437, 'trek': 1866, 'tree': 1865, 'iii': 884, 'uninteresting': 1901, 'scripted': 1563, '2006': 16, 'dear': 459, 'introduction': 927, 'lily': 1039, 'advance': 48, 'regard': 1444, '1930s': 7, 'corrupt': 397, 'stanwyck': 1700, 'throwing': 1825, 'edition': 560, 'hollow': 845, '1950s': 8, 'concern': 362, 'complain': 358, 'philip': 1293, 'bette': 163, 'obsessed': 1226, 'allows': 77, 'sentimental': 1582, 'naive': 1176, 'position': 1330, 'represents': 1475, 'grey': 774, 'importantly': 889, 'jessica': 958, 'breathtaking': 214, 'carefully': 270, 'eddie': 558, 'murphy': 1170, 'concerning': 363, 'stink': 1713, 'canada': 259, 'ireland': 933, 'north': 1210, 'frame': 704, 'unintentionally': 1900, 'cannibal': 262, 'honor': 852, 'melodrama': 1117, 'campy': 258, 'magazine': 1081, 'spark': 1671, 'jennifer': 954, 'laura': 1015, 'tracy': 1852, 'hang': 801, 'simpson': 1628, 'patrick': 1282, 'steven': 1709, 'structure': 1736, 'andrew': 89, 'hired': 837, 'jaw': 949, 'subsequent': 1743, 'forgettable': 693, 'throat': 1824, 'dirty': 506, 'thief': 1817, 'latest': 1013, 'convinced': 388, 'neck': 1188, 'occurs': 1232, 'blair': 175, 'jon': 968, 'ned': 1189, 'sexually': 1594, 'frightening': 717, 'utter': 1915, 'uneven': 1893, 'demon': 470, 'satan': 1550, 'mexico': 1127, 'duke': 548, 'cube': 428, 'overthetop': 1258, 'lesser': 1030, 'navy': 1183, 'served': 1587, 'communist': 354, 'gentleman': 737, 'harsh': 811, 'criticism': 422, 'piano': 1298, 'soviet': 1669, 'hunting': 872, 'helicopter': 826, 'combat': 344, 'candy': 261, 'roy': 1529, 'speaks': 1672, 'nonexistent': 1208, 'vivid': 1937, 'martial': 1097, 'hong': 851, 'kong': 999, 'identify': 879, 'prejudice': 1345, 'raw': 1422, 'manager': 1088, 'row': 1528, 'helping': 827, 'foster': 701, 'maggie': 1082, 'league': 1021, 'clark': 324, 'typically': 1882, 'jeff': 953, 'eva': 602, 'strictly': 1728, 'sidney': 1622, 'stunt': 1738, 'ruthless': 1537, 'wannabe': 1946, 'prevent': 1354, 'grave': 768, 'forgot': 695, 'walked': 1940, 'coherent': 338, 'picking': 1299, 'glorious': 747, 'strangely': 1724, 'hank': 803, 'andy': 90, 'scheme': 1559, 'hoffman': 842, 'bond': 193, 'trite': 1873, 'population': 1323, 'everyday': 605, 'stanley': 1699, 'keaton': 984, 'futuristic': 723, '3d': 21, 'ken': 987, 'larry': 1012, 'gut': 789, 'ignore': 882, 'fool': 687, '24': 18, 'unconvincing': 1889, 'purely': 1399, 'cheer': 304, 'staff': 1696, 'britain': 223, 'east': 554, 'pressure': 1350, 'eerie': 563, 'shallow': 1599, 'branagh': 206, 'stated': 1702, 'previously': 1356, 'amazingly': 83, 'narration': 1178, 'gotta': 760, 'opened': 1242, 'screening': 1561, 'california': 254, 'sum': 1758, 'outfit': 1251, 'revealing': 1495, 'interpretation': 924, 'investigation': 928, 'ripped': 1508, 'shining': 1608, 'madness': 1078, 'tomato': 1841, 'disbelief': 508, 'blah': 174, 'insulting': 917, 'convoluted': 389, 'scenario': 1558, 'sally': 1544, 'policeman': 1318, 'cinderella': 318, 'stiff': 1711, 'pretentious': 1353, 'spielberg': 1680, 'lucas': 1066, 'reasonable': 1430, 'feed': 659, 'uk': 1883, 'ashamed': 111, 'faced': 638, 'humanity': 868, 'duo': 549, 'viewed': 1929, 'replaced': 1472, 'destruction': 488, 'established': 598, '110': 2, 'lincoln': 1041, 'fonda': 686, 'whilst': 1971, 'necessarily': 1187, 'lawyer': 1018, 'dislike': 518, 'complexity': 360, 'serve': 1586, 'universal': 1904, 'inevitable': 899, 'opposed': 1244, 'samurai': 1545, 'timeless': 1834, 'curiosity': 431, 'mid': 1131, 'forbidden': 689, 'muslim': 1173, 'pleased': 1315, 'rat': 1421, 'em': 573, 'enters': 587, 'mild': 1134, 'aunt': 128, 'titanic': 1838, 'superman': 1765, 'superhero': 1764, 'colorful': 341, '13': 3, 'anime': 93, 'kiss': 993, 'leg': 1025, '18': 6, 'eric': 593, 'contrary': 380, 'pal': 1268, 'regarding': 1445, 'characteristic': 295, 'transition': 1858, 'sings': 1633, 'emma': 577, 'editor': 561, 'jet': 960, 'sullivan': 1757, 'max': 1109, 'generous': 736, 'johnson': 966, 'truck': 1876, 'christ': 316, 'broke': 227, '45': 23, 'virgin': 1932, 'received': 1435, 'fabulous': 637, 'kennedy': 988, 'cabin': 250, 'mickey': 1130, 'lifestyle': 1036, 'ocean': 1233, 'psychotic': 1393, 'audio': 127, 'pirate': 1304, 'mummy': 1166, 'prop': 1379, 'retarded': 1489, 'carrying': 277, 'cameron': 257, 'sink': 1635, 'psychiatrist': 1390, 'task': 1791, 'jealous': 951, 'entertain': 588, 'toy': 1851, 'featured': 658, 'theyve': 1816, 'cruel': 425, 'notorious': 1217, 'noted': 1215, 'beaten': 151, 'characterization': 296, 'lyric': 1076, 'expensive': 621, 'smoke': 1652, 'daniel': 445, 'solve': 1663, 'basement': 144, 'corner': 393, 'achieve': 38, 'involvement': 931, 'modesty': 1149, 'gold': 752, 'mar': 1090, 'believing': 157, 'notable': 1212, 'presentation': 1347, 'jeremy': 955, 'convention': 384, 'attracted': 125, 'lucy': 1070, 'confusion': 366, 'oddly': 1234, 'hook': 854, 'aged': 58, 'sadistic': 1540, 'nerd': 1195, 'prisoner': 1367, 'resemblance': 1481, 'reed': 1440, 'sea': 1564, 'checking': 303, 'rocket': 1517, '911': 27, 'segment': 1575, 'tribute': 1870, 'lisa': 1045, 'practice': 1339, 'racism': 1408, 'castle': 280, 'currently': 433, '2000': 13, 'grandmother': 764, 'walken': 1941, 'inner': 905, 'chasing': 301, 'rebel': 1432, 'captivating': 265, 'credibility': 417, 'soprano': 1665, 'monk': 1150, 'till': 1832, 'fond': 685, 'doc': 521, 'landscape': 1008, 'recall': 1433, 'rage': 1410, 'crafted': 409, 'built': 236, 'creation': 415, 'wizard': 1982, 'frustration': 719, 'sutherland': 1775, 'evident': 607, 'outcome': 1249, 'admittedly': 47, 'fisher': 671, 'delivered': 467, 'carpenter': 275, 'terrifying': 1804, 'obscure': 1225, 'jamie': 947, 'nowadays': 1218, 'ludicrous': 1071, 'striking': 1730, 'burton': 243, 'heston': 831, 'theyd': 1814, 'discus': 514, 'trio': 1872, 'hart': 812, 'rid': 1502, 'ruined': 1531, 'ambition': 84, 'saga': 1542, 'jay': 950, 'turkey': 1878, 'diamond': 495, 'los': 1055, 'connect': 367, '1st': 12, 'successfully': 1749, 'hip': 835, 'mature': 1108, 'handful': 797, 'bride': 216, 'bourne': 202, 'clichéd': 327, 'threatening': 1821, 'enormous': 584, 'disc': 509, 'intensity': 919, 'glover': 749, 'lawrence': 1017, 'nominated': 1204, 'occasion': 1228, 'meaningful': 1110, 'matt': 1105, 'contract': 379, 'grows': 781, 'receive': 1434, 'aka': 64, 'louis': 1061, 'par': 1271, 'appearing': 103, 'twisted': 1881, 'post': 1333, 'funnier': 722, 'emily': 576, 'victoria': 1927, 'duty': 550, 'cheese': 305, 'pun': 1396, 'nazi': 1184, 'estate': 599, 'solo': 1662, 'swedish': 1777, 'politician': 1320, 'entry': 590, 'wayne': 1957, 'outer': 1250, 'sinatra': 1630, 'meat': 1113, 'digital': 499, 'prom': 1376, 'elaborate': 568, 'kane': 979, 'slight': 1649, 'beer': 154, 'blend': 179, 'hitler': 839, 'darkness': 450, 'sean': 1566, 'widmark': 1974, 'moore': 1154, 'virus': 1934, 'bettie': 164, 'subtlety': 1746, 'dentist': 472, 'ruth': 1536, 'drew': 534, 'market': 1095, 'scarecrow': 1556, 'properly': 1382, 'susan': 1773, 'mentally': 1121, 'gradually': 762, 'jewish': 961, 'thumb': 1827, 'barry': 141, 'menacing': 1120, 'summary': 1759, 'gray': 769, 'anna': 95, 'showcase': 1617, 'annie': 97, 'brilliance': 220, 'rain': 1411, 'react': 1424, 'fay': 656, 'performing': 1289, 'silver': 1625, 'wound': 1992, 'starred': 1701, 'vega': 1920, 'struck': 1735, 'winter': 1979, 'contact': 372, 'darker': 449, 'primarily': 1360, 'caine': 253, 'stole': 1715, 'wwii': 1997, 'adequate': 45, 'attached': 121, 'glory': 748, 'seller': 1576, 'worried': 1987, 'promising': 1377, 'innovative': 907, 'flower': 681, 'korean': 1000, 'planning': 1310, 'san': 1546, 'wicked': 1972, 'stooge': 1720, 'combine': 346, 'bone': 194, 'shirt': 1610, 'craig': 410, 'remarkably': 1460, 'miller': 1136, 'realise': 1426, 'boxing': 203, 'lugosi': 1072, 'iron': 935, '1960s': 9, 'montage': 1152, 'aimed': 61, 'museum': 1171, 'explore': 631, 'kenneth': 989, 'dracula': 527, 'recognized': 1437, 'equal': 592, 'inspector': 910, 'mafia': 1080, 'shoe': 1612, 'europe': 601, 'charismatic': 299, 'reel': 1441, 'holmes': 846, 'tame': 1786, 'garbo': 729, 'installment': 913, 'francisco': 707, 'homosexual': 850, 'restaurant': 1488, '2005': 15, 'el': 567, 'item': 940, 'pleasantly': 1314, 'hamlet': 795, 'fancy': 649, 'variety': 1919, 'drivel': 537, 'dignity': 500, 'seed': 1572, 'karen': 981, 'welles': 1967, 'brando': 208, 'kurt': 1003, 'alice': 73, 'resident': 1483, 'brosnan': 230, 'gadget': 725, 'gothic': 759, 'crush': 427, 'stealing': 1707, 'abc': 29, 'backdrop': 135, 'homer': 849, 'russell': 1534, 'financial': 667, 'karloff': 982, 'che': 302, 'seagal': 1565, 'macarthur': 1077, 'gandhi': 727, 'pat': 1279}\n"
          ]
        }
      ]
    },
    {
      "cell_type": "markdown",
      "source": [
        "**TF-IDF Model**"
      ],
      "metadata": {
        "id": "x_I8LkymCOXE"
      }
    },
    {
      "cell_type": "code",
      "source": [
        "tfidfvec = TfidfVectorizer(stop_words = \"english\", min_df = 10, max_df=200, max_features = 2000)"
      ],
      "metadata": {
        "id": "Ntgyw6GSCLLA"
      },
      "execution_count": 44,
      "outputs": []
    },
    {
      "cell_type": "code",
      "source": [
        "x_train_tfidf= tfidfvec.fit_transform(x_train['review']).toarray()\n",
        "x_test_tfidf = tfidfvec.transform(x_test['review']).toarray()"
      ],
      "metadata": {
        "id": "03YYyY7PCqT3"
      },
      "execution_count": 45,
      "outputs": []
    },
    {
      "cell_type": "code",
      "source": [
        "print(tfidfvec.vocabulary_)"
      ],
      "metadata": {
        "colab": {
          "base_uri": "https://localhost:8080/"
        },
        "id": "i0PiW0XTCxNe",
        "outputId": "e5cac3f8-7814-40e2-be62-7466d4db35a5"
      },
      "execution_count": 46,
      "outputs": [
        {
          "output_type": "stream",
          "name": "stdout",
          "text": [
            "{'weakness': 1958, 'destiny': 485, 'murderous': 1169, 'cox': 406, 'scale': 1555, 'afternoon': 57, 'rental': 1466, 'lip': 1044, 'tense': 1803, 'tight': 1831, 'significant': 1623, 'statement': 1703, 'thirty': 1818, 'secretary': 1569, 'bleak': 178, 'enter': 586, 'vincent': 1931, 'ad': 42, 'assistant': 115, 'meeting': 1115, 'hoped': 856, 'sleazy': 1647, 'letter': 1031, 'discovers': 512, 'spy': 1694, 'join': 967, 'gain': 726, 'freedom': 712, 'seat': 1568, 'unlikely': 1907, 'factor': 640, 'sensitive': 1580, 'hearing': 819, 'aid': 59, 'rank': 1418, 'noir': 1202, 'farm': 652, 'lying': 1074, 'burning': 241, 'iti': 941, 'unable': 1885, 'fictional': 662, 'conspiracy': 371, 'internet': 923, 'price': 1357, 'ran': 1416, 'refuse': 1443, 'program': 1374, 'overrated': 1257, 'reader': 1425, '710': 24, 'mainstream': 1085, 'bag': 136, 'thrill': 1822, 'itthe': 942, '25': 19, 'hardcore': 806, 'appropriate': 105, 'critical': 421, 'religion': 1455, 'remaining': 1458, 'acceptable': 32, 'revealed': 1494, 'bbc': 148, 'broadcast': 225, 'bible': 165, 'priest': 1359, 'skin': 1641, '14': 4, 'photographed': 1295, 'closeup': 333, 'portion': 1325, 'imagery': 885, 'grant': 765, 'execution': 615, 'forest': 692, 'painting': 1266, 'bridge': 217, 'wrap': 1993, 'neat': 1186, 'guilty': 788, 'achieved': 39, 'fallen': 646, 'urge': 1911, 'separate': 1583, 'noble': 1201, 'parallel': 1272, 'beast': 150, 'logical': 1052, 'sexuality': 1593, 'fairy': 643, 'surrounded': 1769, 'anne': 96, 'happiness': 805, 'lonely': 1053, 'prince': 1362, 'edward': 562, 'delight': 465, 'helen': 825, 'command': 351, 'innocence': 906, 'australian': 130, 'shy': 1620, 'welcome': 1966, 'arrives': 109, 'brown': 231, 'grab': 761, 'neighbor': 1191, 'bollywood': 191, 'combination': 345, 'godfather': 751, 'portrays': 1328, 'expert': 624, 'grow': 779, 'hugh': 866, 'figured': 664, 'driven': 538, 'competition': 357, 'knight': 996, 'greater': 770, 'uwe': 1916, 'boll': 190, 'downright': 526, 'chain': 288, 'bigger': 166, 'generic': 735, 'forgive': 694, 'stupidity': 1739, 'origin': 1246, 'grew': 773, 'circumstance': 320, 'civil': 322, 'vietnam': 1928, 'beach': 149, 'alright': 79, 'shut': 1619, 'metal': 1124, 'worthwhile': 1990, 'fat': 653, 'cash': 279, 'favor': 655, 'frustrated': 718, 'excited': 612, 'technique': 1796, 'learned': 1022, 'pulling': 1395, 'complaint': 359, 'essential': 597, 'golden': 754, 'satisfying': 1552, 'concert': 364, 'crash': 412, 'mansion': 1089, 'noise': 1203, 'dinner': 501, 'calling': 255, 'halfway': 791, 'gruesome': 782, 'brilliantly': 221, 'gory': 758, 'bore': 197, 'suffers': 1755, 'horrendous': 858, 'realism': 1427, 'overlooked': 1255, 'tape': 1788, 'friday': 715, 'depiction': 476, 'al': 65, 'existed': 618, 'spoil': 1687, 'motivation': 1159, 'resolution': 1484, 'persona': 1291, 'troubled': 1875, 'seven': 1591, 'pound': 1335, 'dawson': 454, 'performer': 1288, 'portraying': 1327, 'quirky': 1405, 'condition': 365, 'woody': 1985, 'tremendous': 1867, 'sold': 1660, 'blind': 180, 'research': 1480, 'pet': 1292, 'upset': 1909, 'dealt': 457, 'jerry': 957, 'covered': 404, 'lane': 1009, 'southern': 1668, 'soap': 1657, 'douglas': 525, 'jr': 971, 'understood': 1892, 'magnificent': 1084, 'temple': 1801, 'warn': 1949, 'grand': 763, 'underrated': 1891, 'fu': 720, 'caricature': 271, 'india': 896, 'alexander': 72, 'underground': 1890, 'wreck': 1994, 'luckily': 1068, 'prove': 1386, 'entertained': 589, 'dressed': 533, 'baseball': 143, 'uniform': 1898, 'bat': 146, 'creator': 416, 'locked': 1050, 'anderson': 87, 'judge': 972, 'davis': 451, 'colonel': 340, 'cliff': 328, 'setup': 1590, 'spoiled': 1688, 'spin': 1682, 'loss': 1059, 'enjoyment': 583, 'st': 1695, 'stolen': 1716, 'vhs': 1924, 'japan': 948, 'path': 1280, 'buried': 238, 'amateurish': 81, 'junk': 977, 'aint': 62, 'fred': 710, 'haunting': 817, 'included': 893, 'paper': 1270, 'translation': 1859, 'tune': 1877, 'colour': 342, 'minimal': 1139, 'slapstick': 1645, 'paris': 1273, 'texas': 1809, 'et': 600, 'lifetime': 1037, 'irritating': 938, 'joey': 964, 'danny': 446, 'raise': 1412, 'instantly': 915, 'shakespeare': 1597, 'medical': 1114, 'stewart': 1710, 'tie': 1829, 'rifle': 1505, 'adding': 44, 'obsession': 1227, 'laid': 1006, 'cowboy': 405, 'fighter': 663, 'bank': 139, 'dan': 441, 'standing': 1698, 'johnny': 965, 'dean': 458, 'finger': 668, 'hudson': 865, 'range': 1417, 'shootout': 1613, '810': 25, 'pushing': 1403, 'hitman': 840, 'giallo': 741, 'explosion': 632, 'broken': 228, 'bottle': 200, 'territory': 1805, 'reminiscent': 1463, 'bird': 168, 'foreign': 691, 'camerawork': 256, 'knife': 995, 'blade': 173, 'repeated': 1469, 'shall': 1598, 'subtitle': 1745, 'appealing': 102, 'ritter': 1510, 'smoking': 1653, 'dorothy': 524, 'murdered': 1167, 'shocked': 1611, 'moviei': 1162, 'sounded': 1666, 'hunt': 870, 'contrived': 382, 'heavily': 821, 'lazy': 1020, 'related': 1449, 'screenwriter': 1562, 'experienced': 622, 'knowledge': 998, 'mere': 1122, 'slightest': 1650, 'fare': 651, 'remotely': 1465, 'vague': 1918, 'presumably': 1351, 'committed': 353, 'explains': 626, 'round': 1526, 'tour': 1849, 'albeit': 68, 'amateur': 80, 'native': 1181, 'brave': 209, 'curious': 432, 'curse': 434, 'psycho': 1391, 'murderer': 1168, 'table': 1783, 'rip': 1506, 'wes': 1969, 'craven': 413, 'fortunately': 699, 'worry': 1988, 'ha': 790, 'oneliners': 1241, 'regret': 1447, 'renting': 1467, 'professor': 1372, 'joan': 963, 'ginger': 743, 'rogers': 1519, 'miscast': 1143, 'heroine': 830, 'astaire': 118, 'burn': 239, 'allen': 75, 'routine': 1527, 'pan': 1269, 'treatment': 1864, 'pleasant': 1313, 'servant': 1585, 'remind': 1462, 'keeping': 985, 'distance': 519, 'painfully': 1264, 'unbelievably': 1886, 'useless': 1913, 'push': 1401, 'crowd': 423, 'directly': 504, 'connected': 368, 'raped': 1420, 'screaming': 1560, 'president': 1348, 'bush': 245, 'speech': 1675, 'sword': 1779, 'relative': 1451, '1980s': 11, 'saturday': 1553, 'wrestling': 1995, 'ted': 1798, 'turner': 1879, 'wide': 1973, 'pro': 1370, 'florida': 679, 'weekend': 1964, 'library': 1035, 'lay': 1019, 'switch': 1778, 'multiple': 1165, 'sloppy': 1651, 'disagree': 507, 'staying': 1706, 'gangster': 728, 'motif': 1158, 'behavior': 155, 'paying': 1283, 'breath': 213, 'naturally': 1182, 'abuse': 31, 'substance': 1744, 'reputation': 1476, 'losing': 1058, 'wasting': 1955, 'precious': 1341, 'ridiculously': 1503, 'propaganda': 1380, 'raised': 1413, 'treated': 1863, 'versus': 1922, 'similarity': 1626, 'craft': 408, 'bmovie': 185, 'interaction': 921, 'genuinely': 739, 'requires': 1478, 'lake': 1007, 'button': 248, 'ed': 557, 'dinosaur': 502, 'evidence': 606, 'passing': 1278, 'boat': 187, 'stranger': 1725, 'drunk': 542, 'endearing': 580, 'shadow': 1595, 'puppet': 1398, 'dragged': 528, 'pair': 1267, 'lovable': 1063, 'majority': 1086, 'beloved': 160, 'affected': 52, 'closing': 334, 'height': 824, '11': 1, 'briefly': 218, 'garden': 730, 'perry': 1290, 'praise': 1340, 'jackson': 944, 'pile': 1302, 'beating': 152, 'scared': 1557, 'sleeping': 1648, 'bus': 244, 'driver': 539, 'grown': 780, 'reduced': 1439, 'reunion': 1492, 'weve': 1970, 'load': 1049, 'sake': 1543, 'overly': 1256, 'babe': 134, 'butt': 247, 'bell': 158, 'pack': 1261, 'wedding': 1963, 'angel': 91, 'hanging': 802, 'safe': 1541, 'irony': 937, 'birth': 169, 'nation': 1179, 'selling': 1577, 'river': 1512, 'dude': 547, 'nut': 1222, 'savage': 1554, 'slave': 1646, 'posse': 1331, 'mindless': 1138, 'balance': 138, 'snow': 1656, 'inept': 898, 'progress': 1375, 'charlie': 300, 'chaplin': 293, 'corpse': 395, 'russian': 1535, 'magical': 1083, 'treasure': 1862, 'gift': 742, 'aired': 63, 'horrific': 861, 'sharp': 1602, 'teeth': 1800, 'eat': 555, 'flesh': 676, 'destroy': 486, 'comfortable': 349, 'seeking': 1574, 'bite': 171, 'knock': 997, 'paint': 1265, 'portrait': 1326, 'sheriff': 1606, 'sidekick': 1621, 'drunken': 543, 'attacked': 122, 'freak': 709, 'leslie': 1029, 'authority': 132, 'birthday': 170, 'mst3k': 1164, 'eating': 556, 'racist': 1409, 'succeed': 1747, 'damage': 440, 'dubbing': 546, 'batman': 147, 'drawing': 530, 'lousy': 1062, 'annoyed': 98, 'robin': 1514, 'handle': 798, 'punch': 1397, 'tim': 1833, 'training': 1856, 'remain': 1457, 'faithful': 645, 'cgi': 287, 'network': 1197, 'huh': 867, 'operation': 1243, 'offering': 1237, 'service': 1588, 'dragon': 529, 'hunter': 871, 'loving': 1064, 'returned': 1490, 'hire': 836, 'hiding': 832, 'designed': 483, 'rob': 1513, 'claire': 323, 'dane': 443, 'awkward': 133, 'socalled': 1658, 'pretend': 1352, 'swear': 1776, 'reached': 1423, 'glenn': 745, 'providing': 1389, 'relief': 1454, 'boredom': 198, 'error': 595, 'ann': 94, 'jerk': 956, 'evening': 604, '310': 20, 'bothered': 199, 'pulled': 1394, 'user': 1914, 'amazed': 82, 'michelle': 1129, 'coach': 336, 'rough': 1525, 'indie': 897, 'dreadful': 531, 'julia': 973, 'greatly': 771, 'international': 922, 'intrigue': 925, 'terror': 1806, 'revelation': 1497, 'anthony': 99, 'guide': 786, 'flow': 680, 'influence': 901, 'changing': 292, 'rush': 1532, 'web': 1961, 'prior': 1366, 'context': 375, 'ignored': 883, 'unfortunate': 1896, 'reallife': 1429, 'closet': 332, 'importance': 888, 'buck': 233, 'china': 310, 'provided': 1388, 'insight': 909, 'chinese': 311, 'technically': 1795, 'survive': 1771, 'village': 1930, 'traditional': 1855, 'asian': 112, 'homeless': 848, 'mob': 1148, 'fortune': 700, 'site': 1638, 'increasingly': 895, 'loses': 1057, 'plague': 1309, 'worker': 1986, 'succeeds': 1748, '1970s': 10, 'inspiration': 911, 'shake': 1596, 'silence': 1624, 'drink': 535, 'object': 1223, 'spanish': 1670, 'accused': 37, 'determined': 489, 'hotel': 863, 'guest': 785, 'brian': 215, 'chose': 314, 'explicit': 627, 'soft': 1659, 'core': 392, 'psychological': 1392, 'deliberately': 464, 'possibility': 1332, 'nancy': 1177, 'filmthe': 665, 'relevant': 1453, '1010': 0, 'canadian': 260, 'distant': 520, 'spiritual': 1683, 'idiotic': 881, 'code': 337, 'closely': 330, 'resembles': 1482, 'suspenseful': 1774, 'exercise': 617, 'challenge': 290, 'trapped': 1861, 'dare': 447, 'cell': 286, 'lab': 1004, 'experiment': 623, 'tedious': 1799, 'sucked': 1750, 'fox': 703, 'cried': 419, 'stayed': 1705, 'heroic': 829, 'thug': 1826, 'mountain': 1160, 'storm': 1722, 'gary': 731, 'bobby': 189, 'goofy': 756, 'quest': 1404, 'loosely': 1054, 'resort': 1485, 'struggling': 1737, 'rubbish': 1530, 'cable': 251, 'needle': 1190, 'subplots': 1742, 'exceptional': 611, 'freeman': 713, 'morgan': 1156, 'combined': 347, 'horrid': 860, 'flop': 678, 'express': 633, 'convey': 386, 'caring': 272, 'measure': 1112, 'surreal': 1768, 'nonetheless': 1207, 'ought': 1248, 'aim': 60, 'comical': 350, 'sophisticated': 1664, 'alltime': 78, 'infamous': 900, 'pig': 1301, 'unrealistic': 1908, 'captured': 266, 'tortured': 1847, 'torture': 1846, 'limit': 1040, '17': 5, 'described': 480, 'unfunny': 1897, 'oliver': 1240, 'hardy': 808, 'marry': 1096, 'sport': 1692, 'glass': 744, 'sarah': 1549, 'dry': 544, 'listening': 1047, 'repeat': 1468, 'packed': 1262, 'corny': 394, 'bitter': 172, 'loser': 1056, 'extended': 634, 'musician': 1172, 'breast': 212, 'album': 70, 'warner': 1951, 'category': 281, 'rachel': 1407, 'ward': 1947, 'heat': 820, 'notch': 1214, 'benefit': 161, 'hype': 873, 'wondered': 1984, 'ironic': 936, 'attempting': 124, 'madonna': 1079, 'remembered': 1461, 'relation': 1450, 'convince': 387, 'ala': 66, 'capable': 263, 'explaining': 625, 'existence': 619, 'degree': 463, 'dealing': 456, 'speed': 1676, 'attraction': 126, 'drinking': 536, 'lynch': 1075, 'seek': 1573, 'intellectual': 918, 'stomach': 1717, 'hitchcock': 838, 'cynical': 438, 'morality': 1155, 'competent': 356, 'developing': 491, 'smooth': 1654, 'contrast': 381, 'card': 267, 'faith': 644, 'symbolism': 1780, 'timing': 1835, 'device': 493, 'aforementioned': 54, 'handsome': 800, 'carl': 273, 'spite': 1684, 'dancer': 442, 'rival': 1511, 'ian': 875, 'torn': 1845, 'gordon': 757, 'virtually': 1933, 'gripping': 776, 'chilling': 309, 'visuals': 1936, 'depicted': 475, 'failing': 642, '2001': 14, 'robot': 1515, 'mildly': 1135, 'print': 1365, 'edited': 559, 'dubbed': 545, 'shape': 1600, 'correct': 396, 'dire': 503, 'reasonably': 1431, 'atmospheric': 119, 'involves': 932, 'photographer': 1296, 'ex': 608, 'vacation': 1917, 'sinister': 1634, 'victor': 1926, 'ancient': 86, 'abandoned': 28, 'friendly': 716, 'develops': 492, 'doll': 522, 'performed': 1287, 'deadly': 455, 'slap': 1644, 'suffer': 1752, 'barbara': 140, 'shed': 1603, 'moviethe': 1163, 'dick': 496, 'remark': 1459, 'circle': 319, 'pointed': 1317, 'sin': 1629, 'embarrassed': 574, 'fired': 669, 'roommate': 1522, 'gross': 778, 'cliche': 326, 'italy': 939, 'dennis': 471, 'santa': 1548, 'unexpected': 1894, 'base': 142, 'demand': 469, 'affect': 51, 'buying': 249, 'executive': 616, 'shortly': 1615, 'sunday': 1761, 'originality': 1247, 'prostitute': 1383, 'easier': 553, 'belongs': 159, 'flawless': 675, 'transformation': 1857, 'admire': 46, 'partly': 1276, 'contemporary': 374, 'flash': 673, 'string': 1731, 'ford': 690, 'cooper': 391, 'jean': 952, 'arthur': 110, 'debut': 460, 'warrior': 1953, 'massacre': 1101, 'finale': 666, 'legendary': 1026, 'perfection': 1285, 'excitement': 613, 'plastic': 1312, 'warm': 1948, 'accidentally': 34, 'twin': 1880, 'asleep': 114, 'warned': 1950, 'heck': 822, 'security': 1571, 'guard': 783, 'guessing': 784, 'continuity': 378, 'spike': 1681, 'chosen': 315, 'gritty': 777, 'neighborhood': 1192, 'threat': 1820, 'anger': 92, 'countless': 399, 'proved': 1387, 'comedian': 348, 'prefer': 1343, 'laughter': 1014, '410': 22, 'discovered': 511, 'lower': 1065, 'shelf': 1604, 'blockbuster': 182, 'kubrick': 1001, 'format': 696, 'destroyed': 487, 'homage': 847, 'crude': 424, 'responsible': 1487, 'manage': 1087, 'source': 1667, 'topic': 1844, 'jesus': 959, 'mel': 1116, 'principal': 1364, 'private': 1368, 'trap': 1860, 'harder': 807, 'patient': 1281, 'allowing': 76, 'marie': 1094, 'ryan': 1538, 'strongly': 1734, 'photo': 1294, 'desert': 482, 'unforgettable': 1895, 'hooked': 855, 'identity': 880, 'spectacular': 1674, 'surface': 1767, 'supernatural': 1766, 'superbly': 1763, 'haunted': 816, 'rolling': 1520, 'chair': 289, 'horribly': 859, 'alex': 71, 'surrounding': 1770, 'sudden': 1751, 'mitchell': 1146, 'fame': 648, 'vicious': 1925, 'overcome': 1253, 'von': 1938, 'spooky': 1691, 'largely': 1010, 'obnoxious': 1224, 'blonde': 183, 'pie': 1300, 'grim': 775, 'complicated': 361, 'miserably': 1144, 'develop': 490, 'logic': 1051, 'jail': 945, 'sentence': 1581, 'juvenile': 978, 'bland': 176, 'carol': 274, 'required': 1477, 'wake': 1939, 'danger': 444, 'conversation': 385, 'tall': 1785, 'hitting': 841, 'uninspired': 1899, 'delivery': 468, 'bet': 162, 'bomb': 192, 'discovery': 513, 'mexican': 1126, 'bug': 235, 'dropped': 541, 'mike': 1133, 'cardboard': 268, 'incoherent': 894, 'celebrity': 285, 'theyll': 1815, 'williams': 1975, 'trilogy': 1871, 'carter': 278, 'lloyd': 1048, 'nick': 1199, 'daily': 439, 'contain': 373, 'humorous': 869, 'higher': 833, 'refreshing': 1442, 'margaret': 1092, 'felix': 660, 'joseph': 969, 'denzel': 473, 'washington': 1954, 'charisma': 298, 'happily': 804, 'farce': 650, 'donald': 523, 'africa': 55, 'liberal': 1034, 'cultural': 429, 'glimpse': 746, 'wallace': 1943, 'kevin': 990, 'meaningless': 1111, 'accomplished': 35, 'tradition': 1854, 'relate': 1448, 'pushed': 1402, 'emotionally': 578, 'believed': 156, 'germany': 740, 'settle': 1589, 'mission': 1145, 'outrageous': 1252, 'stopped': 1721, 'couldve': 398, 'cared': 269, 'fish': 670, 'nomination': 1205, 'desperately': 484, 'derek': 479, 'satire': 1551, 'lacked': 1005, 'fly': 682, 'reveal': 1493, 'erotic': 594, 'broad': 224, 'shoulder': 1616, 'harris': 809, 'preview': 1355, 'wilson': 1976, 'holding': 843, 'sympathetic': 1781, 'kung': 1002, 'football': 688, 'serf': 1584, 'ninja': 1200, 'non': 1206, 'method': 1125, 'stan': 1697, 'stood': 1719, 'offered': 1236, 'prize': 1369, 'australia': 129, 'activity': 41, 'talked': 1784, 'poster': 1334, 'clip': 329, 'cousin': 403, 'shop': 1614, 'credible': 418, 'appalling': 101, 'continued': 376, 'touched': 1848, 'matthew': 1107, 'website': 1962, 'jackie': 943, 'chan': 291, 'greek': 772, 'empire': 579, 'prepared': 1346, 'brand': 207, 'rap': 1419, 'sole': 1661, 'advice': 50, 'oil': 1239, 'pose': 1329, 'trade': 1853, 'overdone': 1254, 'politics': 1321, 'accepted': 33, 'border': 196, 'asking': 113, 'producing': 1371, 'toilet': 1840, 'sing': 1631, 'rose': 1524, 'predecessor': 1342, 'instinct': 916, 'stylish': 1740, 'fourth': 702, 'lion': 1043, 'impress': 890, 'stone': 1718, 'stereotypical': 1708, 'notion': 1216, 'norman': 1209, 'offensive': 1235, 'handled': 799, 'delightful': 466, 'ensemble': 585, 'theatrical': 1812, 'crappy': 411, 'spoof': 1690, 'pride': 1358, 'goldberg': 753, 'julie': 974, 'stiller': 1712, 'block': 181, 'monkey': 1151, 'moon': 1153, 'werewolf': 1968, 'mate': 1103, 'breaking': 211, 'suffering': 1754, 'afford': 53, 'target': 1789, 'stretch': 1727, 'burt': 242, 'reynolds': 1501, 'learning': 1023, 'tend': 1802, 'wouldve': 1991, 'min': 1137, 'disgusting': 517, 'hammer': 796, 'tied': 1830, 'letting': 1032, 'ape': 100, 'kim': 992, 'jumping': 975, 'send': 1578, 'suggests': 1756, 'court': 402, 'granted': 766, 'bob': 188, 'sir': 1636, 'pilot': 1303, 'driving': 540, 'placed': 1308, 'neil': 1193, 'simon': 1627, 'uncomfortable': 1888, 'invite': 930, 'burned': 240, 'flynn': 683, 'walter': 1944, 'matthau': 1106, 'ordinary': 1245, 'poignant': 1316, 'rochester': 1516, 'basis': 145, 'timothy': 1836, 'miniseries': 1140, 'merit': 1123, 'test': 1808, 'alan': 67, 'howard': 864, 'taylor': 1792, 'text': 1810, 'melodramatic': 1118, 'france': 705, 'splendid': 1685, 'bo': 186, 'elephant': 570, 'practically': 1338, 'bruce': 232, 'brad': 204, 'pitt': 1306, 'cole': 339, 'terrorist': 1807, 'advantage': 49, 'ice': 876, 'survivor': 1772, 'princess': 1363, 'kidnapped': 991, 'ralph': 1414, 'davy': 452, 'larger': 1011, 'consequence': 369, 'mustsee': 1174, 'worthless': 1989, 'clown': 335, 'insane': 908, 'elvis': 572, 'thomas': 1819, 'shark': 1601, 'tiny': 1837, 'chuck': 317, 'host': 862, 'sitcom': 1637, 'gene': 734, 'facial': 639, 'strike': 1729, 'hysterical': 874, 'kapoor': 980, 'leonard': 1027, 'authentic': 131, 'flawed': 674, 'gate': 733, 'genuine': 738, 'sunshine': 1762, 'boot': 195, 'difficulty': 497, 'walker': 1942, 'lesbian': 1028, 'bedroom': 153, 'repetitive': 1471, 'arnold': 107, 'childrens': 307, 'revolutionary': 1499, 'powell': 1337, 'jake': 946, 'alike': 74, 'technology': 1797, 'occasional': 1229, 'risk': 1509, 'essence': 596, 'consists': 370, 'luke': 1073, 'hood': 853, 'uncle': 1887, 'mask': 1099, 'bright': 219, 'ron': 1521, 'cook': 390, 'parker': 1274, 'shell': 1605, 'controversial': 383, 'report': 1473, 'proper': 1381, 'split': 1686, 'brazil': 210, 'trial': 1868, 'maria': 1093, 'defeat': 462, 'spoken': 1689, 'perform': 1286, 'exploitation': 629, 'mirror': 1142, 'national': 1180, 'nelson': 1194, 'chapter': 294, 'brook': 229, 'warren': 1952, 'parody': 1275, 'searching': 1567, 'nail': 1175, 'freddy': 711, 'argument': 106, 'sun': 1760, 'blown': 184, 'paced': 1259, 'rushed': 1533, 'columbo': 343, 'wealthy': 1959, 'newspaper': 1198, 'discover': 510, 'size': 1639, 'reveals': 1496, 'initially': 904, 'effectively': 564, 'nose': 1211, 'hint': 834, 'captain': 264, 'gas': 732, 'tower': 1850, 'mixed': 1147, 'crisis': 420, 'tap': 1787, 'jimmy': 962, 'singer': 1632, 'fever': 661, 'exists': 620, 'ripoff': 1507, 'countryside': 400, 'riding': 1504, 'pregnant': 1344, 'stronger': 1733, 'realizes': 1428, 'peace': 1284, 'suffered': 1753, 'united': 1903, 'exact': 609, 'skit': 1642, 'youth': 1998, 'function': 721, 'absence': 30, 'subplot': 1741, 'endless': 581, 'universe': 1905, 'african': 56, 'extent': 635, 'eighty': 566, 'proud': 1385, 'ambitious': 85, 'visually': 1935, 'weight': 1965, 'citizen': 321, 'regardless': 1446, 'false': 647, 'focused': 684, 'winner': 1978, 'kelly': 986, 'nearby': 1185, 'march': 1091, 'arrested': 108, 'shower': 1618, 'description': 481, 'cup': 430, 'tea': 1793, 'fx': 724, 'vehicle': 1921, 'lucky': 1069, 'mass': 1100, 'melting': 1119, 'nurse': 1221, 'elderly': 569, 'curtis': 435, 'creates': 414, 'baker': 137, 'ultimate': 1884, 'midnight': 1132, 'chill': 308, 'implausible': 887, 'eve': 603, 'mouse': 1161, 'hall': 792, 'initial': 903, 'wanna': 1945, 'elizabeth': 571, 'continues': 377, 'formula': 697, 'wolf': 1983, 'revolves': 1500, 'commit': 352, 'busy': 246, 'relatively': 1452, 'dig': 498, 'intrigued': 926, 'factory': 641, 'holiday': 844, 'passed': 1277, 'page': 1263, 'wise': 1980, 'cusack': 436, 'associated': 116, 'politically': 1319, 'blank': 177, 'hatred': 815, 'cruise': 426, 'wave': 1956, 'revolution': 1498, 'ear': 552, 'bullet': 237, 'proof': 1378, 'invisible': 929, 'rescue': 1479, 'ton': 1842, 'environment': 591, 'pitch': 1305, 'sympathy': 1782, 'quote': 1406, 'roger': 1518, 'broadway': 226, 'health': 818, 'ticket': 1828, 'sketch': 1640, 'deeper': 461, 'exploration': 630, 'titled': 1839, 'discussion': 515, 'seventy': 1592, 'journalist': 970, 'repeatedly': 1470, 'thrilling': 1823, 'cage': 252, 'kitchen': 994, 'embarrassing': 575, 'depressing': 477, 'miracle': 1141, 'exaggerated': 610, 'porn': 1324, 'hopefully': 857, 'writerdirector': 1996, 'weapon': 1960, 'lou': 1060, 'luck': 1067, 'enjoying': 582, 'appreciated': 104, 'albert': 69, 'intent': 920, 'bin': 167, 'henry': 828, 'prime': 1361, 'charge': 297, 'ingredient': 902, 'buff': 234, 'massive': 1102, 'zone': 1999, 'pool': 1322, 'matrix': 1104, 'pity': 1307, 'thankfully': 1811, 'remote': 1464, 'fatal': 654, 'sends': 1579, 'profound': 1373, 'marvelous': 1098, 'bound': 201, 'catherine': 282, 'redemption': 1438, 'achievement': 40, 'nuclear': 1219, 'fbi': 657, 'theory': 1813, 'directorial': 505, 'daring': 448, 'protect': 1384, 'strip': 1732, 'gonna': 755, 'brady': 205, 'clean': 325, 'dynamic': 551, 'halloween': 793, 'usa': 1912, 'tarzan': 1790, 'caused': 284, 'instant': 914, 'icon': 877, 'hed': 823, 'mgm': 1128, 'department': 474, 'chief': 306, 'imaginative': 886, 'nude': 1220, 'plant': 1311, 'jungle': 976, 'official': 1238, 'veteran': 1923, 'listed': 1046, 'tribe': 1869, 'improved': 891, 'storytelling': 1723, 'harry': 810, 'hamilton': 794, 'returning': 1491, 'dress': 532, 'crack': 407, 'pursuit': 1400, 'stock': 1714, 'physically': 1297, 'triumph': 1874, 'rambo': 1415, 'dawn': 453, 'wing': 1977, 'tongue': 1843, 'atrocious': 120, 'choose': 312, 'assume': 117, 'frankly': 708, 'choreography': 313, 'university': 1906, 'occurred': 1231, 'extraordinary': 636, 'status': 1704, 'gratuitous': 767, 'streisand': 1726, 'ego': 565, 'harvey': 813, 'notably': 1213, 'press': 1349, 'religious': 1456, 'sky': 1643, 'goal': 750, 'inspiring': 912, '910': 26, 'occasionally': 1230, 'flight': 677, 'frequently': 714, 'disease': 516, 'spell': 1677, 'devil': 494, 'spends': 1679, 'pacino': 1260, 'courage': 401, 'nerve': 1196, 'morning': 1157, 'irish': 934, 'adapted': 43, 'attempted': 123, 'incident': 892, 'bringing': 222, 'closer': 331, 'guilt': 787, 'depression': 478, 'spending': 1678, 'exploit': 628, 'companion': 355, 'account': 36, 'poverty': 1336, 'union': 1902, 'reporter': 1474, 'carried': 276, 'kate': 983, 'learns': 1024, 'sacrifice': 1539, 'shine': 1607, 'link': 1042, 'snake': 1655, 'hat': 814, 'ideal': 878, 'urban': 1910, 'recognize': 1436, 'catholic': 283, 'wit': 1981, 'root': 1523, 'teach': 1794, 'lewis': 1033, 'forth': 698, 'liking': 1038, 'laurel': 1016, '20th': 17, 'spring': 1693, 'franchise': 706, 'fitting': 672, 'ship': 1609, 'sandler': 1547, 'response': 1486, 'executed': 614, 'specific': 1673, 'andor': 88, 'section': 1570, 'cutting': 437, 'trek': 1866, 'tree': 1865, 'iii': 884, 'uninteresting': 1901, 'scripted': 1563, '2006': 16, 'dear': 459, 'introduction': 927, 'lily': 1039, 'advance': 48, 'regard': 1444, '1930s': 7, 'corrupt': 397, 'stanwyck': 1700, 'throwing': 1825, 'edition': 560, 'hollow': 845, '1950s': 8, 'concern': 362, 'complain': 358, 'philip': 1293, 'bette': 163, 'obsessed': 1226, 'allows': 77, 'sentimental': 1582, 'naive': 1176, 'position': 1330, 'represents': 1475, 'grey': 774, 'importantly': 889, 'jessica': 958, 'breathtaking': 214, 'carefully': 270, 'eddie': 558, 'murphy': 1170, 'concerning': 363, 'stink': 1713, 'canada': 259, 'ireland': 933, 'north': 1210, 'frame': 704, 'unintentionally': 1900, 'cannibal': 262, 'honor': 852, 'melodrama': 1117, 'campy': 258, 'magazine': 1081, 'spark': 1671, 'jennifer': 954, 'laura': 1015, 'tracy': 1852, 'hang': 801, 'simpson': 1628, 'patrick': 1282, 'steven': 1709, 'structure': 1736, 'andrew': 89, 'hired': 837, 'jaw': 949, 'subsequent': 1743, 'forgettable': 693, 'throat': 1824, 'dirty': 506, 'thief': 1817, 'latest': 1013, 'convinced': 388, 'neck': 1188, 'occurs': 1232, 'blair': 175, 'jon': 968, 'ned': 1189, 'sexually': 1594, 'frightening': 717, 'utter': 1915, 'uneven': 1893, 'demon': 470, 'satan': 1550, 'mexico': 1127, 'duke': 548, 'cube': 428, 'overthetop': 1258, 'lesser': 1030, 'navy': 1183, 'served': 1587, 'communist': 354, 'gentleman': 737, 'harsh': 811, 'criticism': 422, 'piano': 1298, 'soviet': 1669, 'hunting': 872, 'helicopter': 826, 'combat': 344, 'candy': 261, 'roy': 1529, 'speaks': 1672, 'nonexistent': 1208, 'vivid': 1937, 'martial': 1097, 'hong': 851, 'kong': 999, 'identify': 879, 'prejudice': 1345, 'raw': 1422, 'manager': 1088, 'row': 1528, 'helping': 827, 'foster': 701, 'maggie': 1082, 'league': 1021, 'clark': 324, 'typically': 1882, 'jeff': 953, 'eva': 602, 'strictly': 1728, 'sidney': 1622, 'stunt': 1738, 'ruthless': 1537, 'wannabe': 1946, 'prevent': 1354, 'grave': 768, 'forgot': 695, 'walked': 1940, 'coherent': 338, 'picking': 1299, 'glorious': 747, 'strangely': 1724, 'hank': 803, 'andy': 90, 'scheme': 1559, 'hoffman': 842, 'bond': 193, 'trite': 1873, 'population': 1323, 'everyday': 605, 'stanley': 1699, 'keaton': 984, 'futuristic': 723, '3d': 21, 'ken': 987, 'larry': 1012, 'gut': 789, 'ignore': 882, 'fool': 687, '24': 18, 'unconvincing': 1889, 'purely': 1399, 'cheer': 304, 'staff': 1696, 'britain': 223, 'east': 554, 'pressure': 1350, 'eerie': 563, 'shallow': 1599, 'branagh': 206, 'stated': 1702, 'previously': 1356, 'amazingly': 83, 'narration': 1178, 'gotta': 760, 'opened': 1242, 'screening': 1561, 'california': 254, 'sum': 1758, 'outfit': 1251, 'revealing': 1495, 'interpretation': 924, 'investigation': 928, 'ripped': 1508, 'shining': 1608, 'madness': 1078, 'tomato': 1841, 'disbelief': 508, 'blah': 174, 'insulting': 917, 'convoluted': 389, 'scenario': 1558, 'sally': 1544, 'policeman': 1318, 'cinderella': 318, 'stiff': 1711, 'pretentious': 1353, 'spielberg': 1680, 'lucas': 1066, 'reasonable': 1430, 'feed': 659, 'uk': 1883, 'ashamed': 111, 'faced': 638, 'humanity': 868, 'duo': 549, 'viewed': 1929, 'replaced': 1472, 'destruction': 488, 'established': 598, '110': 2, 'lincoln': 1041, 'fonda': 686, 'whilst': 1971, 'necessarily': 1187, 'lawyer': 1018, 'dislike': 518, 'complexity': 360, 'serve': 1586, 'universal': 1904, 'inevitable': 899, 'opposed': 1244, 'samurai': 1545, 'timeless': 1834, 'curiosity': 431, 'mid': 1131, 'forbidden': 689, 'muslim': 1173, 'pleased': 1315, 'rat': 1421, 'em': 573, 'enters': 587, 'mild': 1134, 'aunt': 128, 'titanic': 1838, 'superman': 1765, 'superhero': 1764, 'colorful': 341, '13': 3, 'anime': 93, 'kiss': 993, 'leg': 1025, '18': 6, 'eric': 593, 'contrary': 380, 'pal': 1268, 'regarding': 1445, 'characteristic': 295, 'transition': 1858, 'sings': 1633, 'emma': 577, 'editor': 561, 'jet': 960, 'sullivan': 1757, 'max': 1109, 'generous': 736, 'johnson': 966, 'truck': 1876, 'christ': 316, 'broke': 227, '45': 23, 'virgin': 1932, 'received': 1435, 'fabulous': 637, 'kennedy': 988, 'cabin': 250, 'mickey': 1130, 'lifestyle': 1036, 'ocean': 1233, 'psychotic': 1393, 'audio': 127, 'pirate': 1304, 'mummy': 1166, 'prop': 1379, 'retarded': 1489, 'carrying': 277, 'cameron': 257, 'sink': 1635, 'psychiatrist': 1390, 'task': 1791, 'jealous': 951, 'entertain': 588, 'toy': 1851, 'featured': 658, 'theyve': 1816, 'cruel': 425, 'notorious': 1217, 'noted': 1215, 'beaten': 151, 'characterization': 296, 'lyric': 1076, 'expensive': 621, 'smoke': 1652, 'daniel': 445, 'solve': 1663, 'basement': 144, 'corner': 393, 'achieve': 38, 'involvement': 931, 'modesty': 1149, 'gold': 752, 'mar': 1090, 'believing': 157, 'notable': 1212, 'presentation': 1347, 'jeremy': 955, 'convention': 384, 'attracted': 125, 'lucy': 1070, 'confusion': 366, 'oddly': 1234, 'hook': 854, 'aged': 58, 'sadistic': 1540, 'nerd': 1195, 'prisoner': 1367, 'resemblance': 1481, 'reed': 1440, 'sea': 1564, 'checking': 303, 'rocket': 1517, '911': 27, 'segment': 1575, 'tribute': 1870, 'lisa': 1045, 'practice': 1339, 'racism': 1408, 'castle': 280, 'currently': 433, '2000': 13, 'grandmother': 764, 'walken': 1941, 'inner': 905, 'chasing': 301, 'rebel': 1432, 'captivating': 265, 'credibility': 417, 'soprano': 1665, 'monk': 1150, 'till': 1832, 'fond': 685, 'doc': 521, 'landscape': 1008, 'recall': 1433, 'rage': 1410, 'crafted': 409, 'built': 236, 'creation': 415, 'wizard': 1982, 'frustration': 719, 'sutherland': 1775, 'evident': 607, 'outcome': 1249, 'admittedly': 47, 'fisher': 671, 'delivered': 467, 'carpenter': 275, 'terrifying': 1804, 'obscure': 1225, 'jamie': 947, 'nowadays': 1218, 'ludicrous': 1071, 'striking': 1730, 'burton': 243, 'heston': 831, 'theyd': 1814, 'discus': 514, 'trio': 1872, 'hart': 812, 'rid': 1502, 'ruined': 1531, 'ambition': 84, 'saga': 1542, 'jay': 950, 'turkey': 1878, 'diamond': 495, 'los': 1055, 'connect': 367, '1st': 12, 'successfully': 1749, 'hip': 835, 'mature': 1108, 'handful': 797, 'bride': 216, 'bourne': 202, 'clichéd': 327, 'threatening': 1821, 'enormous': 584, 'disc': 509, 'intensity': 919, 'glover': 749, 'lawrence': 1017, 'nominated': 1204, 'occasion': 1228, 'meaningful': 1110, 'matt': 1105, 'contract': 379, 'grows': 781, 'receive': 1434, 'aka': 64, 'louis': 1061, 'par': 1271, 'appearing': 103, 'twisted': 1881, 'post': 1333, 'funnier': 722, 'emily': 576, 'victoria': 1927, 'duty': 550, 'cheese': 305, 'pun': 1396, 'nazi': 1184, 'estate': 599, 'solo': 1662, 'swedish': 1777, 'politician': 1320, 'entry': 590, 'wayne': 1957, 'outer': 1250, 'sinatra': 1630, 'meat': 1113, 'digital': 499, 'prom': 1376, 'elaborate': 568, 'kane': 979, 'slight': 1649, 'beer': 154, 'blend': 179, 'hitler': 839, 'darkness': 450, 'sean': 1566, 'widmark': 1974, 'moore': 1154, 'virus': 1934, 'bettie': 164, 'subtlety': 1746, 'dentist': 472, 'ruth': 1536, 'drew': 534, 'market': 1095, 'scarecrow': 1556, 'properly': 1382, 'susan': 1773, 'mentally': 1121, 'gradually': 762, 'jewish': 961, 'thumb': 1827, 'barry': 141, 'menacing': 1120, 'summary': 1759, 'gray': 769, 'anna': 95, 'showcase': 1617, 'annie': 97, 'brilliance': 220, 'rain': 1411, 'react': 1424, 'fay': 656, 'performing': 1289, 'silver': 1625, 'wound': 1992, 'starred': 1701, 'vega': 1920, 'struck': 1735, 'winter': 1979, 'contact': 372, 'darker': 449, 'primarily': 1360, 'caine': 253, 'stole': 1715, 'wwii': 1997, 'adequate': 45, 'attached': 121, 'glory': 748, 'seller': 1576, 'worried': 1987, 'promising': 1377, 'innovative': 907, 'flower': 681, 'korean': 1000, 'planning': 1310, 'san': 1546, 'wicked': 1972, 'stooge': 1720, 'combine': 346, 'bone': 194, 'shirt': 1610, 'craig': 410, 'remarkably': 1460, 'miller': 1136, 'realise': 1426, 'boxing': 203, 'lugosi': 1072, 'iron': 935, '1960s': 9, 'montage': 1152, 'aimed': 61, 'museum': 1171, 'explore': 631, 'kenneth': 989, 'dracula': 527, 'recognized': 1437, 'equal': 592, 'inspector': 910, 'mafia': 1080, 'shoe': 1612, 'europe': 601, 'charismatic': 299, 'reel': 1441, 'holmes': 846, 'tame': 1786, 'garbo': 729, 'installment': 913, 'francisco': 707, 'homosexual': 850, 'restaurant': 1488, '2005': 15, 'el': 567, 'item': 940, 'pleasantly': 1314, 'hamlet': 795, 'fancy': 649, 'variety': 1919, 'drivel': 537, 'dignity': 500, 'seed': 1572, 'karen': 981, 'welles': 1967, 'brando': 208, 'kurt': 1003, 'alice': 73, 'resident': 1483, 'brosnan': 230, 'gadget': 725, 'gothic': 759, 'crush': 427, 'stealing': 1707, 'abc': 29, 'backdrop': 135, 'homer': 849, 'russell': 1534, 'financial': 667, 'karloff': 982, 'che': 302, 'seagal': 1565, 'macarthur': 1077, 'gandhi': 727, 'pat': 1279}\n"
          ]
        }
      ]
    },
    {
      "cell_type": "code",
      "source": [
        "import gensim"
      ],
      "metadata": {
        "id": "Vd_bfIRBD0j5"
      },
      "execution_count": 50,
      "outputs": []
    },
    {
      "cell_type": "code",
      "source": [
        "from nltk import sent_tokenize\n",
        "from gensim.utils import simple_preprocess"
      ],
      "metadata": {
        "id": "9mScHbSLEVUy"
      },
      "execution_count": 51,
      "outputs": []
    },
    {
      "cell_type": "code",
      "source": [
        "story = []\n",
        "for doc in data['review']: #We sentence tokenize our doc then do preprocessing\n",
        "    raw_sent = sent_tokenize(doc)\n",
        "    for sent in raw_sent:\n",
        "        story.append(simple_preprocess(sent))"
      ],
      "metadata": {
        "id": "0wGHs8O9EZEy"
      },
      "execution_count": 52,
      "outputs": []
    },
    {
      "cell_type": "code",
      "source": [
        "#Model Building\n",
        "model = gensim.models.Word2Vec(\n",
        "    window=10,\n",
        " min_count=2\n",
        ")"
      ],
      "metadata": {
        "id": "I7ZyHotXEdId"
      },
      "execution_count": 53,
      "outputs": []
    },
    {
      "cell_type": "code",
      "source": [
        "#Building Vocabulary\n",
        "model.build_vocab(story)"
      ],
      "metadata": {
        "id": "wkrYBH7vEuIp"
      },
      "execution_count": 54,
      "outputs": []
    },
    {
      "cell_type": "code",
      "source": [
        "#Training Model\n",
        "model.train(story, total_examples=model.corpus_count, epochs=model.epochs)"
      ],
      "metadata": {
        "colab": {
          "base_uri": "https://localhost:8080/"
        },
        "id": "Il6lhCZ4FH5J",
        "outputId": "88ea9a2f-8d0d-4bbf-d9de-ff6179bf2439"
      },
      "execution_count": 55,
      "outputs": [
        {
          "output_type": "execute_result",
          "data": {
            "text/plain": [
              "(13864098, 14923370)"
            ]
          },
          "metadata": {},
          "execution_count": 55
        }
      ]
    },
    {
      "cell_type": "code",
      "source": [
        "#no of models in our vocabulary\n",
        "len(model.wv.index_to_key)"
      ],
      "metadata": {
        "colab": {
          "base_uri": "https://localhost:8080/"
        },
        "id": "dwIG4mueFMuL",
        "outputId": "2a2e84ff-0013-4e7b-9951-2a11b8366ee5"
      },
      "execution_count": 57,
      "outputs": [
        {
          "output_type": "execute_result",
          "data": {
            "text/plain": [
              "49807"
            ]
          },
          "metadata": {},
          "execution_count": 57
        }
      ]
    },
    {
      "cell_type": "code",
      "source": [
        "#we created vector for our words, now we will create vector to represent our reviews\n",
        "def document_vector(doc):\n",
        "    # remove out-of-vocabulary words\n",
        "    doc = [word for word in doc.split() if word in model.wv.index_to_key]\n",
        "    return np.mean(model.wv[doc], axis=0)"
      ],
      "metadata": {
        "id": "_Ho-Qon1FWk3"
      },
      "execution_count": 59,
      "outputs": []
    },
    {
      "cell_type": "code",
      "source": [
        "document_vector(data['review'].values[0])"
      ],
      "metadata": {
        "colab": {
          "base_uri": "https://localhost:8080/"
        },
        "id": "ZhdBin2HF4T7",
        "outputId": "3d34bcce-e7db-4b12-de07-cdf898fa338e"
      },
      "execution_count": 60,
      "outputs": [
        {
          "output_type": "execute_result",
          "data": {
            "text/plain": [
              "array([-7.84289896e-01,  7.29521334e-01,  3.27132642e-02, -8.72632489e-02,\n",
              "       -6.22150861e-03, -9.98784155e-02,  2.65368193e-01,  4.47114199e-01,\n",
              "       -1.18527204e-01, -5.25924444e-01,  1.34088799e-01, -4.45482194e-01,\n",
              "        3.05047184e-01,  4.30993408e-01,  4.88942385e-01,  1.46424383e-01,\n",
              "        4.38464314e-01,  2.09677462e-02, -2.08741561e-01, -1.67706579e-01,\n",
              "       -1.02794543e-02,  7.52831995e-02,  1.52264059e-01,  1.01482332e-01,\n",
              "       -4.08209085e-01,  8.75467211e-02, -1.71920866e-01, -3.16670418e-01,\n",
              "       -6.22279942e-04,  1.23986810e-01,  5.49568295e-01, -4.20535624e-01,\n",
              "        2.60540694e-01, -7.82910764e-01,  1.36205196e-01,  4.81343597e-01,\n",
              "       -1.66178033e-01, -1.54090047e-01,  7.06292093e-02, -5.70810854e-01,\n",
              "       -4.06581491e-01, -3.82784277e-01,  3.57339174e-01, -6.03373766e-01,\n",
              "        4.53159362e-02, -2.44773492e-01, -1.33386284e-01,  7.86250085e-02,\n",
              "        1.65167645e-01, -1.84841916e-01,  1.14183232e-01,  2.66915429e-02,\n",
              "       -4.05505925e-01, -1.94488704e-01,  2.09556326e-01,  1.12660214e-01,\n",
              "       -2.67057680e-02, -3.25959086e-01, -6.31532013e-01,  1.98041335e-01,\n",
              "       -2.11747140e-01, -1.82822615e-01,  5.03957808e-01,  3.35709393e-01,\n",
              "       -9.65343043e-02,  3.91589671e-01,  5.14338553e-01,  1.85614794e-01,\n",
              "       -3.31636667e-01,  3.04470390e-01,  2.56874681e-01, -1.63574219e-01,\n",
              "        3.98995250e-01,  4.40690935e-01,  5.78779876e-01,  5.74023604e-01,\n",
              "       -2.78531492e-01,  3.07164073e-01, -3.50936472e-01,  6.08984679e-02,\n",
              "        6.46201074e-02,  2.91049510e-01, -8.37111473e-02,  7.72518814e-01,\n",
              "        4.60821092e-02, -1.43639250e-02,  2.74647716e-02,  2.63517350e-01,\n",
              "        1.90769851e-01, -1.28199518e-01,  9.80811656e-01,  7.54096657e-02,\n",
              "        4.68618602e-01, -4.88192737e-01,  9.47339237e-01,  5.10269642e-01,\n",
              "       -3.87125224e-01, -4.21891421e-01,  4.21458811e-01, -2.36284152e-01],\n",
              "      dtype=float32)"
            ]
          },
          "metadata": {},
          "execution_count": 60
        }
      ]
    },
    {
      "cell_type": "code",
      "source": [
        "from tqdm import tqdm"
      ],
      "metadata": {
        "id": "by66y6bSF8FH"
      },
      "execution_count": 61,
      "outputs": []
    },
    {
      "cell_type": "code",
      "source": [
        "X = []\n",
        "for doc in tqdm(data['review'].values):\n",
        "    X.append(document_vector(doc))"
      ],
      "metadata": {
        "colab": {
          "base_uri": "https://localhost:8080/"
        },
        "id": "m6vGesRhF_1X",
        "outputId": "8ee7c17b-9995-41de-c602-3cddb799f7cc"
      },
      "execution_count": 62,
      "outputs": [
        {
          "output_type": "stream",
          "name": "stderr",
          "text": [
            "100%|██████████| 25000/25000 [12:20<00:00, 33.75it/s]\n"
          ]
        }
      ]
    },
    {
      "cell_type": "code",
      "source": [
        "X = np.array(X)"
      ],
      "metadata": {
        "id": "D6jFOpYTGG8D"
      },
      "execution_count": 63,
      "outputs": []
    },
    {
      "cell_type": "code",
      "source": [
        "X.shape"
      ],
      "metadata": {
        "colab": {
          "base_uri": "https://localhost:8080/"
        },
        "id": "ZMgc6SbfHz8K",
        "outputId": "80e09f03-4898-4c50-ac2e-21ab59322574"
      },
      "execution_count": 64,
      "outputs": [
        {
          "output_type": "execute_result",
          "data": {
            "text/plain": [
              "(25000, 100)"
            ]
          },
          "metadata": {},
          "execution_count": 64
        }
      ]
    },
    {
      "cell_type": "code",
      "source": [
        "Y = data['sentiment']"
      ],
      "metadata": {
        "id": "6JoIH3p8H4Jw"
      },
      "execution_count": 65,
      "outputs": []
    },
    {
      "cell_type": "code",
      "source": [
        "from sklearn.model_selection import train_test_split\n",
        "X_train,X_test,Y_train,Y_test = train_test_split(X,Y,test_size=0.2,random_state=1)"
      ],
      "metadata": {
        "id": "dKHbzWJ7ISlQ"
      },
      "execution_count": 66,
      "outputs": []
    },
    {
      "cell_type": "code",
      "source": [
        "from sklearn.ensemble import RandomForestClassifier\n",
        "from sklearn.metrics import accuracy_score"
      ],
      "metadata": {
        "id": "qXc5VFXtIWxt"
      },
      "execution_count": 68,
      "outputs": []
    },
    {
      "cell_type": "code",
      "source": [
        "rf = RandomForestClassifier()\n",
        "rf.fit(X_train,Y_train)\n",
        "Y_pred = rf.predict(X_test)\n",
        "accuracy_score(Y_test,Y_pred)"
      ],
      "metadata": {
        "colab": {
          "base_uri": "https://localhost:8080/"
        },
        "id": "-Qh51KWEIbUu",
        "outputId": "0eee547f-cf72-44a1-ad82-c778969a90a7"
      },
      "execution_count": 69,
      "outputs": [
        {
          "output_type": "execute_result",
          "data": {
            "text/plain": [
              "0.831"
            ]
          },
          "metadata": {},
          "execution_count": 69
        }
      ]
    },
    {
      "cell_type": "markdown",
      "source": [
        "**Model Building and Evaluation**"
      ],
      "metadata": {
        "id": "jb6oAarwJcrg"
      }
    },
    {
      "cell_type": "markdown",
      "source": [
        "**Logistic Regression**"
      ],
      "metadata": {
        "id": "U2P7ylt3JpjZ"
      }
    },
    {
      "cell_type": "code",
      "source": [
        "from sklearn.linear_model import LogisticRegression\n",
        "lr= LogisticRegression()"
      ],
      "metadata": {
        "id": "VUbrWjoBIyH2"
      },
      "execution_count": 70,
      "outputs": []
    },
    {
      "cell_type": "code",
      "source": [
        "lr.fit(x_train_bow,y_train)\n",
        "y_pred = lr.predict(x_test_bow)"
      ],
      "metadata": {
        "id": "ZFaoxM3GJ--s"
      },
      "execution_count": 71,
      "outputs": []
    },
    {
      "cell_type": "code",
      "source": [
        "from sklearn.metrics import accuracy_score, recall_score, f1_score, confusion_matrix, classification_report\n",
        "accuracy_score(y_test,y_pred)"
      ],
      "metadata": {
        "colab": {
          "base_uri": "https://localhost:8080/"
        },
        "id": "eY4mHYOpKAbS",
        "outputId": "867028cc-6f6b-4b9f-fd30-e240bf11cdb4"
      },
      "execution_count": 72,
      "outputs": [
        {
          "output_type": "execute_result",
          "data": {
            "text/plain": [
              "0.7412"
            ]
          },
          "metadata": {},
          "execution_count": 72
        }
      ]
    },
    {
      "cell_type": "markdown",
      "source": [
        "Using  TF-IDF"
      ],
      "metadata": {
        "id": "TSkyxohTKpJ9"
      }
    },
    {
      "cell_type": "code",
      "source": [
        "lr= LogisticRegression()\n",
        "lr.fit(x_train_tfidf,y_train)"
      ],
      "metadata": {
        "colab": {
          "base_uri": "https://localhost:8080/",
          "height": 74
        },
        "id": "_OJdEtwlKZOc",
        "outputId": "5354ae71-afd6-4082-bd7e-297898da4b63"
      },
      "execution_count": 73,
      "outputs": [
        {
          "output_type": "execute_result",
          "data": {
            "text/plain": [
              "LogisticRegression()"
            ],
            "text/html": [
              "<style>#sk-container-id-1 {color: black;background-color: white;}#sk-container-id-1 pre{padding: 0;}#sk-container-id-1 div.sk-toggleable {background-color: white;}#sk-container-id-1 label.sk-toggleable__label {cursor: pointer;display: block;width: 100%;margin-bottom: 0;padding: 0.3em;box-sizing: border-box;text-align: center;}#sk-container-id-1 label.sk-toggleable__label-arrow:before {content: \"▸\";float: left;margin-right: 0.25em;color: #696969;}#sk-container-id-1 label.sk-toggleable__label-arrow:hover:before {color: black;}#sk-container-id-1 div.sk-estimator:hover label.sk-toggleable__label-arrow:before {color: black;}#sk-container-id-1 div.sk-toggleable__content {max-height: 0;max-width: 0;overflow: hidden;text-align: left;background-color: #f0f8ff;}#sk-container-id-1 div.sk-toggleable__content pre {margin: 0.2em;color: black;border-radius: 0.25em;background-color: #f0f8ff;}#sk-container-id-1 input.sk-toggleable__control:checked~div.sk-toggleable__content {max-height: 200px;max-width: 100%;overflow: auto;}#sk-container-id-1 input.sk-toggleable__control:checked~label.sk-toggleable__label-arrow:before {content: \"▾\";}#sk-container-id-1 div.sk-estimator input.sk-toggleable__control:checked~label.sk-toggleable__label {background-color: #d4ebff;}#sk-container-id-1 div.sk-label input.sk-toggleable__control:checked~label.sk-toggleable__label {background-color: #d4ebff;}#sk-container-id-1 input.sk-hidden--visually {border: 0;clip: rect(1px 1px 1px 1px);clip: rect(1px, 1px, 1px, 1px);height: 1px;margin: -1px;overflow: hidden;padding: 0;position: absolute;width: 1px;}#sk-container-id-1 div.sk-estimator {font-family: monospace;background-color: #f0f8ff;border: 1px dotted black;border-radius: 0.25em;box-sizing: border-box;margin-bottom: 0.5em;}#sk-container-id-1 div.sk-estimator:hover {background-color: #d4ebff;}#sk-container-id-1 div.sk-parallel-item::after {content: \"\";width: 100%;border-bottom: 1px solid gray;flex-grow: 1;}#sk-container-id-1 div.sk-label:hover label.sk-toggleable__label {background-color: #d4ebff;}#sk-container-id-1 div.sk-serial::before {content: \"\";position: absolute;border-left: 1px solid gray;box-sizing: border-box;top: 0;bottom: 0;left: 50%;z-index: 0;}#sk-container-id-1 div.sk-serial {display: flex;flex-direction: column;align-items: center;background-color: white;padding-right: 0.2em;padding-left: 0.2em;position: relative;}#sk-container-id-1 div.sk-item {position: relative;z-index: 1;}#sk-container-id-1 div.sk-parallel {display: flex;align-items: stretch;justify-content: center;background-color: white;position: relative;}#sk-container-id-1 div.sk-item::before, #sk-container-id-1 div.sk-parallel-item::before {content: \"\";position: absolute;border-left: 1px solid gray;box-sizing: border-box;top: 0;bottom: 0;left: 50%;z-index: -1;}#sk-container-id-1 div.sk-parallel-item {display: flex;flex-direction: column;z-index: 1;position: relative;background-color: white;}#sk-container-id-1 div.sk-parallel-item:first-child::after {align-self: flex-end;width: 50%;}#sk-container-id-1 div.sk-parallel-item:last-child::after {align-self: flex-start;width: 50%;}#sk-container-id-1 div.sk-parallel-item:only-child::after {width: 0;}#sk-container-id-1 div.sk-dashed-wrapped {border: 1px dashed gray;margin: 0 0.4em 0.5em 0.4em;box-sizing: border-box;padding-bottom: 0.4em;background-color: white;}#sk-container-id-1 div.sk-label label {font-family: monospace;font-weight: bold;display: inline-block;line-height: 1.2em;}#sk-container-id-1 div.sk-label-container {text-align: center;}#sk-container-id-1 div.sk-container {/* jupyter's `normalize.less` sets `[hidden] { display: none; }` but bootstrap.min.css set `[hidden] { display: none !important; }` so we also need the `!important` here to be able to override the default hidden behavior on the sphinx rendered scikit-learn.org. See: https://github.com/scikit-learn/scikit-learn/issues/21755 */display: inline-block !important;position: relative;}#sk-container-id-1 div.sk-text-repr-fallback {display: none;}</style><div id=\"sk-container-id-1\" class=\"sk-top-container\"><div class=\"sk-text-repr-fallback\"><pre>LogisticRegression()</pre><b>In a Jupyter environment, please rerun this cell to show the HTML representation or trust the notebook. <br />On GitHub, the HTML representation is unable to render, please try loading this page with nbviewer.org.</b></div><div class=\"sk-container\" hidden><div class=\"sk-item\"><div class=\"sk-estimator sk-toggleable\"><input class=\"sk-toggleable__control sk-hidden--visually\" id=\"sk-estimator-id-1\" type=\"checkbox\" checked><label for=\"sk-estimator-id-1\" class=\"sk-toggleable__label sk-toggleable__label-arrow\">LogisticRegression</label><div class=\"sk-toggleable__content\"><pre>LogisticRegression()</pre></div></div></div></div></div>"
            ]
          },
          "metadata": {},
          "execution_count": 73
        }
      ]
    },
    {
      "cell_type": "code",
      "source": [
        "y_pred = lr.predict(x_test_tfidf)\n",
        "accuracy_score(y_test,y_pred)"
      ],
      "metadata": {
        "colab": {
          "base_uri": "https://localhost:8080/"
        },
        "id": "AuGNFZmnKZ3i",
        "outputId": "8286cea1-eced-45e4-f272-35a3fdccccdf"
      },
      "execution_count": 74,
      "outputs": [
        {
          "output_type": "execute_result",
          "data": {
            "text/plain": [
              "0.7538"
            ]
          },
          "metadata": {},
          "execution_count": 74
        }
      ]
    },
    {
      "cell_type": "markdown",
      "source": [
        "**GaussianNB**"
      ],
      "metadata": {
        "id": "un09blSMK6yA"
      }
    },
    {
      "cell_type": "markdown",
      "source": [
        "**Using BOW**"
      ],
      "metadata": {
        "id": "DQuWsQWgLI9K"
      }
    },
    {
      "cell_type": "code",
      "source": [
        "#Gaussian Naive Bayes algorithm\n",
        "from sklearn.naive_bayes import GaussianNB\n",
        "gnb = GaussianNB()\n",
        "\n",
        "gnb.fit(x_train_bow,y_train)"
      ],
      "metadata": {
        "colab": {
          "base_uri": "https://localhost:8080/",
          "height": 74
        },
        "id": "y64PhN3YLIwF",
        "outputId": "2ba761d1-ff7e-47fb-c43e-dbe658b18aec"
      },
      "execution_count": 75,
      "outputs": [
        {
          "output_type": "execute_result",
          "data": {
            "text/plain": [
              "GaussianNB()"
            ],
            "text/html": [
              "<style>#sk-container-id-2 {color: black;background-color: white;}#sk-container-id-2 pre{padding: 0;}#sk-container-id-2 div.sk-toggleable {background-color: white;}#sk-container-id-2 label.sk-toggleable__label {cursor: pointer;display: block;width: 100%;margin-bottom: 0;padding: 0.3em;box-sizing: border-box;text-align: center;}#sk-container-id-2 label.sk-toggleable__label-arrow:before {content: \"▸\";float: left;margin-right: 0.25em;color: #696969;}#sk-container-id-2 label.sk-toggleable__label-arrow:hover:before {color: black;}#sk-container-id-2 div.sk-estimator:hover label.sk-toggleable__label-arrow:before {color: black;}#sk-container-id-2 div.sk-toggleable__content {max-height: 0;max-width: 0;overflow: hidden;text-align: left;background-color: #f0f8ff;}#sk-container-id-2 div.sk-toggleable__content pre {margin: 0.2em;color: black;border-radius: 0.25em;background-color: #f0f8ff;}#sk-container-id-2 input.sk-toggleable__control:checked~div.sk-toggleable__content {max-height: 200px;max-width: 100%;overflow: auto;}#sk-container-id-2 input.sk-toggleable__control:checked~label.sk-toggleable__label-arrow:before {content: \"▾\";}#sk-container-id-2 div.sk-estimator input.sk-toggleable__control:checked~label.sk-toggleable__label {background-color: #d4ebff;}#sk-container-id-2 div.sk-label input.sk-toggleable__control:checked~label.sk-toggleable__label {background-color: #d4ebff;}#sk-container-id-2 input.sk-hidden--visually {border: 0;clip: rect(1px 1px 1px 1px);clip: rect(1px, 1px, 1px, 1px);height: 1px;margin: -1px;overflow: hidden;padding: 0;position: absolute;width: 1px;}#sk-container-id-2 div.sk-estimator {font-family: monospace;background-color: #f0f8ff;border: 1px dotted black;border-radius: 0.25em;box-sizing: border-box;margin-bottom: 0.5em;}#sk-container-id-2 div.sk-estimator:hover {background-color: #d4ebff;}#sk-container-id-2 div.sk-parallel-item::after {content: \"\";width: 100%;border-bottom: 1px solid gray;flex-grow: 1;}#sk-container-id-2 div.sk-label:hover label.sk-toggleable__label {background-color: #d4ebff;}#sk-container-id-2 div.sk-serial::before {content: \"\";position: absolute;border-left: 1px solid gray;box-sizing: border-box;top: 0;bottom: 0;left: 50%;z-index: 0;}#sk-container-id-2 div.sk-serial {display: flex;flex-direction: column;align-items: center;background-color: white;padding-right: 0.2em;padding-left: 0.2em;position: relative;}#sk-container-id-2 div.sk-item {position: relative;z-index: 1;}#sk-container-id-2 div.sk-parallel {display: flex;align-items: stretch;justify-content: center;background-color: white;position: relative;}#sk-container-id-2 div.sk-item::before, #sk-container-id-2 div.sk-parallel-item::before {content: \"\";position: absolute;border-left: 1px solid gray;box-sizing: border-box;top: 0;bottom: 0;left: 50%;z-index: -1;}#sk-container-id-2 div.sk-parallel-item {display: flex;flex-direction: column;z-index: 1;position: relative;background-color: white;}#sk-container-id-2 div.sk-parallel-item:first-child::after {align-self: flex-end;width: 50%;}#sk-container-id-2 div.sk-parallel-item:last-child::after {align-self: flex-start;width: 50%;}#sk-container-id-2 div.sk-parallel-item:only-child::after {width: 0;}#sk-container-id-2 div.sk-dashed-wrapped {border: 1px dashed gray;margin: 0 0.4em 0.5em 0.4em;box-sizing: border-box;padding-bottom: 0.4em;background-color: white;}#sk-container-id-2 div.sk-label label {font-family: monospace;font-weight: bold;display: inline-block;line-height: 1.2em;}#sk-container-id-2 div.sk-label-container {text-align: center;}#sk-container-id-2 div.sk-container {/* jupyter's `normalize.less` sets `[hidden] { display: none; }` but bootstrap.min.css set `[hidden] { display: none !important; }` so we also need the `!important` here to be able to override the default hidden behavior on the sphinx rendered scikit-learn.org. See: https://github.com/scikit-learn/scikit-learn/issues/21755 */display: inline-block !important;position: relative;}#sk-container-id-2 div.sk-text-repr-fallback {display: none;}</style><div id=\"sk-container-id-2\" class=\"sk-top-container\"><div class=\"sk-text-repr-fallback\"><pre>GaussianNB()</pre><b>In a Jupyter environment, please rerun this cell to show the HTML representation or trust the notebook. <br />On GitHub, the HTML representation is unable to render, please try loading this page with nbviewer.org.</b></div><div class=\"sk-container\" hidden><div class=\"sk-item\"><div class=\"sk-estimator sk-toggleable\"><input class=\"sk-toggleable__control sk-hidden--visually\" id=\"sk-estimator-id-2\" type=\"checkbox\" checked><label for=\"sk-estimator-id-2\" class=\"sk-toggleable__label sk-toggleable__label-arrow\">GaussianNB</label><div class=\"sk-toggleable__content\"><pre>GaussianNB()</pre></div></div></div></div></div>"
            ]
          },
          "metadata": {},
          "execution_count": 75
        }
      ]
    },
    {
      "cell_type": "code",
      "source": [
        "y_pred = gnb.predict(x_test_bow)\n",
        "\n",
        "from sklearn.metrics import accuracy_score,confusion_matrix\n",
        "accuracy_score(y_test,y_pred)"
      ],
      "metadata": {
        "colab": {
          "base_uri": "https://localhost:8080/"
        },
        "id": "9-PKb37-Kc99",
        "outputId": "96bf381b-f227-4bb3-f14e-ca002dd721f3"
      },
      "execution_count": 76,
      "outputs": [
        {
          "output_type": "execute_result",
          "data": {
            "text/plain": [
              "0.7036"
            ]
          },
          "metadata": {},
          "execution_count": 76
        }
      ]
    },
    {
      "cell_type": "markdown",
      "source": [
        "Using TF-IDF"
      ],
      "metadata": {
        "id": "cJyUw0CiLbHs"
      }
    },
    {
      "cell_type": "code",
      "source": [
        "gnb = GaussianNB()\n",
        "\n",
        "gnb.fit(x_train_tfidf,y_train)"
      ],
      "metadata": {
        "colab": {
          "base_uri": "https://localhost:8080/",
          "height": 74
        },
        "id": "EeT7EITWLcgg",
        "outputId": "6316252a-5328-458d-c8ed-a18d43d9aa35"
      },
      "execution_count": 77,
      "outputs": [
        {
          "output_type": "execute_result",
          "data": {
            "text/plain": [
              "GaussianNB()"
            ],
            "text/html": [
              "<style>#sk-container-id-3 {color: black;background-color: white;}#sk-container-id-3 pre{padding: 0;}#sk-container-id-3 div.sk-toggleable {background-color: white;}#sk-container-id-3 label.sk-toggleable__label {cursor: pointer;display: block;width: 100%;margin-bottom: 0;padding: 0.3em;box-sizing: border-box;text-align: center;}#sk-container-id-3 label.sk-toggleable__label-arrow:before {content: \"▸\";float: left;margin-right: 0.25em;color: #696969;}#sk-container-id-3 label.sk-toggleable__label-arrow:hover:before {color: black;}#sk-container-id-3 div.sk-estimator:hover label.sk-toggleable__label-arrow:before {color: black;}#sk-container-id-3 div.sk-toggleable__content {max-height: 0;max-width: 0;overflow: hidden;text-align: left;background-color: #f0f8ff;}#sk-container-id-3 div.sk-toggleable__content pre {margin: 0.2em;color: black;border-radius: 0.25em;background-color: #f0f8ff;}#sk-container-id-3 input.sk-toggleable__control:checked~div.sk-toggleable__content {max-height: 200px;max-width: 100%;overflow: auto;}#sk-container-id-3 input.sk-toggleable__control:checked~label.sk-toggleable__label-arrow:before {content: \"▾\";}#sk-container-id-3 div.sk-estimator input.sk-toggleable__control:checked~label.sk-toggleable__label {background-color: #d4ebff;}#sk-container-id-3 div.sk-label input.sk-toggleable__control:checked~label.sk-toggleable__label {background-color: #d4ebff;}#sk-container-id-3 input.sk-hidden--visually {border: 0;clip: rect(1px 1px 1px 1px);clip: rect(1px, 1px, 1px, 1px);height: 1px;margin: -1px;overflow: hidden;padding: 0;position: absolute;width: 1px;}#sk-container-id-3 div.sk-estimator {font-family: monospace;background-color: #f0f8ff;border: 1px dotted black;border-radius: 0.25em;box-sizing: border-box;margin-bottom: 0.5em;}#sk-container-id-3 div.sk-estimator:hover {background-color: #d4ebff;}#sk-container-id-3 div.sk-parallel-item::after {content: \"\";width: 100%;border-bottom: 1px solid gray;flex-grow: 1;}#sk-container-id-3 div.sk-label:hover label.sk-toggleable__label {background-color: #d4ebff;}#sk-container-id-3 div.sk-serial::before {content: \"\";position: absolute;border-left: 1px solid gray;box-sizing: border-box;top: 0;bottom: 0;left: 50%;z-index: 0;}#sk-container-id-3 div.sk-serial {display: flex;flex-direction: column;align-items: center;background-color: white;padding-right: 0.2em;padding-left: 0.2em;position: relative;}#sk-container-id-3 div.sk-item {position: relative;z-index: 1;}#sk-container-id-3 div.sk-parallel {display: flex;align-items: stretch;justify-content: center;background-color: white;position: relative;}#sk-container-id-3 div.sk-item::before, #sk-container-id-3 div.sk-parallel-item::before {content: \"\";position: absolute;border-left: 1px solid gray;box-sizing: border-box;top: 0;bottom: 0;left: 50%;z-index: -1;}#sk-container-id-3 div.sk-parallel-item {display: flex;flex-direction: column;z-index: 1;position: relative;background-color: white;}#sk-container-id-3 div.sk-parallel-item:first-child::after {align-self: flex-end;width: 50%;}#sk-container-id-3 div.sk-parallel-item:last-child::after {align-self: flex-start;width: 50%;}#sk-container-id-3 div.sk-parallel-item:only-child::after {width: 0;}#sk-container-id-3 div.sk-dashed-wrapped {border: 1px dashed gray;margin: 0 0.4em 0.5em 0.4em;box-sizing: border-box;padding-bottom: 0.4em;background-color: white;}#sk-container-id-3 div.sk-label label {font-family: monospace;font-weight: bold;display: inline-block;line-height: 1.2em;}#sk-container-id-3 div.sk-label-container {text-align: center;}#sk-container-id-3 div.sk-container {/* jupyter's `normalize.less` sets `[hidden] { display: none; }` but bootstrap.min.css set `[hidden] { display: none !important; }` so we also need the `!important` here to be able to override the default hidden behavior on the sphinx rendered scikit-learn.org. See: https://github.com/scikit-learn/scikit-learn/issues/21755 */display: inline-block !important;position: relative;}#sk-container-id-3 div.sk-text-repr-fallback {display: none;}</style><div id=\"sk-container-id-3\" class=\"sk-top-container\"><div class=\"sk-text-repr-fallback\"><pre>GaussianNB()</pre><b>In a Jupyter environment, please rerun this cell to show the HTML representation or trust the notebook. <br />On GitHub, the HTML representation is unable to render, please try loading this page with nbviewer.org.</b></div><div class=\"sk-container\" hidden><div class=\"sk-item\"><div class=\"sk-estimator sk-toggleable\"><input class=\"sk-toggleable__control sk-hidden--visually\" id=\"sk-estimator-id-3\" type=\"checkbox\" checked><label for=\"sk-estimator-id-3\" class=\"sk-toggleable__label sk-toggleable__label-arrow\">GaussianNB</label><div class=\"sk-toggleable__content\"><pre>GaussianNB()</pre></div></div></div></div></div>"
            ]
          },
          "metadata": {},
          "execution_count": 77
        }
      ]
    },
    {
      "cell_type": "code",
      "source": [
        "y_pred = gnb.predict(x_test_tfidf)\n",
        "\n",
        "accuracy_score(y_test,y_pred)"
      ],
      "metadata": {
        "colab": {
          "base_uri": "https://localhost:8080/"
        },
        "id": "yciYB4m-Llu9",
        "outputId": "5cd5b1c9-c847-47d4-ad05-e5c6138a9344"
      },
      "execution_count": 78,
      "outputs": [
        {
          "output_type": "execute_result",
          "data": {
            "text/plain": [
              "0.7346"
            ]
          },
          "metadata": {},
          "execution_count": 78
        }
      ]
    },
    {
      "cell_type": "markdown",
      "source": [
        "**RandomForestClassifier**"
      ],
      "metadata": {
        "id": "KMEMhU5tMss2"
      }
    },
    {
      "cell_type": "markdown",
      "source": [
        "**Using BOW**"
      ],
      "metadata": {
        "id": "CRsJT-27MxAc"
      }
    },
    {
      "cell_type": "code",
      "source": [
        "from sklearn.ensemble import RandomForestClassifier\n",
        "rf = RandomForestClassifier()\n",
        "\n",
        "rf.fit(x_train_bow,y_train)\n",
        "y_pred = rf.predict(x_test_bow)\n",
        "accuracy_score(y_test,y_pred)"
      ],
      "metadata": {
        "colab": {
          "base_uri": "https://localhost:8080/"
        },
        "id": "px0zqvF5L6eM",
        "outputId": "43cb6a7a-a088-4b3c-e9a9-cdfbb1ad5904"
      },
      "execution_count": 79,
      "outputs": [
        {
          "output_type": "execute_result",
          "data": {
            "text/plain": [
              "0.727"
            ]
          },
          "metadata": {},
          "execution_count": 79
        }
      ]
    },
    {
      "cell_type": "markdown",
      "source": [
        "**Using TF-IDF**"
      ],
      "metadata": {
        "id": "BMtSpMFXNCCV"
      }
    },
    {
      "cell_type": "code",
      "source": [
        "rf = RandomForestClassifier()\n",
        "\n",
        "rf.fit(x_train_tfidf,y_train)\n",
        "y_pred = rf.predict(x_test_tfidf)\n",
        "accuracy_score(y_test,y_pred)"
      ],
      "metadata": {
        "colab": {
          "base_uri": "https://localhost:8080/"
        },
        "id": "I7f0spBDM61c",
        "outputId": "3fb88256-4e05-48d2-e59c-a3bde2a75c6d"
      },
      "execution_count": 80,
      "outputs": [
        {
          "output_type": "execute_result",
          "data": {
            "text/plain": [
              "0.7362"
            ]
          },
          "metadata": {},
          "execution_count": 80
        }
      ]
    },
    {
      "cell_type": "markdown",
      "source": [
        "Best performing one is Logistic Regression model with TF-IDF feature extraction technique\n",
        "Now, we will try increasing no.of features"
      ],
      "metadata": {
        "id": "vaoWod5qNP4z"
      }
    },
    {
      "cell_type": "code",
      "source": [
        "##With max features = 10000"
      ],
      "metadata": {
        "id": "J2WlidnvNsB7"
      },
      "execution_count": 81,
      "outputs": []
    },
    {
      "cell_type": "code",
      "source": [
        "cv = CountVectorizer(max_features=10000)\n",
        "\n",
        "x_train_bow = cv.fit_transform(x_train['review']).toarray()\n",
        "x_test_bow = cv.transform(x_test['review']).toarray()\n",
        "\n",
        "\n",
        "lr= LogisticRegression()\n",
        "\n",
        "lr.fit(x_train_bow,y_train)\n",
        "y_pred = lr.predict(x_test_bow)\n",
        "accuracy_score(y_test,y_pred)"
      ],
      "metadata": {
        "colab": {
          "base_uri": "https://localhost:8080/"
        },
        "id": "y6RoAg9aNQhR",
        "outputId": "48edc03b-3701-47d8-c232-f9f07b4990a6"
      },
      "execution_count": 82,
      "outputs": [
        {
          "output_type": "stream",
          "name": "stderr",
          "text": [
            "/usr/local/lib/python3.10/dist-packages/sklearn/linear_model/_logistic.py:458: ConvergenceWarning: lbfgs failed to converge (status=1):\n",
            "STOP: TOTAL NO. of ITERATIONS REACHED LIMIT.\n",
            "\n",
            "Increase the number of iterations (max_iter) or scale the data as shown in:\n",
            "    https://scikit-learn.org/stable/modules/preprocessing.html\n",
            "Please also refer to the documentation for alternative solver options:\n",
            "    https://scikit-learn.org/stable/modules/linear_model.html#logistic-regression\n",
            "  n_iter_i = _check_optimize_result(\n"
          ]
        },
        {
          "output_type": "execute_result",
          "data": {
            "text/plain": [
              "0.8616"
            ]
          },
          "metadata": {},
          "execution_count": 82
        }
      ]
    },
    {
      "cell_type": "code",
      "source": [
        "tfidfvec = TfidfVectorizer(max_features=10000)\n",
        "\n",
        "x_train_tfidf = tfidfvec.fit_transform(x_train['review']).toarray()\n",
        "x_test_tfidf = tfidfvec.transform(x_test['review']).toarray()\n",
        "\n",
        "lr= LogisticRegression()\n",
        "\n",
        "lr.fit(x_train_tfidf,y_train)\n",
        "y_pred = lr.predict(x_test_tfidf)\n",
        "accuracy_score(y_test,y_pred)"
      ],
      "metadata": {
        "colab": {
          "base_uri": "https://localhost:8080/"
        },
        "id": "fQ23Xj1NNSag",
        "outputId": "a118b7ef-5ef8-4121-e23b-a27d6b280795"
      },
      "execution_count": 83,
      "outputs": [
        {
          "output_type": "execute_result",
          "data": {
            "text/plain": [
              "0.8856"
            ]
          },
          "metadata": {},
          "execution_count": 83
        }
      ]
    },
    {
      "cell_type": "code",
      "source": [
        "from sklearn.metrics import accuracy_score, recall_score, f1_score, confusion_matrix, classification_report"
      ],
      "metadata": {
        "id": "Si7L3Eb5OL3I"
      },
      "execution_count": 84,
      "outputs": []
    },
    {
      "cell_type": "code",
      "source": [
        "print('The accuracy score is: ', accuracy_score(y_test,y_pred))"
      ],
      "metadata": {
        "colab": {
          "base_uri": "https://localhost:8080/"
        },
        "id": "V-RMKqgIPNyq",
        "outputId": "08540516-1a7b-4b6b-a6de-d2003ed0e848"
      },
      "execution_count": 85,
      "outputs": [
        {
          "output_type": "stream",
          "name": "stdout",
          "text": [
            "The accuracy score is:  0.8856\n"
          ]
        }
      ]
    },
    {
      "cell_type": "code",
      "source": [
        "recall_score(y_test,y_pred)"
      ],
      "metadata": {
        "colab": {
          "base_uri": "https://localhost:8080/"
        },
        "id": "PCVDhPRyPPrg",
        "outputId": "3a7f5066-5014-4abe-9907-dee7f0b246d7"
      },
      "execution_count": 86,
      "outputs": [
        {
          "output_type": "execute_result",
          "data": {
            "text/plain": [
              "0.9012248123271435"
            ]
          },
          "metadata": {},
          "execution_count": 86
        }
      ]
    },
    {
      "cell_type": "code",
      "source": [
        "f1_score(y_test,y_pred)"
      ],
      "metadata": {
        "colab": {
          "base_uri": "https://localhost:8080/"
        },
        "id": "3tJQcMFcPVhV",
        "outputId": "b5e1bfef-cf96-49c5-c473-9002cbfb77cf"
      },
      "execution_count": 87,
      "outputs": [
        {
          "output_type": "execute_result",
          "data": {
            "text/plain": [
              "0.888585897935333"
            ]
          },
          "metadata": {},
          "execution_count": 87
        }
      ]
    },
    {
      "cell_type": "code",
      "source": [
        "confusion_matrix(y_test,y_pred)"
      ],
      "metadata": {
        "colab": {
          "base_uri": "https://localhost:8080/"
        },
        "id": "Ll3aINBvPe7_",
        "outputId": "3753a63e-c757-4c30-d6d6-16d5fbea6547"
      },
      "execution_count": 88,
      "outputs": [
        {
          "output_type": "execute_result",
          "data": {
            "text/plain": [
              "array([[2147,  322],\n",
              "       [ 250, 2281]])"
            ]
          },
          "metadata": {},
          "execution_count": 88
        }
      ]
    },
    {
      "cell_type": "code",
      "source": [
        "print(classification_report(y_test,y_pred))"
      ],
      "metadata": {
        "colab": {
          "base_uri": "https://localhost:8080/"
        },
        "id": "60-NZURwPjaH",
        "outputId": "5f023524-4eb5-46f9-a912-1b73149282bb"
      },
      "execution_count": 89,
      "outputs": [
        {
          "output_type": "stream",
          "name": "stdout",
          "text": [
            "              precision    recall  f1-score   support\n",
            "\n",
            "           0       0.90      0.87      0.88      2469\n",
            "           1       0.88      0.90      0.89      2531\n",
            "\n",
            "    accuracy                           0.89      5000\n",
            "   macro avg       0.89      0.89      0.89      5000\n",
            "weighted avg       0.89      0.89      0.89      5000\n",
            "\n"
          ]
        }
      ]
    },
    {
      "cell_type": "code",
      "source": [
        "import matplotlib.pyplot as plt\n",
        "import seaborn as sns"
      ],
      "metadata": {
        "id": "zvXpZpDLPoD-"
      },
      "execution_count": 91,
      "outputs": []
    },
    {
      "cell_type": "code",
      "source": [
        "  # Calculate the counts of 0s and 1s\n",
        "unique, counts = np.unique(y_pred, return_counts=True)\n",
        "counts_dict = dict(zip(unique, counts))\n",
        "# Define colors for each class\n",
        "colors = ['red', 'green']\n",
        "\n",
        "# Create a bar graph\n",
        "plt.bar(counts_dict.keys(), counts_dict.values(), color=colors)\n",
        "plt.xlabel('Negative reviews or Positive reviews')\n",
        "plt.ylabel('Count')\n",
        "plt.xticks(list(counts_dict.keys()))\n",
        "plt.title('Sentiment of the review')\n",
        "plt.show()"
      ],
      "metadata": {
        "colab": {
          "base_uri": "https://localhost:8080/",
          "height": 472
        },
        "id": "no4cPTDWP6IO",
        "outputId": "8a0ef8ee-1eea-4450-9532-4851b009ef0b"
      },
      "execution_count": 94,
      "outputs": [
        {
          "output_type": "display_data",
          "data": {
            "text/plain": [
              "<Figure size 640x480 with 1 Axes>"
            ],
            "image/png": "[encoded data removed]"
          },
          "metadata": {}
        }
      ]
    },
    {
      "cell_type": "markdown",
      "source": [
        "**We got accuracy for logistic regression model as 88.52% while using TF-IDF feature extraction Technique**"
      ],
      "metadata": {
        "id": "5xkNuS6YQmNS"
      }
    }
  ]
}